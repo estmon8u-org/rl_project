{
 "cells": [
  {
   "cell_type": "markdown",
   "id": "4090813d",
   "metadata": {},
   "source": [
    "# CSC 594: Deep Generative Models Final Project\n",
    "\n",
    "## Team Members\n",
    "- Esteban Montelongo <EMONTEL1@depaul.edu>\n",
    "- Abhaya Basnet <ABASNET@depaul.edu>\n",
    "- James Evarts <JEVARTS@depaul.edu>"
   ]
  },
  {
   "cell_type": "code",
   "execution_count": null,
   "id": "e298e156",
   "metadata": {},
   "outputs": [],
   "source": [
    "# -----------------------------------------------------------\n",
    "# 0. SETUP  – Imports and global configuration\n",
    "# -----------------------------------------------------------\n",
    "\n",
    "# Core scientific stack\n",
    "import os, random, warnings\n",
    "import numpy as np\n",
    "import torch\n",
    "import gymnasium as gym\n",
    "\n",
    "# RL algorithms & helpers\n",
    "from stable_baselines3 import DQN, PPO, A2C\n",
    "from stable_baselines3.common.callbacks import EvalCallback\n",
    "from stable_baselines3.common.env_util import make_vec_env\n",
    "\n",
    "# Hyper-parameter optimisation\n",
    "import optuna\n",
    "\n",
    "# Experiment tracking\n",
    "import wandb\n",
    "\n",
    "# Plotting\n",
    "import matplotlib.pyplot as plt\n",
    "\n",
    "# Optional: torchvision for custom ResNet extractor\n",
    "from torch import nn\n",
    "from torchvision.models import resnet18\n",
    "\n",
    "# ---------- Reproducibility --------------------------------\n",
    "SEED = 42\n",
    "random.seed(SEED)\n",
    "np.random.seed(SEED)\n",
    "torch.manual_seed(SEED)\n",
    "if torch.cuda.is_available():\n",
    "    torch.cuda.manual_seed_all(SEED)\n",
    "\n",
    "# Gymnasium seeding (done once at env creation too)\n",
    "gym.utils.seeding.np_random(SEED)\n",
    "\n",
    "# Make CuDNN deterministic (slower but fully repeatable)\n",
    "torch.backends.cudnn.deterministic = True\n",
    "torch.backends.cudnn.benchmark = False\n",
    "\n",
    "# ---------- Device -----------------------------------------\n",
    "DEVICE = torch.device(\"cuda\" if torch.cuda.is_available() else \"cpu\")\n",
    "print(f\"Using device: {DEVICE}\")\n",
    "\n",
    "# ---------- Global constants -------------------------------\n",
    "ENV_ID = \"CartPole-v1\"      # placeholder until pilot decides\n",
    "TOTAL_STEPS = int(1e6)      # matches proposal\n",
    "RESULTS_DIR = \"outputs\"     # will hold monitor.csv, models, etc.\n",
    "os.makedirs(RESULTS_DIR, exist_ok=True)\n",
    "\n",
    "# ---------- Warning hygiene -------------------------------\n",
    "warnings.filterwarnings(\"ignore\", category=DeprecationWarning)\n"
   ]
  }
 ],
 "metadata": {
  "kernelspec": {
   "display_name": ".venv",
   "language": "python",
   "name": "python3"
  },
  "language_info": {
   "name": "python",
   "version": "3.11.9"
  }
 },
 "nbformat": 4,
 "nbformat_minor": 5
}
