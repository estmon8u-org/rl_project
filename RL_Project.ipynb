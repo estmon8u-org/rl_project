{
 "cells": [
  {
   "cell_type": "markdown",
   "id": "4090813d",
   "metadata": {},
   "source": [
    "# CSC 594: Deep Generative Models Final Project\n",
    "\n",
    "## Comparing RL Algorithms and Hyperparameter Effects in Gymnasium Environments\n",
    "\n",
    "## Team Members\n",
    "- Esteban Montelongo <EMONTEL1@depaul.edu>\n",
    "- Abhaya Basnet <ABASNET@depaul.edu>\n",
    "- James Evarts <JEVARTS@depaul.edu>\n",
    "\n",
    "**Abstract (from Proposal):**\n",
    "> Reinforcement learning (RL) algorithms often perform differently depending on the environment and tuning of their hyperparameters. In this project, we compare three popular RL methods—Deep Q-Networks (DQN), Proximal Policy Optimization (PPO), and Advantage Actor-Critic (A2C)—in a modern Gymnasium environment. We study how different algorithms learn under the same conditions and analyze how tweaking key hyperparameters affects learning speed and final performance. The goal is to provide clear, reproducible insights for practitioners using off-the-shelf RL tools."
   ]
  },
  {
   "cell_type": "code",
   "execution_count": 2,
   "id": "ce0bb490",
   "metadata": {},
   "outputs": [
    {
     "name": "stdout",
     "output_type": "stream",
     "text": [
      "Global SEED set to: 42\n",
      "Using device: cpu\n",
      "Selected Environment ID: ALE/Breakout-v5\n",
      "Default Policy Type for this environment: CnnPolicy\n",
      "Total training steps per run: 100000\n",
      "Number of seeds per algorithm: 3\n",
      "Number of Optuna trials per algorithm: 5\n",
      "Results will be saved in: ./outputs_breakout/\n",
      "Weights & Biases Project Name: csc594_final_project\n",
      "Number of parallel Atari environments (n_envs): 4\n",
      "Number of stacked frames for Atari: 4\n",
      "Warning filters configured.\n",
      "\n",
      "Global setup complete for Breakout.\n"
     ]
    },
    {
     "name": "stderr",
     "output_type": "stream",
     "text": [
      "d:\\workdir\\school_repos\\rl_project\\.venv\\Lib\\site-packages\\google\\protobuf\\runtime_version.py:98: UserWarning: Protobuf gencode version 5.28.1 is exactly one major version older than the runtime version 6.31.1 at api.proto. Please update the gencode to avoid compatibility violations in the next runtime release.\n",
      "  warnings.warn(\n"
     ]
    }
   ],
   "source": [
    "# -----------------------------------------------------------\n",
    "# Section 0: Project Setup – Imports and Global Configuration\n",
    "#\n",
    "# This cell imports necessary libraries and sets up global parameters\n",
    "# aligned with the project proposal dated May 2, 2025, targeting an Atari environment.\n",
    "# -----------------------------------------------------------\n",
    "\n",
    "# --- Core Libraries ---\n",
    "import os\n",
    "import random\n",
    "import time\n",
    "import warnings\n",
    "\n",
    "import ale_py\n",
    "import cv2\n",
    "import gymnasium as gym\n",
    "import numpy as np\n",
    "import torch\n",
    "import matplotlib.pyplot as plt\n",
    "\n",
    "# --- Reinforcement Learning Libraries ---\n",
    "from stable_baselines3 import PPO, A2C, DQN\n",
    "from stable_baselines3.common.env_util import make_atari_env # Specialized for Atari\n",
    "from stable_baselines3.common.vec_env import VecFrameStack, VecTransposeImage # Crucial for Atari\n",
    "from stable_baselines3.common.monitor import Monitor # For wrapping environments\n",
    "from stable_baselines3.common.callbacks import EvalCallback\n",
    "\n",
    "# --- Experiment Tracking & Hyperparameter Optimization ---\n",
    "import wandb\n",
    "from wandb.integration.sb3 import WandbCallback\n",
    "import optuna\n",
    "\n",
    "# --- Optional: Torchvision (if using custom CNNs or its components) ---\n",
    "# from torchvision import models\n",
    "\n",
    "# ===========================================================\n",
    "#               GLOBAL PROJECT CONFIGURATION\n",
    "# ===========================================================\n",
    "\n",
    "# --- 1. Reproducibility ---\n",
    "SEED = 42\n",
    "random.seed(SEED)\n",
    "np.random.seed(SEED)\n",
    "torch.manual_seed(SEED)\n",
    "if torch.cuda.is_available():\n",
    "    torch.cuda.manual_seed_all(SEED)\n",
    "torch.backends.cudnn.deterministic = True\n",
    "torch.backends.cudnn.benchmark = False\n",
    "print(f\"Global SEED set to: {SEED}\")\n",
    "\n",
    "# --- 2. Computational Device ---\n",
    "DEVICE = torch.device(\"cuda\" if torch.cuda.is_available() else \"cpu\")\n",
    "print(f\"Using device: {DEVICE}\")\n",
    "\n",
    "# --- 3. Environment Configuration ---\n",
    "# This requires `pip install gymnasium[atari] gymnasium[accept-rom-license]`\n",
    "ENV_ID = \"ALE/Breakout-v5\"\n",
    "# Default policy for image-based envs like Atari will be \"CnnPolicy\"\n",
    "POLICY_TYPE = \"CnnPolicy\"\n",
    "print(f\"Selected Environment ID: {ENV_ID}\")\n",
    "print(f\"Default Policy Type for this environment: {POLICY_TYPE}\")\n",
    "\n",
    "# --- 4. Training Parameters (from Proposal Section 3.2) ---\n",
    "TOTAL_STEPS = 100000\n",
    "N_SEEDS_PER_ALGO = 3\n",
    "print(f\"Total training steps per run: {TOTAL_STEPS}\")\n",
    "print(f\"Number of seeds per algorithm: {N_SEEDS_PER_ALGO}\")\n",
    "\n",
    "# Optuna trials (from Proposal Section 3.3)\n",
    "N_OPTUNA_TRIALS_PER_ALGO = 5\n",
    "print(f\"Number of Optuna trials per algorithm: {N_OPTUNA_TRIALS_PER_ALGO}\")\n",
    "\n",
    "# --- 5. Output & Logging Configuration ---\n",
    "RESULTS_DIR = \"outputs_breakout\" # Changed to specify breakout\n",
    "os.makedirs(RESULTS_DIR, exist_ok=True)\n",
    "print(f\"Results will be saved in: ./{RESULTS_DIR}/\")\n",
    "\n",
    "# W&B Project Name\n",
    "WANDB_PROJECT_NAME = \"csc594_final_project\"\n",
    "print(f\"Weights & Biases Project Name: {WANDB_PROJECT_NAME}\")\n",
    "\n",
    "# --- 6. Atari Specific Configuration (can be adjusted) ---\n",
    "N_ENVS_ATARI = 4  # Number of parallel Atari environments for make_atari_env\n",
    "                  # Using multiple environments speeds up Atari training significantly.\n",
    "                  # Your proposal mentions \"Each run will last 50,000-100,000 environment steps\"\n",
    "                  # This usually means total steps across all parallel envs.\n",
    "FRAME_STACK_ATARI = 4 # Number of frames to stack\n",
    "print(f\"Number of parallel Atari environments (n_envs): {N_ENVS_ATARI}\")\n",
    "print(f\"Number of stacked frames for Atari: {FRAME_STACK_ATARI}\")\n",
    "\n",
    "# --- 7. Warning Hygiene ---\n",
    "warnings.filterwarnings(\"ignore\", category=UserWarning)\n",
    "warnings.filterwarnings(\"ignore\", category=DeprecationWarning)\n",
    "print(\"Warning filters configured.\")\n",
    "\n",
    "# ===========================================================\n",
    "print(\"\\nGlobal setup complete for Breakout.\")"
   ]
  },
  {
   "cell_type": "markdown",
   "id": "f71be416",
   "metadata": {},
   "source": [
    "## 1. Introduction to Libraries\n",
    "\n",
    "This project utilizes several key Python libraries for reinforcement learning research and development:\n",
    "\n",
    "- **NumPy:** The fundamental package for numerical computation in Python. It's used for handling arrays and matrices, which are essential for representing states (especially image-based observations from Atari), actions, and other data in RL.\n",
    "- **PyTorch:** An open-source deep learning framework. In this project, PyTorch is used by Stable-Baselines3 to define and train the Convolutional Neural Networks (CNNs) that act as policy and/or value functions for our RL agents operating in image-based environments like Atari Breakout. *Note: TensorFlow is not used for neural network implementation in this project, as per course requirements.*\n",
    "- **Gymnasium (formerly OpenAI Gym):** A toolkit for developing and comparing reinforcement learning algorithms. It provides a standardized interface to a wide variety of simulated environments. We will be using an Atari environment (`ALE/Breakout-v5`) from the Arcade Learning Environment (ALE) provided through Gymnasium. This requires the `gymnasium[atari]` extra.\n",
    "- **Stable-Baselines3 (SB3):** A set of reliable implementations of reinforcement learning algorithms in PyTorch. We will be using its implementations of Deep Q-Network (DQN), Proximal Policy Optimization (PPO), and Advantage Actor-Critic (A2C), employing `CnnPolicy` for the Atari environment.\n",
    "- **Optuna:** An automatic hyperparameter optimization framework. It will be used to search for optimal hyperparameters for our RL agents.\n",
    "- **Weights & Biases (W&B):** An MLOps platform for experiment tracking, dataset versioning, and model management. We will use W&B to log training progress, compare different experimental runs, and visualize results.\n",
    "- **Matplotlib:** A comprehensive library for creating static, interactive, and animated visualizations in Python. It will be used to plot learning curves and other relevant metrics.\n",
    "- **Torchvision:** A PyTorch package that consists of popular datasets, model architectures, and common image transformations for computer vision. While SB3's `CnnPolicy` handles much of the network structure, `torchvision` might be referenced if we were to implement highly custom CNN backbones (though the project proposal focuses on SB3 defaults and `policy_kwargs` for network size adjustments).\n",
    "\n",
    "**Installation:**\n",
    "All required libraries and project dependencies are specified in the `requirements.txt` file. Core dependencies can be installed by running `pip install -r requirements.txt` in the activated virtual environment (`.venv`) from the project root."
   ]
  },
  {
   "cell_type": "code",
   "execution_count": 2,
   "id": "782b6329",
   "metadata": {},
   "outputs": [
    {
     "name": "stdout",
     "output_type": "stream",
     "text": [
      "--- Inspecting Raw Environment: ALE/Breakout-v5 ---\n",
      "Raw Observation Space: Box(0, 255, (210, 160, 3), uint8)\n",
      "Raw Action Space: Discrete(4)\n",
      "Raw Action Space Meanings: ['NOOP', 'FIRE', 'RIGHT', 'LEFT']\n",
      "Raw Reward Range: Attribute not directly available on unwrapped env.\n",
      "\n",
      "--- Inspecting Wrapped & Vectorized Environment for Training ---\n",
      "Final (Stacked) Observation Space: Box(0, 255, (84, 84, 4), uint8)\n",
      "  Shape: (84, 84, 4) (NumEnvs, Height, Width, Channels*NumStack) or (NumEnvs, Channels*NumStack, Height, Width)\n",
      "  Data Type: uint8\n",
      "Action Space (from vectorized env): Discrete(4)\n",
      "\n",
      "Sample interaction with final processed environment:\n",
      "  Initial observation shape (final, vectorized, stacked): (4, 84, 84, 4)\n",
      "  Actions taken (vectorized): [np.int64(0), np.int64(3), np.int64(2), np.int64(1)]\n",
      "  Next observation shape (final, vectorized, stacked): (4, 84, 84, 4)\n",
      "  Rewards received (vectorized): [0. 0. 0. 0.]\n",
      "  Dones received (vectorized): [False False False False]\n"
     ]
    }
   ],
   "source": [
    "# Ensure ENV_ID, SEED, N_ENVS_ATARI, FRAME_STACK_ATARI are defined from Section 0\n",
    "# ENV_ID = \"ALE/Breakout-v5\"\n",
    "# POLICY_TYPE = \"CnnPolicy\"\n",
    "# N_ENVS_ATARI = 4\n",
    "# FRAME_STACK_ATARI = 4\n",
    "\n",
    "print(f\"--- Inspecting Raw Environment: {ENV_ID} ---\")\n",
    "# Create a single raw instance for basic inspection\n",
    "raw_env_inspect = gym.make(ENV_ID)\n",
    "print(f\"Raw Observation Space: {raw_env_inspect.observation_space}\")\n",
    "print(f\"Raw Action Space: {raw_env_inspect.action_space}\")\n",
    "print(f\"Raw Action Space Meanings: {raw_env_inspect.unwrapped.get_action_meanings()}\")\n",
    "# Reward range might not be directly available or always accurate for raw Atari\n",
    "if hasattr(raw_env_inspect.unwrapped, 'reward_range'):\n",
    "    print(f\"Raw Reward Range: {raw_env_inspect.unwrapped.reward_range}\")\n",
    "else:\n",
    "    print(f\"Raw Reward Range: Attribute not directly available on unwrapped env.\")\n",
    "raw_env_inspect.close()\n",
    "\n",
    "print(f\"\\n--- Inspecting Wrapped & Vectorized Environment for Training ---\")\n",
    "# Create the environment as it would be used for training with SB3\n",
    "# make_atari_env applies several wrappers.\n",
    "# We'll wrap it with VecTransposeImage before VecFrameStack if make_atari_env doesn't handle final channel order.\n",
    "# However, make_atari_env usually sets up the env correctly for SB3's CnnPolicy.\n",
    "\n",
    "# Create a dummy vectorized environment using make_atari_env\n",
    "# The 'wrapper_kwargs' can be used to pass arguments to wrappers like FrameStack if not done separately\n",
    "# For SB3, VecFrameStack is typically applied *after* make_atari_env.\n",
    "\n",
    "# Step 1: Create multiple Atari environments with standard wrappers\n",
    "vec_env_pre_stack = make_atari_env(ENV_ID, n_envs=N_ENVS_ATARI, seed=SEED)\n",
    "\n",
    "# Step 2: Apply Frame Stacking\n",
    "# VecTransposeImage is often implicitly handled by SB3 CnnPolicy or make_atari_env,\n",
    "# but if obs are (H, W, C*N_STACK), CnnPolicy might expect (N_STACK*C, H, W).\n",
    "# SB3's CnnPolicy usually expects channels-first input. make_atari_env typically\n",
    "# uses LazyFrames which are (H,W,C), and VecFrameStack stacks them along a new channel dim\n",
    "# which SB3 policies then handle.\n",
    "\n",
    "vec_env_final_inspect = VecFrameStack(vec_env_pre_stack, n_stack=FRAME_STACK_ATARI)\n",
    "\n",
    "print(f\"Final (Stacked) Observation Space: {vec_env_final_inspect.observation_space}\")\n",
    "print(f\"  Shape: {vec_env_final_inspect.observation_space.shape} (NumEnvs, Height, Width, Channels*NumStack) or (NumEnvs, Channels*NumStack, Height, Width)\")\n",
    "print(f\"  Data Type: {vec_env_final_inspect.observation_space.dtype}\")\n",
    "print(f\"Action Space (from vectorized env): {vec_env_final_inspect.action_space}\")\n",
    "\n",
    "# Sample interaction with the final vectorized and stacked environment\n",
    "print(\"\\nSample interaction with final processed environment:\")\n",
    "obs_final_vec = vec_env_final_inspect.reset()\n",
    "print(f\"  Initial observation shape (final, vectorized, stacked): {obs_final_vec.shape}\")\n",
    "\n",
    "# For Atari, actions are usually single integers for each env in the vector\n",
    "random_actions = [vec_env_final_inspect.action_space.sample() for _ in range(N_ENVS_ATARI)]\n",
    "next_obs_final_vec, rewards_vec, dones_vec, infos_vec = vec_env_final_inspect.step(random_actions)\n",
    "print(f\"  Actions taken (vectorized): {random_actions}\")\n",
    "print(f\"  Next observation shape (final, vectorized, stacked): {next_obs_final_vec.shape}\")\n",
    "print(f\"  Rewards received (vectorized): {rewards_vec}\")\n",
    "print(f\"  Dones received (vectorized): {dones_vec}\")\n",
    "\n",
    "# Close the vectorized environment\n",
    "vec_env_final_inspect.close() # This will also close vec_env_pre_stack"
   ]
  },
  {
   "cell_type": "markdown",
   "id": "24cf3e37",
   "metadata": {},
   "source": [
    "**Environment Specification (`ALE/Breakout-v5`):**\n",
    "\n",
    "The agent interacts with the Breakout environment, but not in its raw form. Standard preprocessing wrappers provided by `make_atari_env` and `VecFrameStack` are applied to make learning from pixels more efficient and to provide the agent with a sense of motion.\n",
    "\n",
    "**1. Raw Environment Properties:**\n",
    "- **Observation Space:** The raw game screen is a `210x160` pixel RGB image (`(210, 160, 3)`).\n",
    "- **Action Space:** There are `4` discrete actions available.\n",
    "    - `0`: **NOOP** (No Operation) - Does nothing.\n",
    "    - `1`: **FIRE** - Serves a new ball (or does nothing if a ball is already in play).\n",
    "    - `2`: **RIGHT** - Moves the paddle to the right.\n",
    "    - `3`: **LEFT** - Moves the paddle to the left.\n",
    "- **Reward Mechanism:** The agent receives a positive reward for breaking bricks. The score awarded depends on the color/row of the brick.\n",
    "\n",
    "---\n",
    "\n",
    "**2. Final Processed Environment Properties (Input to the Agent):**\n",
    "\n",
    "The raw environment is wrapped and vectorized to create the final input that the agent's `CnnPolicy` receives. This involves several key transformations:\n",
    "\n",
    "- **Image Preprocessing:** `make_atari_env` downsamples the raw `210x160` images to `84x84` and converts them to grayscale (though the channel dimension is kept initially). It also applies other standard Atari wrappers for frame skipping, handling end-of-life conditions, and automatically firing to start an episode.\n",
    "- **Frame Stacking:** `VecFrameStack` stacks `4` consecutive preprocessed frames together. This is crucial as it allows the agent to infer dynamics like the velocity and direction of the ball from a single observation.\n",
    "- **Vectorization:** We are running `4` environments in parallel (`n_envs=4`) to collect more diverse experiences faster.\n",
    "\n",
    "**This results in the following final specification:**\n",
    "\n",
    "- **Final Observation Space:**\n",
    "    - **Type:** Image-like (`Box(0, 255, ..., uint8)`)\n",
    "    - **Shape:** `(4, 84, 84, 4)`\n",
    "        - `4`: The number of parallel environments (`N_ENVS_ATARI`).\n",
    "        - `84`: The height of the preprocessed image.\n",
    "        - `84`: The width of the preprocessed image.\n",
    "        - `4`: The number of stacked grayscale frames (`FRAME_STACK_ATARI`). The agent receives a single 4-channel \"image\" where each channel is a successive grayscale frame.\n",
    "    - **Data Type:** `uint8`\n",
    "\n",
    "- **Final Action Space:**\n",
    "    - **Type:** Remains `Discrete(4)` for each parallel environment. The agent outputs a vector of 4 action choices at each step.\n",
    "\n",
    "The sample interaction confirms these shapes. The agent receives an initial observation batch of shape `(4, 84, 84, 4)`, takes a vector of 4 actions, and receives back a new observation batch of the same shape, along with vectors for rewards and done signals."
   ]
  },
  {
   "cell_type": "markdown",
   "id": "f99e7962",
   "metadata": {},
   "source": [
    "## 2. Model Design and Implementation\n",
    "\n",
    "This section details the architecture of the models used for each reinforcement learning algorithm. We begin with the baseline implementations provided by Stable-Baselines3.\n",
    "\n",
    "### 2.1 Baseline Model Architectures\n",
    "For an image-based environment like `ALE/Breakout-v5`, Stable-Baselines3 defaults to a `CnnPolicy`. This policy uses a Convolutional Neural Network (CNN) to extract meaningful features from the pixel observations (the stacked frames). These features are then passed to a Multi-Layer Perceptron (MLP) which, depending on the algorithm, determines the action probabilities (for the actor) and state values (for the critic).\n",
    "\n",
    "The input to each model will be the processed observation with shape `(N_ENVS, 84, 84, 4)`, as defined in the previous section."
   ]
  },
  {
   "cell_type": "code",
   "execution_count": 3,
   "id": "d5c85570",
   "metadata": {},
   "outputs": [
    {
     "name": "stdout",
     "output_type": "stream",
     "text": [
      "--- Defining Baseline Vectorized Environment for Inspection ---\n",
      "Baseline environment created. Observation space: (84, 84, 4)\n",
      "\n",
      "--- PPO Default Model Architecture ---\n",
      "ActorCriticCnnPolicy(\n",
      "  (features_extractor): NatureCNN(\n",
      "    (cnn): Sequential(\n",
      "      (0): Conv2d(4, 32, kernel_size=(8, 8), stride=(4, 4))\n",
      "      (1): ReLU()\n",
      "      (2): Conv2d(32, 64, kernel_size=(4, 4), stride=(2, 2))\n",
      "      (3): ReLU()\n",
      "      (4): Conv2d(64, 64, kernel_size=(3, 3), stride=(1, 1))\n",
      "      (5): ReLU()\n",
      "      (6): Flatten(start_dim=1, end_dim=-1)\n",
      "    )\n",
      "    (linear): Sequential(\n",
      "      (0): Linear(in_features=3136, out_features=512, bias=True)\n",
      "      (1): ReLU()\n",
      "    )\n",
      "  )\n",
      "  (pi_features_extractor): NatureCNN(\n",
      "    (cnn): Sequential(\n",
      "      (0): Conv2d(4, 32, kernel_size=(8, 8), stride=(4, 4))\n",
      "      (1): ReLU()\n",
      "      (2): Conv2d(32, 64, kernel_size=(4, 4), stride=(2, 2))\n",
      "      (3): ReLU()\n",
      "      (4): Conv2d(64, 64, kernel_size=(3, 3), stride=(1, 1))\n",
      "      (5): ReLU()\n",
      "      (6): Flatten(start_dim=1, end_dim=-1)\n",
      "    )\n",
      "    (linear): Sequential(\n",
      "      (0): Linear(in_features=3136, out_features=512, bias=True)\n",
      "      (1): ReLU()\n",
      "    )\n",
      "  )\n",
      "  (vf_features_extractor): NatureCNN(\n",
      "    (cnn): Sequential(\n",
      "      (0): Conv2d(4, 32, kernel_size=(8, 8), stride=(4, 4))\n",
      "      (1): ReLU()\n",
      "      (2): Conv2d(32, 64, kernel_size=(4, 4), stride=(2, 2))\n",
      "      (3): ReLU()\n",
      "      (4): Conv2d(64, 64, kernel_size=(3, 3), stride=(1, 1))\n",
      "      (5): ReLU()\n",
      "      (6): Flatten(start_dim=1, end_dim=-1)\n",
      "    )\n",
      "    (linear): Sequential(\n",
      "      (0): Linear(in_features=3136, out_features=512, bias=True)\n",
      "      (1): ReLU()\n",
      "    )\n",
      "  )\n",
      "  (mlp_extractor): MlpExtractor(\n",
      "    (policy_net): Sequential()\n",
      "    (value_net): Sequential()\n",
      "  )\n",
      "  (action_net): Linear(in_features=512, out_features=4, bias=True)\n",
      "  (value_net): Linear(in_features=512, out_features=1, bias=True)\n",
      ")\n",
      "\n",
      "--- PPO Small Test Case ---\n",
      "Initial Observation Shape (PPO): (4, 84, 84, 4)\n",
      "Predicted Actions (PPO): [1 1 1 1]\n"
     ]
    }
   ],
   "source": [
    "# Ensure global variables from Section 0 are available:\n",
    "# ENV_ID, POLICY_TYPE, SEED, DEVICE, N_ENVS_ATARI, FRAME_STACK_ATARI\n",
    "\n",
    "print(\"--- Defining Baseline Vectorized Environment for Inspection ---\")\n",
    "# We create the fully processed environment once here for inspection.\n",
    "# This is the same setup that will be used for training all baseline models.\n",
    "# make_atari_env handles the standard Atari preprocessing wrappers.\n",
    "vec_env_baseline = make_atari_env(ENV_ID, n_envs=N_ENVS_ATARI, seed=SEED)\n",
    "# VecFrameStack stacks consecutive frames, crucial for inferring dynamics.\n",
    "vec_env_baseline = VecFrameStack(vec_env_baseline, n_stack=FRAME_STACK_ATARI)\n",
    "print(f\"Baseline environment created. Observation space: {vec_env_baseline.observation_space.shape}\")\n",
    "\n",
    "# --- PPO Baseline Model (CnnPolicy) ---\n",
    "print(\"\\n--- PPO Default Model Architecture ---\")\n",
    "# Instantiate the default PPO agent with CnnPolicy\n",
    "model_ppo_default = PPO(\n",
    "    POLICY_TYPE, # \"CnnPolicy\"\n",
    "    vec_env_baseline,\n",
    "    verbose=0,\n",
    "    seed=SEED,\n",
    "    device=DEVICE\n",
    ")\n",
    "\n",
    "# Print the policy structure to see the CNN and MLP layers\n",
    "print(model_ppo_default.policy)\n",
    "\n",
    "# --- PPO Small Test Case ---\n",
    "print(\"\\n--- PPO Small Test Case ---\")\n",
    "obs_ppo = vec_env_baseline.reset()\n",
    "print(f\"Initial Observation Shape (PPO): {obs_ppo.shape}\")\n",
    "\n",
    "# Get a deterministic action from the untrained policy\n",
    "action_ppo, _states_ppo = model_ppo_default.predict(obs_ppo, deterministic=True)\n",
    "\n",
    "print(f\"Predicted Actions (PPO): {action_ppo}\") # One action for each of the N_ENVS_ATARI environments"
   ]
  },
  {
   "cell_type": "markdown",
   "id": "bdc3f6d2",
   "metadata": {},
   "source": [
    "**PPO Default Architecture (`CnnPolicy`) Interpretation:**\n",
    "\n",
    "The default `CnnPolicy` for PPO in Stable-Baselines3 is built around the well-known \"Nature-CNN\" architecture, originally used in the \"Playing Atari with Deep Reinforcement Learning\" paper by DeepMind.\n",
    "\n",
    "-   **Feature Extractor (`features_extractor`):** This is the core of the policy and is an instance of `NatureCNN`. It processes the stacked `(84, 84, 4)` image observations to extract a high-level feature vector. It consists of two parts:\n",
    "    -   **Convolutional Layers (`cnn`):** A sequence of three convolutional layers that detect spatial features in the images.\n",
    "        1.  `Conv2d`: Takes `4` input channels (the stacked frames), applies `32` filters of size `8x8` with a stride of `4`.\n",
    "        2.  `ReLU` activation.\n",
    "        3.  `Conv2d`: Takes the `32` feature maps, applies `64` filters of size `4x4` with a stride of `2`.\n",
    "        4.  `ReLU` activation.\n",
    "        5.  `Conv2d`: Takes the `64` feature maps, applies `64` filters of size `3x3` with a stride of `1`.\n",
    "        6.  `ReLU` activation.\n",
    "        7.  `Flatten`: The output feature maps are flattened into a single long vector.\n",
    "    -   **Linear Layer (`linear`):** A fully connected layer that follows the convolutions.\n",
    "        1.  `Linear`: Takes the flattened vector (with `3136` features) and maps it down to a `512`-dimensional feature vector.\n",
    "        2.  `ReLU` activation.\n",
    "    The final `512`-dimensional vector is the feature representation of the input state.\n",
    "\n",
    "-   **Policy and Value Feature Extractors (`pi_features_extractor`, `vf_features_extractor`):**\n",
    "    -   In this default configuration for PPO, both the policy (actor) and value (critic) networks use their own separate instances of the same `NatureCNN` architecture. They do not share weights at the convolutional or initial linear layer level.\n",
    "\n",
    "-   **MLP Extractor (`mlp_extractor`):**\n",
    "    -   This component is empty (`Sequential()`) for the `CnnPolicy`. This is because the `NatureCNN` features_extractor already produces the final high-level feature vector (of size 512), so no further shared MLP processing is needed.\n",
    "\n",
    "-   **Action Head (`action_net`):**\n",
    "    -   This is the final Linear layer for the actor. It takes the `512`-dimensional feature vector produced by the `pi_features_extractor` and maps it to `out_features=4`. These 4 output values correspond to the logits for the four discrete actions in `ALE/Breakout-v5`.\n",
    "\n",
    "-   **Value Head (`value_net`):**\n",
    "    -   This is the final Linear layer for the critic. It takes the `512`-dimensional feature vector produced by the `vf_features_extractor` and maps it to `out_features=1`, representing the estimated value of the current state.\n",
    "\n",
    "**Summary of Input/Output:**\n",
    "-   **Input:** The network takes a batch of stacked image observations with shape `(N, 84, 84, 4)`.\n",
    "-   **Actor Output:** The `action_net` produces 4 values (logits) for each observation, from which action probabilities for the 4 possible Breakout actions are derived.\n",
    "-   **Critic Output:** The final `value_net` produces a single scalar value for each observation, representing the estimated utility of that state.\n",
    "\n",
    "The test case (`--- PPO Small Test Case ---`) confirms that the instantiated PPO model can process a batch of 4 initial observations (one for each parallel environment) and predict a corresponding batch of 4 discrete actions."
   ]
  },
  {
   "cell_type": "code",
   "execution_count": 4,
   "id": "2167b6e4",
   "metadata": {},
   "outputs": [
    {
     "name": "stdout",
     "output_type": "stream",
     "text": [
      "\n",
      "--- A2C Default Model Architecture ---\n",
      "ActorCriticCnnPolicy(\n",
      "  (features_extractor): NatureCNN(\n",
      "    (cnn): Sequential(\n",
      "      (0): Conv2d(4, 32, kernel_size=(8, 8), stride=(4, 4))\n",
      "      (1): ReLU()\n",
      "      (2): Conv2d(32, 64, kernel_size=(4, 4), stride=(2, 2))\n",
      "      (3): ReLU()\n",
      "      (4): Conv2d(64, 64, kernel_size=(3, 3), stride=(1, 1))\n",
      "      (5): ReLU()\n",
      "      (6): Flatten(start_dim=1, end_dim=-1)\n",
      "    )\n",
      "    (linear): Sequential(\n",
      "      (0): Linear(in_features=3136, out_features=512, bias=True)\n",
      "      (1): ReLU()\n",
      "    )\n",
      "  )\n",
      "  (pi_features_extractor): NatureCNN(\n",
      "    (cnn): Sequential(\n",
      "      (0): Conv2d(4, 32, kernel_size=(8, 8), stride=(4, 4))\n",
      "      (1): ReLU()\n",
      "      (2): Conv2d(32, 64, kernel_size=(4, 4), stride=(2, 2))\n",
      "      (3): ReLU()\n",
      "      (4): Conv2d(64, 64, kernel_size=(3, 3), stride=(1, 1))\n",
      "      (5): ReLU()\n",
      "      (6): Flatten(start_dim=1, end_dim=-1)\n",
      "    )\n",
      "    (linear): Sequential(\n",
      "      (0): Linear(in_features=3136, out_features=512, bias=True)\n",
      "      (1): ReLU()\n",
      "    )\n",
      "  )\n",
      "  (vf_features_extractor): NatureCNN(\n",
      "    (cnn): Sequential(\n",
      "      (0): Conv2d(4, 32, kernel_size=(8, 8), stride=(4, 4))\n",
      "      (1): ReLU()\n",
      "      (2): Conv2d(32, 64, kernel_size=(4, 4), stride=(2, 2))\n",
      "      (3): ReLU()\n",
      "      (4): Conv2d(64, 64, kernel_size=(3, 3), stride=(1, 1))\n",
      "      (5): ReLU()\n",
      "      (6): Flatten(start_dim=1, end_dim=-1)\n",
      "    )\n",
      "    (linear): Sequential(\n",
      "      (0): Linear(in_features=3136, out_features=512, bias=True)\n",
      "      (1): ReLU()\n",
      "    )\n",
      "  )\n",
      "  (mlp_extractor): MlpExtractor(\n",
      "    (policy_net): Sequential()\n",
      "    (value_net): Sequential()\n",
      "  )\n",
      "  (action_net): Linear(in_features=512, out_features=4, bias=True)\n",
      "  (value_net): Linear(in_features=512, out_features=1, bias=True)\n",
      ")\n",
      "\n",
      "--- A2C Small Test Case ---\n",
      "Initial Observation Shape (A2C): (4, 84, 84, 4)\n",
      "Predicted Actions (A2C): [1 1 1 1]\n"
     ]
    }
   ],
   "source": [
    "# --- A2C Baseline Model (CnnPolicy) ---\n",
    "print(\"\\n--- A2C Default Model Architecture ---\")\n",
    "\n",
    "# Instantiate the default A2C agent, reusing the same vectorized environment\n",
    "model_a2c_default = A2C(\n",
    "    POLICY_TYPE, # \"CnnPolicy\"\n",
    "    vec_env_baseline,\n",
    "    verbose=0,\n",
    "    seed=SEED,\n",
    "    device=DEVICE\n",
    ")\n",
    "\n",
    "# Print the policy structure to see the CNN and MLP layers\n",
    "print(model_a2c_default.policy)\n",
    "\n",
    "# --- A2C Small Test Case ---\n",
    "print(\"\\n--- A2C Small Test Case ---\")\n",
    "# We don't need to reset the environment again if we just want to test prediction\n",
    "obs_a2c = vec_env_baseline.reset() # Resetting for a clean start is good practice though\n",
    "print(f\"Initial Observation Shape (A2C): {obs_a2c.shape}\")\n",
    "\n",
    "# Get a deterministic action from the untrained policy\n",
    "action_a2c, _states_a2c = model_a2c_default.predict(obs_a2c, deterministic=True)\n",
    "\n",
    "print(f\"Predicted Actions (A2C): {action_a2c}\")"
   ]
  },
  {
   "cell_type": "markdown",
   "id": "2ab39c4a",
   "metadata": {},
   "source": [
    "**A2C Default Architecture (`CnnPolicy`) Interpretation:**\n",
    "\n",
    "The default `CnnPolicy` for the A2C algorithm in Stable-Baselines3 is architecturally identical to the one used for PPO. It employs the \"Nature-CNN\" structure to process image-based observations from the `ALE/Breakout-v5` environment.\n",
    "\n",
    "-   **Feature Extractor (`features_extractor`):** An instance of `NatureCNN` that processes the `(84, 84, 4)` stacked-frame observations. This involves:\n",
    "    -   Three convolutional layers with `ReLU` activations to extract spatial features.\n",
    "    -   A flattening operation.\n",
    "    -   A final `Linear` layer that maps the flattened features to a `512`-dimensional feature vector.\n",
    "\n",
    "-   **Policy and Value Feature Extractors (`pi_features_extractor`, `vf_features_extractor`):**\n",
    "    -   Just like with PPO, the policy (actor) and value (critic) networks do not share the feature extractor; each gets its own separate instance of the `NatureCNN`.\n",
    "\n",
    "-   **MLP Extractor (`mlp_extractor`):**\n",
    "    -   This component is empty (`Sequential()`) because the `NatureCNN` feature extractor already produces the final `512`-dimensional feature vector required by the action and value heads.\n",
    "\n",
    "-   **Action Head (`action_net`):**\n",
    "    -   A `Linear` layer that takes the `512`-dimensional feature vector from the policy's feature extractor (`pi_features_extractor`) and outputs `4` logits corresponding to the actions in Breakout.\n",
    "\n",
    "-   **Value Head (`value_net`):**\n",
    "    -   A `Linear` layer that takes the `512`-dimensional feature vector from the value function's feature extractor (`vf_features_extractor`) and outputs a single scalar representing the estimated state value.\n",
    "\n",
    "The test case (`--- A2C Small Test Case ---`) confirms that the A2C model, like the PPO model, can correctly process a batch of observations and predict a corresponding batch of actions. The consistency in architecture ensures that any differences in performance between A2C and PPO will be due to their underlying learning algorithms rather than their network capacities."
   ]
  },
  {
   "cell_type": "code",
   "execution_count": 5,
   "id": "d434c848",
   "metadata": {},
   "outputs": [
    {
     "name": "stdout",
     "output_type": "stream",
     "text": [
      "\n",
      "--- DQN Default Model Architecture ---\n",
      "CnnPolicy(\n",
      "  (q_net): QNetwork(\n",
      "    (features_extractor): NatureCNN(\n",
      "      (cnn): Sequential(\n",
      "        (0): Conv2d(4, 32, kernel_size=(8, 8), stride=(4, 4))\n",
      "        (1): ReLU()\n",
      "        (2): Conv2d(32, 64, kernel_size=(4, 4), stride=(2, 2))\n",
      "        (3): ReLU()\n",
      "        (4): Conv2d(64, 64, kernel_size=(3, 3), stride=(1, 1))\n",
      "        (5): ReLU()\n",
      "        (6): Flatten(start_dim=1, end_dim=-1)\n",
      "      )\n",
      "      (linear): Sequential(\n",
      "        (0): Linear(in_features=3136, out_features=512, bias=True)\n",
      "        (1): ReLU()\n",
      "      )\n",
      "    )\n",
      "    (q_net): Sequential(\n",
      "      (0): Linear(in_features=512, out_features=4, bias=True)\n",
      "    )\n",
      "  )\n",
      "  (q_net_target): QNetwork(\n",
      "    (features_extractor): NatureCNN(\n",
      "      (cnn): Sequential(\n",
      "        (0): Conv2d(4, 32, kernel_size=(8, 8), stride=(4, 4))\n",
      "        (1): ReLU()\n",
      "        (2): Conv2d(32, 64, kernel_size=(4, 4), stride=(2, 2))\n",
      "        (3): ReLU()\n",
      "        (4): Conv2d(64, 64, kernel_size=(3, 3), stride=(1, 1))\n",
      "        (5): ReLU()\n",
      "        (6): Flatten(start_dim=1, end_dim=-1)\n",
      "      )\n",
      "      (linear): Sequential(\n",
      "        (0): Linear(in_features=3136, out_features=512, bias=True)\n",
      "        (1): ReLU()\n",
      "      )\n",
      "    )\n",
      "    (q_net): Sequential(\n",
      "      (0): Linear(in_features=512, out_features=4, bias=True)\n",
      "    )\n",
      "  )\n",
      ")\n",
      "\n",
      "--- DQN Small Test Case ---\n",
      "Initial Observation Shape (DQN): (4, 84, 84, 4)\n",
      "Predicted Actions (DQN): [2 2 2 2]\n",
      "\n",
      "Baseline environment closed.\n"
     ]
    }
   ],
   "source": [
    "# --- DQN Baseline Model (CnnPolicy) ---\n",
    "print(\"\\n--- DQN Default Model Architecture ---\")\n",
    "\n",
    "# Instantiate the default DQN agent.\n",
    "# It can use the same vectorized environment to gather experiences more efficiently.\n",
    "# SB3 DQN has specific hyperparameters like buffer_size and learning_starts.\n",
    "# We set them to reasonable defaults for inspection/later training.\n",
    "model_dqn_default = DQN(\n",
    "    POLICY_TYPE, # \"CnnPolicy\"\n",
    "    vec_env_baseline,\n",
    "    verbose=0,\n",
    "    seed=SEED,\n",
    "    device=DEVICE,\n",
    "    buffer_size=100000, # A reasonably sized replay buffer for Atari\n",
    "    learning_starts=50000 # Collect a good number of initial experiences before training\n",
    ")\n",
    "\n",
    "# Print the policy structure, which for DQN contains the Q-Network\n",
    "print(model_dqn_default.policy)\n",
    "\n",
    "# --- DQN Small Test Case ---\n",
    "print(\"\\n--- DQN Small Test Case ---\")\n",
    "# Reset the environment for a clean start\n",
    "obs_dqn = vec_env_baseline.reset()\n",
    "print(f\"Initial Observation Shape (DQN): {obs_dqn.shape}\")\n",
    "\n",
    "# Get a deterministic action (based on highest Q-value) from the untrained policy\n",
    "action_dqn, _states_dqn = model_dqn_default.predict(obs_dqn, deterministic=True)\n",
    "\n",
    "print(f\"Predicted Actions (DQN): {action_dqn}\")\n",
    "\n",
    "# Finally, we can close the baseline environment as we are done inspecting the models\n",
    "vec_env_baseline.close()\n",
    "print(\"\\nBaseline environment closed.\")"
   ]
  },
  {
   "cell_type": "markdown",
   "id": "ab0d48e4",
   "metadata": {},
   "source": [
    "**DQN Default Architecture (`CnnPolicy`) Interpretation:**\n",
    "\n",
    "The default `CnnPolicy` for DQN is a value-based policy that learns to estimate the Q-value (the expected return) of taking each possible action in a given state. Its architecture also leverages the \"Nature-CNN\" structure. A key feature of modern DQN implementations is the use of a separate, periodically updated \"target network\" to stabilize training, which is visible in the policy structure.\n",
    "\n",
    "The policy object contains two identical `QNetwork` instances: `q_net` (the main network that is actively trained) and `q_net_target` (the stable target network).\n",
    "\n",
    "The architecture of a single `QNetwork` is as follows:\n",
    "\n",
    "-   **Feature Extractor (`features_extractor`):**\n",
    "    -   This is an instance of `NatureCNN`, identical to the one used in PPO and A2C. It takes the `(84, 84, 4)` stacked-frame observation and processes it through three convolutional layers and one linear layer to produce a `512`-dimensional feature vector.\n",
    "\n",
    "-   **Q-Value Head (`q_net`):**\n",
    "    -   This is the final part of the network that produces the Q-values. It's a `Sequential` block containing a single `Linear` layer.\n",
    "    -   This layer takes the `512`-dimensional feature vector from the `features_extractor` and maps it to `out_features=4`.\n",
    "    -   Each of these 4 output values represents the estimated Q-value for one of the 4 discrete actions in `ALE/Breakout-v5`.\n",
    "\n",
    "**Summary of Input/Output:**\n",
    "-   **Input:** The network takes a batch of stacked image observations with shape `(N, 84, 84, 4)`.\n",
    "-   **Output:** The `q_net` produces 4 scalar Q-values for each observation in the batch. During evaluation (`deterministic=True`), the agent selects the action corresponding to the highest Q-value.\n",
    "\n",
    "The test case (`--- DQN Small Test Case ---`) confirms that the DQN model can process the batch of preprocessed observations and predict a corresponding action for each parallel environment by selecting the action with the maximum Q-value from its (untrained) network."
   ]
  },
  {
   "cell_type": "markdown",
   "id": "836efe1b",
   "metadata": {},
   "source": [
    "## 3. Training Process\n",
    "\n",
    "This section outlines the training pipeline for our reinforcement learning agents, the hyperparameters used for the baseline experiments, and the setup for logging and evaluation.\n",
    "\n",
    "### 3.1 Training Baseline Algorithms\n",
    "\n",
    "**Training Pipeline Overview:**\n",
    "The training process leverages Stable-Baselines3 interacting with our chosen Gymnasium environment, `ALE/Breakout-v5`. For each training step:\n",
    "1. The agent receives a batch of observations from the `4` parallel environments.\n",
    "2. It selects an action for each environment based on its current policy (exploration is handled by the algorithm).\n",
    "3. These actions are applied, and the environments return the next observations, rewards, and done signals.\n",
    "4. This batch of experiences is processed by the algorithm to update its neural network parameters.\n",
    "This loop continues for a total of `100,000` environment steps (`TOTAL_STEPS`).\n",
    "\n",
    "**Default Hyperparameters:**\n",
    "For these baseline experiments, we are using the **default hyperparameters** provided by Stable-Baselines3 for PPO, A2C, and DQN when using the `CnnPolicy`. These defaults are generally well-tuned for a range of Atari environments and serve as a robust starting point for comparison. Our goal is to evaluate the out-of-the-box performance of each algorithm.\n",
    "\n",
    "**Callbacks for Evaluation and Logging:**\n",
    "- **`EvalCallback`:** We use this to periodically evaluate the agent's performance. Every `10,000` steps, training is paused, and the agent is run for `5` full episodes on a separate, deterministic evaluation environment. The mean reward is logged, and the model that achieves the highest mean reward is saved as the \"best model\" for that run.\n",
    "- **Weights & Biases (`wandb`):** We use `wandb` to track all experiments. The `WandbCallback` automatically logs training metrics (episodic rewards, losses), evaluation metrics from `EvalCallback`, and system resource usage. Each of the 9 baseline runs (3 algorithms x 3 seeds) will be a separate run in our W&B project, grouped by algorithm for easy comparison."
   ]
  },
  {
   "cell_type": "code",
   "execution_count": 6,
   "id": "e0f5b936",
   "metadata": {},
   "outputs": [
    {
     "name": "stdout",
     "output_type": "stream",
     "text": [
      "\n",
      "==================== Training PPO Baseline ====================\n",
      "\n",
      "--- Running Seed 1/3 (Actual Seed: 42) ---\n"
     ]
    },
    {
     "name": "stderr",
     "output_type": "stream",
     "text": [
      "wandb: Currently logged in as: emontel1 (emontel1-depaul-university) to https://api.wandb.ai. Use `wandb login --relogin` to force relogin\n",
      "wandb: WARNING Using a boolean value for 'reinit' is deprecated. Use 'return_previous' or 'finish_previous' instead.\n"
     ]
    },
    {
     "data": {
      "text/html": [
       "Tracking run with wandb version 0.20.1"
      ],
      "text/plain": [
       "<IPython.core.display.HTML object>"
      ]
     },
     "metadata": {},
     "output_type": "display_data"
    },
    {
     "data": {
      "text/html": [
       "Run data is saved locally in <code>d:\\workdir\\school_repos\\rl_project\\wandb\\run-20250605_202638-btly2du9</code>"
      ],
      "text/plain": [
       "<IPython.core.display.HTML object>"
      ]
     },
     "metadata": {},
     "output_type": "display_data"
    },
    {
     "data": {
      "text/html": [
       "Syncing run <strong><a href='https://wandb.ai/emontel1-depaul-university/csc594_final_project/runs/btly2du9' target=\"_blank\">PPO_default_seed42</a></strong> to <a href='https://wandb.ai/emontel1-depaul-university/csc594_final_project' target=\"_blank\">Weights & Biases</a> (<a href='https://wandb.me/developer-guide' target=\"_blank\">docs</a>)<br>"
      ],
      "text/plain": [
       "<IPython.core.display.HTML object>"
      ]
     },
     "metadata": {},
     "output_type": "display_data"
    },
    {
     "data": {
      "text/html": [
       " View project at <a href='https://wandb.ai/emontel1-depaul-university/csc594_final_project' target=\"_blank\">https://wandb.ai/emontel1-depaul-university/csc594_final_project</a>"
      ],
      "text/plain": [
       "<IPython.core.display.HTML object>"
      ]
     },
     "metadata": {},
     "output_type": "display_data"
    },
    {
     "data": {
      "text/html": [
       " View run at <a href='https://wandb.ai/emontel1-depaul-university/csc594_final_project/runs/btly2du9' target=\"_blank\">https://wandb.ai/emontel1-depaul-university/csc594_final_project/runs/btly2du9</a>"
      ],
      "text/plain": [
       "<IPython.core.display.HTML object>"
      ]
     },
     "metadata": {},
     "output_type": "display_data"
    },
    {
     "data": {
      "application/vnd.jupyter.widget-view+json": {
       "model_id": "c7d4297d44204868b9616f752382cb01",
       "version_major": 2,
       "version_minor": 0
      },
      "text/plain": [
       "Output()"
      ]
     },
     "metadata": {},
     "output_type": "display_data"
    },
    {
     "data": {
      "text/html": [
       "<pre style=\"white-space:pre;overflow-x:auto;line-height:normal;font-family:Menlo,'DejaVu Sans Mono',consolas,'Courier New',monospace\">Eval num_timesteps=10000, episode_reward=9.00 +/- 2.19\n",
       "</pre>\n"
      ],
      "text/plain": [
       "Eval num_timesteps=10000, episode_reward=9.00 +/- 2.19\n"
      ]
     },
     "metadata": {},
     "output_type": "display_data"
    },
    {
     "data": {
      "text/html": [
       "<pre style=\"white-space:pre;overflow-x:auto;line-height:normal;font-family:Menlo,'DejaVu Sans Mono',consolas,'Courier New',monospace\">Episode length: 496.40 +/- 57.79\n",
       "</pre>\n"
      ],
      "text/plain": [
       "Episode length: 496.40 +/- 57.79\n"
      ]
     },
     "metadata": {},
     "output_type": "display_data"
    },
    {
     "data": {
      "text/html": [
       "<pre style=\"white-space:pre;overflow-x:auto;line-height:normal;font-family:Menlo,'DejaVu Sans Mono',consolas,'Courier New',monospace\">New best mean reward!\n",
       "</pre>\n"
      ],
      "text/plain": [
       "New best mean reward!\n"
      ]
     },
     "metadata": {},
     "output_type": "display_data"
    },
    {
     "data": {
      "text/html": [
       "<pre style=\"white-space:pre;overflow-x:auto;line-height:normal;font-family:Menlo,'DejaVu Sans Mono',consolas,'Courier New',monospace\">Eval num_timesteps=20000, episode_reward=9.60 +/- 3.77\n",
       "</pre>\n"
      ],
      "text/plain": [
       "Eval num_timesteps=20000, episode_reward=9.60 +/- 3.77\n"
      ]
     },
     "metadata": {},
     "output_type": "display_data"
    },
    {
     "data": {
      "text/html": [
       "<pre style=\"white-space:pre;overflow-x:auto;line-height:normal;font-family:Menlo,'DejaVu Sans Mono',consolas,'Courier New',monospace\">Episode length: 476.00 +/- 91.29\n",
       "</pre>\n"
      ],
      "text/plain": [
       "Episode length: 476.00 +/- 91.29\n"
      ]
     },
     "metadata": {},
     "output_type": "display_data"
    },
    {
     "data": {
      "text/html": [
       "<pre style=\"white-space:pre;overflow-x:auto;line-height:normal;font-family:Menlo,'DejaVu Sans Mono',consolas,'Courier New',monospace\">New best mean reward!\n",
       "</pre>\n"
      ],
      "text/plain": [
       "New best mean reward!\n"
      ]
     },
     "metadata": {},
     "output_type": "display_data"
    },
    {
     "data": {
      "text/html": [
       "<pre style=\"white-space:pre;overflow-x:auto;line-height:normal;font-family:Menlo,'DejaVu Sans Mono',consolas,'Courier New',monospace\">Eval num_timesteps=30000, episode_reward=9.40 +/- 2.06\n",
       "</pre>\n"
      ],
      "text/plain": [
       "Eval num_timesteps=30000, episode_reward=9.40 +/- 2.06\n"
      ]
     },
     "metadata": {},
     "output_type": "display_data"
    },
    {
     "data": {
      "text/html": [
       "<pre style=\"white-space:pre;overflow-x:auto;line-height:normal;font-family:Menlo,'DejaVu Sans Mono',consolas,'Courier New',monospace\">Episode length: 474.80 +/- 34.99\n",
       "</pre>\n"
      ],
      "text/plain": [
       "Episode length: 474.80 +/- 34.99\n"
      ]
     },
     "metadata": {},
     "output_type": "display_data"
    },
    {
     "data": {
      "text/html": [
       "<pre style=\"white-space:pre;overflow-x:auto;line-height:normal;font-family:Menlo,'DejaVu Sans Mono',consolas,'Courier New',monospace\">Eval num_timesteps=40000, episode_reward=10.40 +/- 1.36\n",
       "</pre>\n"
      ],
      "text/plain": [
       "Eval num_timesteps=40000, episode_reward=10.40 +/- 1.36\n"
      ]
     },
     "metadata": {},
     "output_type": "display_data"
    },
    {
     "data": {
      "text/html": [
       "<pre style=\"white-space:pre;overflow-x:auto;line-height:normal;font-family:Menlo,'DejaVu Sans Mono',consolas,'Courier New',monospace\">Episode length: 553.00 +/- 50.61\n",
       "</pre>\n"
      ],
      "text/plain": [
       "Episode length: 553.00 +/- 50.61\n"
      ]
     },
     "metadata": {},
     "output_type": "display_data"
    },
    {
     "data": {
      "text/html": [
       "<pre style=\"white-space:pre;overflow-x:auto;line-height:normal;font-family:Menlo,'DejaVu Sans Mono',consolas,'Courier New',monospace\">New best mean reward!\n",
       "</pre>\n"
      ],
      "text/plain": [
       "New best mean reward!\n"
      ]
     },
     "metadata": {},
     "output_type": "display_data"
    },
    {
     "data": {
      "text/html": [
       "<pre style=\"white-space:pre;overflow-x:auto;line-height:normal;font-family:Menlo,'DejaVu Sans Mono',consolas,'Courier New',monospace\">Eval num_timesteps=50000, episode_reward=8.40 +/- 0.80\n",
       "</pre>\n"
      ],
      "text/plain": [
       "Eval num_timesteps=50000, episode_reward=8.40 +/- 0.80\n"
      ]
     },
     "metadata": {},
     "output_type": "display_data"
    },
    {
     "data": {
      "text/html": [
       "<pre style=\"white-space:pre;overflow-x:auto;line-height:normal;font-family:Menlo,'DejaVu Sans Mono',consolas,'Courier New',monospace\">Episode length: 478.60 +/- 40.28\n",
       "</pre>\n"
      ],
      "text/plain": [
       "Episode length: 478.60 +/- 40.28\n"
      ]
     },
     "metadata": {},
     "output_type": "display_data"
    },
    {
     "data": {
      "text/html": [
       "<pre style=\"white-space:pre;overflow-x:auto;line-height:normal;font-family:Menlo,'DejaVu Sans Mono',consolas,'Courier New',monospace\">Eval num_timesteps=60000, episode_reward=11.60 +/- 3.01\n",
       "</pre>\n"
      ],
      "text/plain": [
       "Eval num_timesteps=60000, episode_reward=11.60 +/- 3.01\n"
      ]
     },
     "metadata": {},
     "output_type": "display_data"
    },
    {
     "data": {
      "text/html": [
       "<pre style=\"white-space:pre;overflow-x:auto;line-height:normal;font-family:Menlo,'DejaVu Sans Mono',consolas,'Courier New',monospace\">Episode length: 559.80 +/- 96.35\n",
       "</pre>\n"
      ],
      "text/plain": [
       "Episode length: 559.80 +/- 96.35\n"
      ]
     },
     "metadata": {},
     "output_type": "display_data"
    },
    {
     "data": {
      "text/html": [
       "<pre style=\"white-space:pre;overflow-x:auto;line-height:normal;font-family:Menlo,'DejaVu Sans Mono',consolas,'Courier New',monospace\">New best mean reward!\n",
       "</pre>\n"
      ],
      "text/plain": [
       "New best mean reward!\n"
      ]
     },
     "metadata": {},
     "output_type": "display_data"
    },
    {
     "data": {
      "text/html": [
       "<pre style=\"white-space:pre;overflow-x:auto;line-height:normal;font-family:Menlo,'DejaVu Sans Mono',consolas,'Courier New',monospace\">Eval num_timesteps=70000, episode_reward=13.40 +/- 4.84\n",
       "</pre>\n"
      ],
      "text/plain": [
       "Eval num_timesteps=70000, episode_reward=13.40 +/- 4.84\n"
      ]
     },
     "metadata": {},
     "output_type": "display_data"
    },
    {
     "data": {
      "text/html": [
       "<pre style=\"white-space:pre;overflow-x:auto;line-height:normal;font-family:Menlo,'DejaVu Sans Mono',consolas,'Courier New',monospace\">Episode length: 566.20 +/- 134.69\n",
       "</pre>\n"
      ],
      "text/plain": [
       "Episode length: 566.20 +/- 134.69\n"
      ]
     },
     "metadata": {},
     "output_type": "display_data"
    },
    {
     "data": {
      "text/html": [
       "<pre style=\"white-space:pre;overflow-x:auto;line-height:normal;font-family:Menlo,'DejaVu Sans Mono',consolas,'Courier New',monospace\">New best mean reward!\n",
       "</pre>\n"
      ],
      "text/plain": [
       "New best mean reward!\n"
      ]
     },
     "metadata": {},
     "output_type": "display_data"
    },
    {
     "data": {
      "text/html": [
       "<pre style=\"white-space:pre;overflow-x:auto;line-height:normal;font-family:Menlo,'DejaVu Sans Mono',consolas,'Courier New',monospace\">Eval num_timesteps=80000, episode_reward=11.40 +/- 0.49\n",
       "</pre>\n"
      ],
      "text/plain": [
       "Eval num_timesteps=80000, episode_reward=11.40 +/- 0.49\n"
      ]
     },
     "metadata": {},
     "output_type": "display_data"
    },
    {
     "data": {
      "text/html": [
       "<pre style=\"white-space:pre;overflow-x:auto;line-height:normal;font-family:Menlo,'DejaVu Sans Mono',consolas,'Courier New',monospace\">Episode length: 572.80 +/- 14.39\n",
       "</pre>\n"
      ],
      "text/plain": [
       "Episode length: 572.80 +/- 14.39\n"
      ]
     },
     "metadata": {},
     "output_type": "display_data"
    },
    {
     "data": {
      "text/html": [
       "<pre style=\"white-space:pre;overflow-x:auto;line-height:normal;font-family:Menlo,'DejaVu Sans Mono',consolas,'Courier New',monospace\">Eval num_timesteps=90000, episode_reward=11.80 +/- 3.87\n",
       "</pre>\n"
      ],
      "text/plain": [
       "Eval num_timesteps=90000, episode_reward=11.80 +/- 3.87\n"
      ]
     },
     "metadata": {},
     "output_type": "display_data"
    },
    {
     "data": {
      "text/html": [
       "<pre style=\"white-space:pre;overflow-x:auto;line-height:normal;font-family:Menlo,'DejaVu Sans Mono',consolas,'Courier New',monospace\">Episode length: 523.00 +/- 115.26\n",
       "</pre>\n"
      ],
      "text/plain": [
       "Episode length: 523.00 +/- 115.26\n"
      ]
     },
     "metadata": {},
     "output_type": "display_data"
    },
    {
     "data": {
      "text/html": [
       "<pre style=\"white-space:pre;overflow-x:auto;line-height:normal;font-family:Menlo,'DejaVu Sans Mono',consolas,'Courier New',monospace\">Eval num_timesteps=100000, episode_reward=14.00 +/- 2.37\n",
       "</pre>\n"
      ],
      "text/plain": [
       "Eval num_timesteps=100000, episode_reward=14.00 +/- 2.37\n"
      ]
     },
     "metadata": {},
     "output_type": "display_data"
    },
    {
     "data": {
      "text/html": [
       "<pre style=\"white-space:pre;overflow-x:auto;line-height:normal;font-family:Menlo,'DejaVu Sans Mono',consolas,'Courier New',monospace\">Episode length: 639.80 +/- 94.01\n",
       "</pre>\n"
      ],
      "text/plain": [
       "Episode length: 639.80 +/- 94.01\n"
      ]
     },
     "metadata": {},
     "output_type": "display_data"
    },
    {
     "data": {
      "text/html": [
       "<pre style=\"white-space:pre;overflow-x:auto;line-height:normal;font-family:Menlo,'DejaVu Sans Mono',consolas,'Courier New',monospace\">New best mean reward!\n",
       "</pre>\n"
      ],
      "text/plain": [
       "New best mean reward!\n"
      ]
     },
     "metadata": {},
     "output_type": "display_data"
    },
    {
     "data": {
      "text/html": [
       "<pre style=\"white-space:pre;overflow-x:auto;line-height:normal;font-family:Menlo,'DejaVu Sans Mono',consolas,'Courier New',monospace\"></pre>\n"
      ],
      "text/plain": []
     },
     "metadata": {},
     "output_type": "display_data"
    },
    {
     "name": "stdout",
     "output_type": "stream",
     "text": [
      "Seed 1 training finished. Time: 1052.76 seconds.\n"
     ]
    },
    {
     "data": {
      "text/html": [],
      "text/plain": [
       "<IPython.core.display.HTML object>"
      ]
     },
     "metadata": {},
     "output_type": "display_data"
    },
    {
     "data": {
      "text/html": [
       "<br>    <style><br>        .wandb-row {<br>            display: flex;<br>            flex-direction: row;<br>            flex-wrap: wrap;<br>            justify-content: flex-start;<br>            width: 100%;<br>        }<br>        .wandb-col {<br>            display: flex;<br>            flex-direction: column;<br>            flex-basis: 100%;<br>            flex: 1;<br>            padding: 10px;<br>        }<br>    </style><br><div class=\"wandb-row\"><div class=\"wandb-col\"><h3>Run history:</h3><br/><table class=\"wandb\"><tr><td>eval/mean_ep_length</td><td>▂▁▁▄▁▅▅▅▃█</td></tr><tr><td>eval/mean_reward</td><td>▂▃▂▃▁▅▇▅▅█</td></tr><tr><td>global_step</td><td>▁▁▁▁▁▂▂▂▂▂▃▃▃▃▃▄▄▄▄▄▄▄▅▅▅▅▅▅▅▆▆▆▆▇▇▇▇▇██</td></tr><tr><td>rollout/ep_len_mean</td><td>▁▁▂▃▄▅▆▆▇▇███</td></tr><tr><td>rollout/ep_rew_mean</td><td>▁▁▂▃▄▅▆▆▆▆▇█▇</td></tr><tr><td>time/fps</td><td>█▂▁▁▁▁▁▁▁▁▁▁▁</td></tr><tr><td>train/approx_kl</td><td>▁▃▂▃▄▄▄▆▆▇██</td></tr><tr><td>train/clip_fraction</td><td>▁▄▄▅▆▆▆▇▇███</td></tr><tr><td>train/clip_range</td><td>▁▁▁▁▁▁▁▁▁▁▁▁</td></tr><tr><td>train/entropy_loss</td><td>▁▂▃▄▅▅▆▆▇▇██</td></tr><tr><td>train/explained_variance</td><td>▁▆▆▆▆▇▇▇████</td></tr><tr><td>train/learning_rate</td><td>▁▁▁▁▁▁▁▁▁▁▁▁</td></tr><tr><td>train/loss</td><td>██▅█▆▄▄▅▃▃▂▁</td></tr><tr><td>train/policy_gradient_loss</td><td>█▅▄▃▃▂▃▂▂▁▁▁</td></tr><tr><td>train/value_loss</td><td>▁▄▆█▇▅▃▅▂▂▁▂</td></tr></table><br/></div><div class=\"wandb-col\"><h3>Run summary:</h3><br/><table class=\"wandb\"><tr><td>eval/mean_ep_length</td><td>639.8</td></tr><tr><td>eval/mean_reward</td><td>14</td></tr><tr><td>global_step</td><td>106496</td></tr><tr><td>rollout/ep_len_mean</td><td>570.91</td></tr><tr><td>rollout/ep_rew_mean</td><td>12.26</td></tr><tr><td>time/fps</td><td>105</td></tr><tr><td>train/approx_kl</td><td>0.06619</td></tr><tr><td>train/clip_fraction</td><td>0.42018</td></tr><tr><td>train/clip_range</td><td>0.2</td></tr><tr><td>train/entropy_loss</td><td>-0.99622</td></tr><tr><td>train/explained_variance</td><td>0.82632</td></tr><tr><td>train/learning_rate</td><td>0.0003</td></tr><tr><td>train/loss</td><td>-0.09479</td></tr><tr><td>train/policy_gradient_loss</td><td>-0.06919</td></tr><tr><td>train/value_loss</td><td>0.08965</td></tr></table><br/></div></div>"
      ],
      "text/plain": [
       "<IPython.core.display.HTML object>"
      ]
     },
     "metadata": {},
     "output_type": "display_data"
    },
    {
     "data": {
      "text/html": [
       " View run <strong style=\"color:#cdcd00\">PPO_default_seed42</strong> at: <a href='https://wandb.ai/emontel1-depaul-university/csc594_final_project/runs/btly2du9' target=\"_blank\">https://wandb.ai/emontel1-depaul-university/csc594_final_project/runs/btly2du9</a><br> View project at: <a href='https://wandb.ai/emontel1-depaul-university/csc594_final_project' target=\"_blank\">https://wandb.ai/emontel1-depaul-university/csc594_final_project</a><br>Synced 8 W&B file(s), 0 media file(s), 3 artifact file(s) and 1 other file(s)"
      ],
      "text/plain": [
       "<IPython.core.display.HTML object>"
      ]
     },
     "metadata": {},
     "output_type": "display_data"
    },
    {
     "data": {
      "text/html": [
       "Find logs at: <code>.\\wandb\\run-20250605_202638-btly2du9\\logs</code>"
      ],
      "text/plain": [
       "<IPython.core.display.HTML object>"
      ]
     },
     "metadata": {},
     "output_type": "display_data"
    },
    {
     "name": "stdout",
     "output_type": "stream",
     "text": [
      "\n",
      "--- Running Seed 2/3 (Actual Seed: 43) ---\n"
     ]
    },
    {
     "data": {
      "text/html": [
       "Tracking run with wandb version 0.20.1"
      ],
      "text/plain": [
       "<IPython.core.display.HTML object>"
      ]
     },
     "metadata": {},
     "output_type": "display_data"
    },
    {
     "data": {
      "text/html": [
       "Run data is saved locally in <code>d:\\workdir\\school_repos\\rl_project\\wandb\\run-20250605_204422-ed68oaqm</code>"
      ],
      "text/plain": [
       "<IPython.core.display.HTML object>"
      ]
     },
     "metadata": {},
     "output_type": "display_data"
    },
    {
     "data": {
      "text/html": [
       "Syncing run <strong><a href='https://wandb.ai/emontel1-depaul-university/csc594_final_project/runs/ed68oaqm' target=\"_blank\">PPO_default_seed43</a></strong> to <a href='https://wandb.ai/emontel1-depaul-university/csc594_final_project' target=\"_blank\">Weights & Biases</a> (<a href='https://wandb.me/developer-guide' target=\"_blank\">docs</a>)<br>"
      ],
      "text/plain": [
       "<IPython.core.display.HTML object>"
      ]
     },
     "metadata": {},
     "output_type": "display_data"
    },
    {
     "data": {
      "text/html": [
       " View project at <a href='https://wandb.ai/emontel1-depaul-university/csc594_final_project' target=\"_blank\">https://wandb.ai/emontel1-depaul-university/csc594_final_project</a>"
      ],
      "text/plain": [
       "<IPython.core.display.HTML object>"
      ]
     },
     "metadata": {},
     "output_type": "display_data"
    },
    {
     "data": {
      "text/html": [
       " View run at <a href='https://wandb.ai/emontel1-depaul-university/csc594_final_project/runs/ed68oaqm' target=\"_blank\">https://wandb.ai/emontel1-depaul-university/csc594_final_project/runs/ed68oaqm</a>"
      ],
      "text/plain": [
       "<IPython.core.display.HTML object>"
      ]
     },
     "metadata": {},
     "output_type": "display_data"
    },
    {
     "name": "stderr",
     "output_type": "stream",
     "text": [
      "wandb: WARNING When using several event log directories, please call `wandb.tensorboard.patch(root_logdir=\"...\")` before `wandb.init`\n"
     ]
    },
    {
     "data": {
      "application/vnd.jupyter.widget-view+json": {
       "model_id": "fbac0677d7b048fcb1982fe094b7798b",
       "version_major": 2,
       "version_minor": 0
      },
      "text/plain": [
       "Output()"
      ]
     },
     "metadata": {},
     "output_type": "display_data"
    },
    {
     "data": {
      "text/html": [
       "<pre style=\"white-space:pre;overflow-x:auto;line-height:normal;font-family:Menlo,'DejaVu Sans Mono',consolas,'Courier New',monospace\">Eval num_timesteps=10000, episode_reward=10.40 +/- 1.36\n",
       "</pre>\n"
      ],
      "text/plain": [
       "Eval num_timesteps=10000, episode_reward=10.40 +/- 1.36\n"
      ]
     },
     "metadata": {},
     "output_type": "display_data"
    },
    {
     "data": {
      "text/html": [
       "<pre style=\"white-space:pre;overflow-x:auto;line-height:normal;font-family:Menlo,'DejaVu Sans Mono',consolas,'Courier New',monospace\">Episode length: 551.00 +/- 42.13\n",
       "</pre>\n"
      ],
      "text/plain": [
       "Episode length: 551.00 +/- 42.13\n"
      ]
     },
     "metadata": {},
     "output_type": "display_data"
    },
    {
     "data": {
      "text/html": [
       "<pre style=\"white-space:pre;overflow-x:auto;line-height:normal;font-family:Menlo,'DejaVu Sans Mono',consolas,'Courier New',monospace\">New best mean reward!\n",
       "</pre>\n"
      ],
      "text/plain": [
       "New best mean reward!\n"
      ]
     },
     "metadata": {},
     "output_type": "display_data"
    },
    {
     "data": {
      "text/html": [
       "<pre style=\"white-space:pre;overflow-x:auto;line-height:normal;font-family:Menlo,'DejaVu Sans Mono',consolas,'Courier New',monospace\">Eval num_timesteps=20000, episode_reward=9.40 +/- 1.02\n",
       "</pre>\n"
      ],
      "text/plain": [
       "Eval num_timesteps=20000, episode_reward=9.40 +/- 1.02\n"
      ]
     },
     "metadata": {},
     "output_type": "display_data"
    },
    {
     "data": {
      "text/html": [
       "<pre style=\"white-space:pre;overflow-x:auto;line-height:normal;font-family:Menlo,'DejaVu Sans Mono',consolas,'Courier New',monospace\">Episode length: 523.60 +/- 56.19\n",
       "</pre>\n"
      ],
      "text/plain": [
       "Episode length: 523.60 +/- 56.19\n"
      ]
     },
     "metadata": {},
     "output_type": "display_data"
    },
    {
     "data": {
      "text/html": [
       "<pre style=\"white-space:pre;overflow-x:auto;line-height:normal;font-family:Menlo,'DejaVu Sans Mono',consolas,'Courier New',monospace\">Eval num_timesteps=30000, episode_reward=10.80 +/- 2.64\n",
       "</pre>\n"
      ],
      "text/plain": [
       "Eval num_timesteps=30000, episode_reward=10.80 +/- 2.64\n"
      ]
     },
     "metadata": {},
     "output_type": "display_data"
    },
    {
     "data": {
      "text/html": [
       "<pre style=\"white-space:pre;overflow-x:auto;line-height:normal;font-family:Menlo,'DejaVu Sans Mono',consolas,'Courier New',monospace\">Episode length: 542.80 +/- 104.89\n",
       "</pre>\n"
      ],
      "text/plain": [
       "Episode length: 542.80 +/- 104.89\n"
      ]
     },
     "metadata": {},
     "output_type": "display_data"
    },
    {
     "data": {
      "text/html": [
       "<pre style=\"white-space:pre;overflow-x:auto;line-height:normal;font-family:Menlo,'DejaVu Sans Mono',consolas,'Courier New',monospace\">New best mean reward!\n",
       "</pre>\n"
      ],
      "text/plain": [
       "New best mean reward!\n"
      ]
     },
     "metadata": {},
     "output_type": "display_data"
    },
    {
     "data": {
      "text/html": [
       "<pre style=\"white-space:pre;overflow-x:auto;line-height:normal;font-family:Menlo,'DejaVu Sans Mono',consolas,'Courier New',monospace\">Eval num_timesteps=40000, episode_reward=11.20 +/- 1.72\n",
       "</pre>\n"
      ],
      "text/plain": [
       "Eval num_timesteps=40000, episode_reward=11.20 +/- 1.72\n"
      ]
     },
     "metadata": {},
     "output_type": "display_data"
    },
    {
     "data": {
      "text/html": [
       "<pre style=\"white-space:pre;overflow-x:auto;line-height:normal;font-family:Menlo,'DejaVu Sans Mono',consolas,'Courier New',monospace\">Episode length: 535.00 +/- 30.81\n",
       "</pre>\n"
      ],
      "text/plain": [
       "Episode length: 535.00 +/- 30.81\n"
      ]
     },
     "metadata": {},
     "output_type": "display_data"
    },
    {
     "data": {
      "text/html": [
       "<pre style=\"white-space:pre;overflow-x:auto;line-height:normal;font-family:Menlo,'DejaVu Sans Mono',consolas,'Courier New',monospace\">New best mean reward!\n",
       "</pre>\n"
      ],
      "text/plain": [
       "New best mean reward!\n"
      ]
     },
     "metadata": {},
     "output_type": "display_data"
    },
    {
     "data": {
      "text/html": [
       "<pre style=\"white-space:pre;overflow-x:auto;line-height:normal;font-family:Menlo,'DejaVu Sans Mono',consolas,'Courier New',monospace\">Eval num_timesteps=50000, episode_reward=10.40 +/- 3.26\n",
       "</pre>\n"
      ],
      "text/plain": [
       "Eval num_timesteps=50000, episode_reward=10.40 +/- 3.26\n"
      ]
     },
     "metadata": {},
     "output_type": "display_data"
    },
    {
     "data": {
      "text/html": [
       "<pre style=\"white-space:pre;overflow-x:auto;line-height:normal;font-family:Menlo,'DejaVu Sans Mono',consolas,'Courier New',monospace\">Episode length: 539.60 +/- 142.51\n",
       "</pre>\n"
      ],
      "text/plain": [
       "Episode length: 539.60 +/- 142.51\n"
      ]
     },
     "metadata": {},
     "output_type": "display_data"
    },
    {
     "data": {
      "text/html": [
       "<pre style=\"white-space:pre;overflow-x:auto;line-height:normal;font-family:Menlo,'DejaVu Sans Mono',consolas,'Courier New',monospace\">Eval num_timesteps=60000, episode_reward=12.60 +/- 2.06\n",
       "</pre>\n"
      ],
      "text/plain": [
       "Eval num_timesteps=60000, episode_reward=12.60 +/- 2.06\n"
      ]
     },
     "metadata": {},
     "output_type": "display_data"
    },
    {
     "data": {
      "text/html": [
       "<pre style=\"white-space:pre;overflow-x:auto;line-height:normal;font-family:Menlo,'DejaVu Sans Mono',consolas,'Courier New',monospace\">Episode length: 575.20 +/- 90.54\n",
       "</pre>\n"
      ],
      "text/plain": [
       "Episode length: 575.20 +/- 90.54\n"
      ]
     },
     "metadata": {},
     "output_type": "display_data"
    },
    {
     "data": {
      "text/html": [
       "<pre style=\"white-space:pre;overflow-x:auto;line-height:normal;font-family:Menlo,'DejaVu Sans Mono',consolas,'Courier New',monospace\">New best mean reward!\n",
       "</pre>\n"
      ],
      "text/plain": [
       "New best mean reward!\n"
      ]
     },
     "metadata": {},
     "output_type": "display_data"
    },
    {
     "data": {
      "text/html": [
       "<pre style=\"white-space:pre;overflow-x:auto;line-height:normal;font-family:Menlo,'DejaVu Sans Mono',consolas,'Courier New',monospace\">Eval num_timesteps=70000, episode_reward=10.80 +/- 4.62\n",
       "</pre>\n"
      ],
      "text/plain": [
       "Eval num_timesteps=70000, episode_reward=10.80 +/- 4.62\n"
      ]
     },
     "metadata": {},
     "output_type": "display_data"
    },
    {
     "data": {
      "text/html": [
       "<pre style=\"white-space:pre;overflow-x:auto;line-height:normal;font-family:Menlo,'DejaVu Sans Mono',consolas,'Courier New',monospace\">Episode length: 513.20 +/- 138.96\n",
       "</pre>\n"
      ],
      "text/plain": [
       "Episode length: 513.20 +/- 138.96\n"
      ]
     },
     "metadata": {},
     "output_type": "display_data"
    },
    {
     "data": {
      "text/html": [
       "<pre style=\"white-space:pre;overflow-x:auto;line-height:normal;font-family:Menlo,'DejaVu Sans Mono',consolas,'Courier New',monospace\">Eval num_timesteps=80000, episode_reward=13.80 +/- 3.31\n",
       "</pre>\n"
      ],
      "text/plain": [
       "Eval num_timesteps=80000, episode_reward=13.80 +/- 3.31\n"
      ]
     },
     "metadata": {},
     "output_type": "display_data"
    },
    {
     "data": {
      "text/html": [
       "<pre style=\"white-space:pre;overflow-x:auto;line-height:normal;font-family:Menlo,'DejaVu Sans Mono',consolas,'Courier New',monospace\">Episode length: 638.40 +/- 87.11\n",
       "</pre>\n"
      ],
      "text/plain": [
       "Episode length: 638.40 +/- 87.11\n"
      ]
     },
     "metadata": {},
     "output_type": "display_data"
    },
    {
     "data": {
      "text/html": [
       "<pre style=\"white-space:pre;overflow-x:auto;line-height:normal;font-family:Menlo,'DejaVu Sans Mono',consolas,'Courier New',monospace\">New best mean reward!\n",
       "</pre>\n"
      ],
      "text/plain": [
       "New best mean reward!\n"
      ]
     },
     "metadata": {},
     "output_type": "display_data"
    },
    {
     "data": {
      "text/html": [
       "<pre style=\"white-space:pre;overflow-x:auto;line-height:normal;font-family:Menlo,'DejaVu Sans Mono',consolas,'Courier New',monospace\">Eval num_timesteps=90000, episode_reward=15.00 +/- 5.22\n",
       "</pre>\n"
      ],
      "text/plain": [
       "Eval num_timesteps=90000, episode_reward=15.00 +/- 5.22\n"
      ]
     },
     "metadata": {},
     "output_type": "display_data"
    },
    {
     "data": {
      "text/html": [
       "<pre style=\"white-space:pre;overflow-x:auto;line-height:normal;font-family:Menlo,'DejaVu Sans Mono',consolas,'Courier New',monospace\">Episode length: 586.60 +/- 117.74\n",
       "</pre>\n"
      ],
      "text/plain": [
       "Episode length: 586.60 +/- 117.74\n"
      ]
     },
     "metadata": {},
     "output_type": "display_data"
    },
    {
     "data": {
      "text/html": [
       "<pre style=\"white-space:pre;overflow-x:auto;line-height:normal;font-family:Menlo,'DejaVu Sans Mono',consolas,'Courier New',monospace\">New best mean reward!\n",
       "</pre>\n"
      ],
      "text/plain": [
       "New best mean reward!\n"
      ]
     },
     "metadata": {},
     "output_type": "display_data"
    },
    {
     "data": {
      "text/html": [
       "<pre style=\"white-space:pre;overflow-x:auto;line-height:normal;font-family:Menlo,'DejaVu Sans Mono',consolas,'Courier New',monospace\">Eval num_timesteps=100000, episode_reward=14.60 +/- 4.59\n",
       "</pre>\n"
      ],
      "text/plain": [
       "Eval num_timesteps=100000, episode_reward=14.60 +/- 4.59\n"
      ]
     },
     "metadata": {},
     "output_type": "display_data"
    },
    {
     "data": {
      "text/html": [
       "<pre style=\"white-space:pre;overflow-x:auto;line-height:normal;font-family:Menlo,'DejaVu Sans Mono',consolas,'Courier New',monospace\">Episode length: 677.60 +/- 165.09\n",
       "</pre>\n"
      ],
      "text/plain": [
       "Episode length: 677.60 +/- 165.09\n"
      ]
     },
     "metadata": {},
     "output_type": "display_data"
    },
    {
     "data": {
      "text/html": [
       "<pre style=\"white-space:pre;overflow-x:auto;line-height:normal;font-family:Menlo,'DejaVu Sans Mono',consolas,'Courier New',monospace\"></pre>\n"
      ],
      "text/plain": []
     },
     "metadata": {},
     "output_type": "display_data"
    },
    {
     "name": "stdout",
     "output_type": "stream",
     "text": [
      "Seed 2 training finished. Time: 1099.10 seconds.\n"
     ]
    },
    {
     "data": {
      "text/html": [],
      "text/plain": [
       "<IPython.core.display.HTML object>"
      ]
     },
     "metadata": {},
     "output_type": "display_data"
    },
    {
     "data": {
      "text/html": [
       "<br>    <style><br>        .wandb-row {<br>            display: flex;<br>            flex-direction: row;<br>            flex-wrap: wrap;<br>            justify-content: flex-start;<br>            width: 100%;<br>        }<br>        .wandb-col {<br>            display: flex;<br>            flex-direction: column;<br>            flex-basis: 100%;<br>            flex: 1;<br>            padding: 10px;<br>        }<br>    </style><br><div class=\"wandb-row\"><div class=\"wandb-col\"><h3>Run history:</h3><br/><table class=\"wandb\"><tr><td>eval/mean_ep_length</td><td>▃▁▂▂▂▄▁▆▄█</td></tr><tr><td>eval/mean_reward</td><td>▂▁▃▃▂▅▃▇██</td></tr><tr><td>global_step</td><td>▁▁▁▁▁▂▂▂▂▃▃▃▃▄▄▄▄▄▄▅▅▅▅▅▆▆▆▆▆▆▇▇▇▇▇▇████</td></tr><tr><td>rollout/ep_len_mean</td><td>▁▁▂▃▄▅▆▆▇▇▇██</td></tr><tr><td>rollout/ep_rew_mean</td><td>▁▁▂▃▄▅▆▆▇▇███</td></tr><tr><td>time/fps</td><td>█▃▂▁▁▁▁▁▁▁▁▁▁</td></tr><tr><td>train/approx_kl</td><td>▁▁▁▂▃▄▄▄▅▆▇█</td></tr><tr><td>train/clip_fraction</td><td>▁▃▄▅▆▆▆▇▇███</td></tr><tr><td>train/clip_range</td><td>▁▁▁▁▁▁▁▁▁▁▁▁</td></tr><tr><td>train/entropy_loss</td><td>▁▂▂▃▄▅▆▆▆▇▇█</td></tr><tr><td>train/explained_variance</td><td>▁▆▆▆▇▇██████</td></tr><tr><td>train/learning_rate</td><td>▁▁▁▁▁▁▁▁▁▁▁▁</td></tr><tr><td>train/loss</td><td>█▇▇█▆▅▅▃▂▃▁▃</td></tr><tr><td>train/policy_gradient_loss</td><td>█▅▄▃▃▃▃▃▂▁▁▁</td></tr><tr><td>train/value_loss</td><td>▃▄▆█▆▄▄▂▁▂▂▁</td></tr></table><br/></div><div class=\"wandb-col\"><h3>Run summary:</h3><br/><table class=\"wandb\"><tr><td>eval/mean_ep_length</td><td>677.6</td></tr><tr><td>eval/mean_reward</td><td>14.6</td></tr><tr><td>global_step</td><td>106496</td></tr><tr><td>rollout/ep_len_mean</td><td>614.67</td></tr><tr><td>rollout/ep_rew_mean</td><td>13.52</td></tr><tr><td>time/fps</td><td>101</td></tr><tr><td>train/approx_kl</td><td>0.06974</td></tr><tr><td>train/clip_fraction</td><td>0.40365</td></tr><tr><td>train/clip_range</td><td>0.2</td></tr><tr><td>train/entropy_loss</td><td>-0.93775</td></tr><tr><td>train/explained_variance</td><td>0.8237</td></tr><tr><td>train/learning_rate</td><td>0.0003</td></tr><tr><td>train/loss</td><td>-0.06752</td></tr><tr><td>train/policy_gradient_loss</td><td>-0.06582</td></tr><tr><td>train/value_loss</td><td>0.08223</td></tr></table><br/></div></div>"
      ],
      "text/plain": [
       "<IPython.core.display.HTML object>"
      ]
     },
     "metadata": {},
     "output_type": "display_data"
    },
    {
     "data": {
      "text/html": [
       " View run <strong style=\"color:#cdcd00\">PPO_default_seed43</strong> at: <a href='https://wandb.ai/emontel1-depaul-university/csc594_final_project/runs/ed68oaqm' target=\"_blank\">https://wandb.ai/emontel1-depaul-university/csc594_final_project/runs/ed68oaqm</a><br> View project at: <a href='https://wandb.ai/emontel1-depaul-university/csc594_final_project' target=\"_blank\">https://wandb.ai/emontel1-depaul-university/csc594_final_project</a><br>Synced 8 W&B file(s), 0 media file(s), 2 artifact file(s) and 1 other file(s)"
      ],
      "text/plain": [
       "<IPython.core.display.HTML object>"
      ]
     },
     "metadata": {},
     "output_type": "display_data"
    },
    {
     "data": {
      "text/html": [
       "Find logs at: <code>.\\wandb\\run-20250605_204422-ed68oaqm\\logs</code>"
      ],
      "text/plain": [
       "<IPython.core.display.HTML object>"
      ]
     },
     "metadata": {},
     "output_type": "display_data"
    },
    {
     "name": "stdout",
     "output_type": "stream",
     "text": [
      "\n",
      "--- Running Seed 3/3 (Actual Seed: 44) ---\n"
     ]
    },
    {
     "data": {
      "text/html": [
       "Tracking run with wandb version 0.20.1"
      ],
      "text/plain": [
       "<IPython.core.display.HTML object>"
      ]
     },
     "metadata": {},
     "output_type": "display_data"
    },
    {
     "data": {
      "text/html": [
       "Run data is saved locally in <code>d:\\workdir\\school_repos\\rl_project\\wandb\\run-20250605_210252-r98leayh</code>"
      ],
      "text/plain": [
       "<IPython.core.display.HTML object>"
      ]
     },
     "metadata": {},
     "output_type": "display_data"
    },
    {
     "data": {
      "text/html": [
       "Syncing run <strong><a href='https://wandb.ai/emontel1-depaul-university/csc594_final_project/runs/r98leayh' target=\"_blank\">PPO_default_seed44</a></strong> to <a href='https://wandb.ai/emontel1-depaul-university/csc594_final_project' target=\"_blank\">Weights & Biases</a> (<a href='https://wandb.me/developer-guide' target=\"_blank\">docs</a>)<br>"
      ],
      "text/plain": [
       "<IPython.core.display.HTML object>"
      ]
     },
     "metadata": {},
     "output_type": "display_data"
    },
    {
     "data": {
      "text/html": [
       " View project at <a href='https://wandb.ai/emontel1-depaul-university/csc594_final_project' target=\"_blank\">https://wandb.ai/emontel1-depaul-university/csc594_final_project</a>"
      ],
      "text/plain": [
       "<IPython.core.display.HTML object>"
      ]
     },
     "metadata": {},
     "output_type": "display_data"
    },
    {
     "data": {
      "text/html": [
       " View run at <a href='https://wandb.ai/emontel1-depaul-university/csc594_final_project/runs/r98leayh' target=\"_blank\">https://wandb.ai/emontel1-depaul-university/csc594_final_project/runs/r98leayh</a>"
      ],
      "text/plain": [
       "<IPython.core.display.HTML object>"
      ]
     },
     "metadata": {},
     "output_type": "display_data"
    },
    {
     "name": "stderr",
     "output_type": "stream",
     "text": [
      "wandb: WARNING When using several event log directories, please call `wandb.tensorboard.patch(root_logdir=\"...\")` before `wandb.init`\n"
     ]
    },
    {
     "data": {
      "application/vnd.jupyter.widget-view+json": {
       "model_id": "a60ad358573046018e3eaf8fdb2ae0da",
       "version_major": 2,
       "version_minor": 0
      },
      "text/plain": [
       "Output()"
      ]
     },
     "metadata": {},
     "output_type": "display_data"
    },
    {
     "data": {
      "text/html": [
       "<pre style=\"white-space:pre;overflow-x:auto;line-height:normal;font-family:Menlo,'DejaVu Sans Mono',consolas,'Courier New',monospace\">Eval num_timesteps=10000, episode_reward=7.00 +/- 0.63\n",
       "</pre>\n"
      ],
      "text/plain": [
       "Eval num_timesteps=10000, episode_reward=7.00 +/- 0.63\n"
      ]
     },
     "metadata": {},
     "output_type": "display_data"
    },
    {
     "data": {
      "text/html": [
       "<pre style=\"white-space:pre;overflow-x:auto;line-height:normal;font-family:Menlo,'DejaVu Sans Mono',consolas,'Courier New',monospace\">Episode length: 433.40 +/- 23.12\n",
       "</pre>\n"
      ],
      "text/plain": [
       "Episode length: 433.40 +/- 23.12\n"
      ]
     },
     "metadata": {},
     "output_type": "display_data"
    },
    {
     "data": {
      "text/html": [
       "<pre style=\"white-space:pre;overflow-x:auto;line-height:normal;font-family:Menlo,'DejaVu Sans Mono',consolas,'Courier New',monospace\">New best mean reward!\n",
       "</pre>\n"
      ],
      "text/plain": [
       "New best mean reward!\n"
      ]
     },
     "metadata": {},
     "output_type": "display_data"
    },
    {
     "data": {
      "text/html": [
       "<pre style=\"white-space:pre;overflow-x:auto;line-height:normal;font-family:Menlo,'DejaVu Sans Mono',consolas,'Courier New',monospace\">Eval num_timesteps=20000, episode_reward=11.60 +/- 2.15\n",
       "</pre>\n"
      ],
      "text/plain": [
       "Eval num_timesteps=20000, episode_reward=11.60 +/- 2.15\n"
      ]
     },
     "metadata": {},
     "output_type": "display_data"
    },
    {
     "data": {
      "text/html": [
       "<pre style=\"white-space:pre;overflow-x:auto;line-height:normal;font-family:Menlo,'DejaVu Sans Mono',consolas,'Courier New',monospace\">Episode length: 579.00 +/- 49.01\n",
       "</pre>\n"
      ],
      "text/plain": [
       "Episode length: 579.00 +/- 49.01\n"
      ]
     },
     "metadata": {},
     "output_type": "display_data"
    },
    {
     "data": {
      "text/html": [
       "<pre style=\"white-space:pre;overflow-x:auto;line-height:normal;font-family:Menlo,'DejaVu Sans Mono',consolas,'Courier New',monospace\">New best mean reward!\n",
       "</pre>\n"
      ],
      "text/plain": [
       "New best mean reward!\n"
      ]
     },
     "metadata": {},
     "output_type": "display_data"
    },
    {
     "data": {
      "text/html": [
       "<pre style=\"white-space:pre;overflow-x:auto;line-height:normal;font-family:Menlo,'DejaVu Sans Mono',consolas,'Courier New',monospace\">Eval num_timesteps=30000, episode_reward=9.20 +/- 0.75\n",
       "</pre>\n"
      ],
      "text/plain": [
       "Eval num_timesteps=30000, episode_reward=9.20 +/- 0.75\n"
      ]
     },
     "metadata": {},
     "output_type": "display_data"
    },
    {
     "data": {
      "text/html": [
       "<pre style=\"white-space:pre;overflow-x:auto;line-height:normal;font-family:Menlo,'DejaVu Sans Mono',consolas,'Courier New',monospace\">Episode length: 511.20 +/- 31.90\n",
       "</pre>\n"
      ],
      "text/plain": [
       "Episode length: 511.20 +/- 31.90\n"
      ]
     },
     "metadata": {},
     "output_type": "display_data"
    },
    {
     "data": {
      "text/html": [
       "<pre style=\"white-space:pre;overflow-x:auto;line-height:normal;font-family:Menlo,'DejaVu Sans Mono',consolas,'Courier New',monospace\">Eval num_timesteps=40000, episode_reward=10.00 +/- 2.10\n",
       "</pre>\n"
      ],
      "text/plain": [
       "Eval num_timesteps=40000, episode_reward=10.00 +/- 2.10\n"
      ]
     },
     "metadata": {},
     "output_type": "display_data"
    },
    {
     "data": {
      "text/html": [
       "<pre style=\"white-space:pre;overflow-x:auto;line-height:normal;font-family:Menlo,'DejaVu Sans Mono',consolas,'Courier New',monospace\">Episode length: 546.60 +/- 91.00\n",
       "</pre>\n"
      ],
      "text/plain": [
       "Episode length: 546.60 +/- 91.00\n"
      ]
     },
     "metadata": {},
     "output_type": "display_data"
    },
    {
     "data": {
      "text/html": [
       "<pre style=\"white-space:pre;overflow-x:auto;line-height:normal;font-family:Menlo,'DejaVu Sans Mono',consolas,'Courier New',monospace\">Eval num_timesteps=50000, episode_reward=12.00 +/- 2.00\n",
       "</pre>\n"
      ],
      "text/plain": [
       "Eval num_timesteps=50000, episode_reward=12.00 +/- 2.00\n"
      ]
     },
     "metadata": {},
     "output_type": "display_data"
    },
    {
     "data": {
      "text/html": [
       "<pre style=\"white-space:pre;overflow-x:auto;line-height:normal;font-family:Menlo,'DejaVu Sans Mono',consolas,'Courier New',monospace\">Episode length: 604.40 +/- 87.56\n",
       "</pre>\n"
      ],
      "text/plain": [
       "Episode length: 604.40 +/- 87.56\n"
      ]
     },
     "metadata": {},
     "output_type": "display_data"
    },
    {
     "data": {
      "text/html": [
       "<pre style=\"white-space:pre;overflow-x:auto;line-height:normal;font-family:Menlo,'DejaVu Sans Mono',consolas,'Courier New',monospace\">New best mean reward!\n",
       "</pre>\n"
      ],
      "text/plain": [
       "New best mean reward!\n"
      ]
     },
     "metadata": {},
     "output_type": "display_data"
    },
    {
     "data": {
      "text/html": [
       "<pre style=\"white-space:pre;overflow-x:auto;line-height:normal;font-family:Menlo,'DejaVu Sans Mono',consolas,'Courier New',monospace\">Eval num_timesteps=60000, episode_reward=14.40 +/- 2.94\n",
       "</pre>\n"
      ],
      "text/plain": [
       "Eval num_timesteps=60000, episode_reward=14.40 +/- 2.94\n"
      ]
     },
     "metadata": {},
     "output_type": "display_data"
    },
    {
     "data": {
      "text/html": [
       "<pre style=\"white-space:pre;overflow-x:auto;line-height:normal;font-family:Menlo,'DejaVu Sans Mono',consolas,'Courier New',monospace\">Episode length: 662.00 +/- 71.79\n",
       "</pre>\n"
      ],
      "text/plain": [
       "Episode length: 662.00 +/- 71.79\n"
      ]
     },
     "metadata": {},
     "output_type": "display_data"
    },
    {
     "data": {
      "text/html": [
       "<pre style=\"white-space:pre;overflow-x:auto;line-height:normal;font-family:Menlo,'DejaVu Sans Mono',consolas,'Courier New',monospace\">New best mean reward!\n",
       "</pre>\n"
      ],
      "text/plain": [
       "New best mean reward!\n"
      ]
     },
     "metadata": {},
     "output_type": "display_data"
    },
    {
     "data": {
      "text/html": [
       "<pre style=\"white-space:pre;overflow-x:auto;line-height:normal;font-family:Menlo,'DejaVu Sans Mono',consolas,'Courier New',monospace\">Eval num_timesteps=70000, episode_reward=14.00 +/- 2.28\n",
       "</pre>\n"
      ],
      "text/plain": [
       "Eval num_timesteps=70000, episode_reward=14.00 +/- 2.28\n"
      ]
     },
     "metadata": {},
     "output_type": "display_data"
    },
    {
     "data": {
      "text/html": [
       "<pre style=\"white-space:pre;overflow-x:auto;line-height:normal;font-family:Menlo,'DejaVu Sans Mono',consolas,'Courier New',monospace\">Episode length: 630.60 +/- 59.28\n",
       "</pre>\n"
      ],
      "text/plain": [
       "Episode length: 630.60 +/- 59.28\n"
      ]
     },
     "metadata": {},
     "output_type": "display_data"
    },
    {
     "data": {
      "text/html": [
       "<pre style=\"white-space:pre;overflow-x:auto;line-height:normal;font-family:Menlo,'DejaVu Sans Mono',consolas,'Courier New',monospace\">Eval num_timesteps=80000, episode_reward=12.60 +/- 2.65\n",
       "</pre>\n"
      ],
      "text/plain": [
       "Eval num_timesteps=80000, episode_reward=12.60 +/- 2.65\n"
      ]
     },
     "metadata": {},
     "output_type": "display_data"
    },
    {
     "data": {
      "text/html": [
       "<pre style=\"white-space:pre;overflow-x:auto;line-height:normal;font-family:Menlo,'DejaVu Sans Mono',consolas,'Courier New',monospace\">Episode length: 625.00 +/- 67.58\n",
       "</pre>\n"
      ],
      "text/plain": [
       "Episode length: 625.00 +/- 67.58\n"
      ]
     },
     "metadata": {},
     "output_type": "display_data"
    },
    {
     "data": {
      "text/html": [
       "<pre style=\"white-space:pre;overflow-x:auto;line-height:normal;font-family:Menlo,'DejaVu Sans Mono',consolas,'Courier New',monospace\">Eval num_timesteps=90000, episode_reward=15.80 +/- 1.94\n",
       "</pre>\n"
      ],
      "text/plain": [
       "Eval num_timesteps=90000, episode_reward=15.80 +/- 1.94\n"
      ]
     },
     "metadata": {},
     "output_type": "display_data"
    },
    {
     "data": {
      "text/html": [
       "<pre style=\"white-space:pre;overflow-x:auto;line-height:normal;font-family:Menlo,'DejaVu Sans Mono',consolas,'Courier New',monospace\">Episode length: 664.00 +/- 84.07\n",
       "</pre>\n"
      ],
      "text/plain": [
       "Episode length: 664.00 +/- 84.07\n"
      ]
     },
     "metadata": {},
     "output_type": "display_data"
    },
    {
     "data": {
      "text/html": [
       "<pre style=\"white-space:pre;overflow-x:auto;line-height:normal;font-family:Menlo,'DejaVu Sans Mono',consolas,'Courier New',monospace\">New best mean reward!\n",
       "</pre>\n"
      ],
      "text/plain": [
       "New best mean reward!\n"
      ]
     },
     "metadata": {},
     "output_type": "display_data"
    },
    {
     "data": {
      "text/html": [
       "<pre style=\"white-space:pre;overflow-x:auto;line-height:normal;font-family:Menlo,'DejaVu Sans Mono',consolas,'Courier New',monospace\">Eval num_timesteps=100000, episode_reward=15.20 +/- 5.60\n",
       "</pre>\n"
      ],
      "text/plain": [
       "Eval num_timesteps=100000, episode_reward=15.20 +/- 5.60\n"
      ]
     },
     "metadata": {},
     "output_type": "display_data"
    },
    {
     "data": {
      "text/html": [
       "<pre style=\"white-space:pre;overflow-x:auto;line-height:normal;font-family:Menlo,'DejaVu Sans Mono',consolas,'Courier New',monospace\">Episode length: 631.40 +/- 105.06\n",
       "</pre>\n"
      ],
      "text/plain": [
       "Episode length: 631.40 +/- 105.06\n"
      ]
     },
     "metadata": {},
     "output_type": "display_data"
    },
    {
     "data": {
      "text/html": [
       "<pre style=\"white-space:pre;overflow-x:auto;line-height:normal;font-family:Menlo,'DejaVu Sans Mono',consolas,'Courier New',monospace\"></pre>\n"
      ],
      "text/plain": []
     },
     "metadata": {},
     "output_type": "display_data"
    },
    {
     "name": "stdout",
     "output_type": "stream",
     "text": [
      "Seed 3 training finished. Time: 1084.17 seconds.\n"
     ]
    },
    {
     "data": {
      "text/html": [],
      "text/plain": [
       "<IPython.core.display.HTML object>"
      ]
     },
     "metadata": {},
     "output_type": "display_data"
    },
    {
     "data": {
      "text/html": [
       "<br>    <style><br>        .wandb-row {<br>            display: flex;<br>            flex-direction: row;<br>            flex-wrap: wrap;<br>            justify-content: flex-start;<br>            width: 100%;<br>        }<br>        .wandb-col {<br>            display: flex;<br>            flex-direction: column;<br>            flex-basis: 100%;<br>            flex: 1;<br>            padding: 10px;<br>        }<br>    </style><br><div class=\"wandb-row\"><div class=\"wandb-col\"><h3>Run history:</h3><br/><table class=\"wandb\"><tr><td>eval/mean_ep_length</td><td>▁▅▃▄▆█▇▇█▇</td></tr><tr><td>eval/mean_reward</td><td>▁▅▃▃▅▇▇▅██</td></tr><tr><td>global_step</td><td>▁▂▂▂▂▂▂▂▂▃▃▃▃▃▃▄▄▄▄▅▅▅▅▅▅▅▅▆▆▆▆▆▇▇▇▇▇███</td></tr><tr><td>rollout/ep_len_mean</td><td>▁▂▃▄▅▆▆▇██▇██</td></tr><tr><td>rollout/ep_rew_mean</td><td>▁▂▂▄▄▆▆▇█████</td></tr><tr><td>time/fps</td><td>█▃▂▁▁▁▁▁▁▁▁▁▁</td></tr><tr><td>train/approx_kl</td><td>▁▂▁▂▃▃▄▅▆▆▇█</td></tr><tr><td>train/clip_fraction</td><td>▁▄▅▅▆▆▆▇▇▇██</td></tr><tr><td>train/clip_range</td><td>▁▁▁▁▁▁▁▁▁▁▁▁</td></tr><tr><td>train/entropy_loss</td><td>▁▂▃▄▅▆▆▇▇▇██</td></tr><tr><td>train/explained_variance</td><td>▁▆▆▇▇▇▇█████</td></tr><tr><td>train/learning_rate</td><td>▁▁▁▁▁▁▁▁▁▁▁▁</td></tr><tr><td>train/loss</td><td>▆▇▅▅█▃▂▅▁▃▂▃</td></tr><tr><td>train/policy_gradient_loss</td><td>█▅▄▃▃▃▂▃▂▁▂▁</td></tr><tr><td>train/value_loss</td><td>▁▅▇██▅▄▃▂▃▄▅</td></tr></table><br/></div><div class=\"wandb-col\"><h3>Run summary:</h3><br/><table class=\"wandb\"><tr><td>eval/mean_ep_length</td><td>631.4</td></tr><tr><td>eval/mean_reward</td><td>15.2</td></tr><tr><td>global_step</td><td>106496</td></tr><tr><td>rollout/ep_len_mean</td><td>581.88</td></tr><tr><td>rollout/ep_rew_mean</td><td>12.49</td></tr><tr><td>time/fps</td><td>102</td></tr><tr><td>train/approx_kl</td><td>0.07113</td></tr><tr><td>train/clip_fraction</td><td>0.41377</td></tr><tr><td>train/clip_range</td><td>0.2</td></tr><tr><td>train/entropy_loss</td><td>-0.96261</td></tr><tr><td>train/explained_variance</td><td>0.78222</td></tr><tr><td>train/learning_rate</td><td>0.0003</td></tr><tr><td>train/loss</td><td>-0.04713</td></tr><tr><td>train/policy_gradient_loss</td><td>-0.06477</td></tr><tr><td>train/value_loss</td><td>0.12414</td></tr></table><br/></div></div>"
      ],
      "text/plain": [
       "<IPython.core.display.HTML object>"
      ]
     },
     "metadata": {},
     "output_type": "display_data"
    },
    {
     "data": {
      "text/html": [
       " View run <strong style=\"color:#cdcd00\">PPO_default_seed44</strong> at: <a href='https://wandb.ai/emontel1-depaul-university/csc594_final_project/runs/r98leayh' target=\"_blank\">https://wandb.ai/emontel1-depaul-university/csc594_final_project/runs/r98leayh</a><br> View project at: <a href='https://wandb.ai/emontel1-depaul-university/csc594_final_project' target=\"_blank\">https://wandb.ai/emontel1-depaul-university/csc594_final_project</a><br>Synced 8 W&B file(s), 0 media file(s), 2 artifact file(s) and 1 other file(s)"
      ],
      "text/plain": [
       "<IPython.core.display.HTML object>"
      ]
     },
     "metadata": {},
     "output_type": "display_data"
    },
    {
     "data": {
      "text/html": [
       "Find logs at: <code>.\\wandb\\run-20250605_210252-r98leayh\\logs</code>"
      ],
      "text/plain": [
       "<IPython.core.display.HTML object>"
      ]
     },
     "metadata": {},
     "output_type": "display_data"
    },
    {
     "name": "stdout",
     "output_type": "stream",
     "text": [
      "\n",
      "==================== Training A2C Baseline ====================\n",
      "\n",
      "--- Running Seed 1/3 (Actual Seed: 42) ---\n"
     ]
    },
    {
     "data": {
      "text/html": [
       "Tracking run with wandb version 0.20.1"
      ],
      "text/plain": [
       "<IPython.core.display.HTML object>"
      ]
     },
     "metadata": {},
     "output_type": "display_data"
    },
    {
     "data": {
      "text/html": [
       "Run data is saved locally in <code>d:\\workdir\\school_repos\\rl_project\\wandb\\run-20250605_212107-14g0pk8o</code>"
      ],
      "text/plain": [
       "<IPython.core.display.HTML object>"
      ]
     },
     "metadata": {},
     "output_type": "display_data"
    },
    {
     "data": {
      "text/html": [
       "Syncing run <strong><a href='https://wandb.ai/emontel1-depaul-university/csc594_final_project/runs/14g0pk8o' target=\"_blank\">A2C_default_seed42</a></strong> to <a href='https://wandb.ai/emontel1-depaul-university/csc594_final_project' target=\"_blank\">Weights & Biases</a> (<a href='https://wandb.me/developer-guide' target=\"_blank\">docs</a>)<br>"
      ],
      "text/plain": [
       "<IPython.core.display.HTML object>"
      ]
     },
     "metadata": {},
     "output_type": "display_data"
    },
    {
     "data": {
      "text/html": [
       " View project at <a href='https://wandb.ai/emontel1-depaul-university/csc594_final_project' target=\"_blank\">https://wandb.ai/emontel1-depaul-university/csc594_final_project</a>"
      ],
      "text/plain": [
       "<IPython.core.display.HTML object>"
      ]
     },
     "metadata": {},
     "output_type": "display_data"
    },
    {
     "data": {
      "text/html": [
       " View run at <a href='https://wandb.ai/emontel1-depaul-university/csc594_final_project/runs/14g0pk8o' target=\"_blank\">https://wandb.ai/emontel1-depaul-university/csc594_final_project/runs/14g0pk8o</a>"
      ],
      "text/plain": [
       "<IPython.core.display.HTML object>"
      ]
     },
     "metadata": {},
     "output_type": "display_data"
    },
    {
     "name": "stderr",
     "output_type": "stream",
     "text": [
      "wandb: WARNING When using several event log directories, please call `wandb.tensorboard.patch(root_logdir=\"...\")` before `wandb.init`\n"
     ]
    },
    {
     "data": {
      "application/vnd.jupyter.widget-view+json": {
       "model_id": "a74b2c3b285e43b1be0f38a7147f5a05",
       "version_major": 2,
       "version_minor": 0
      },
      "text/plain": [
       "Output()"
      ]
     },
     "metadata": {},
     "output_type": "display_data"
    },
    {
     "data": {
      "text/html": [
       "<pre style=\"white-space:pre;overflow-x:auto;line-height:normal;font-family:Menlo,'DejaVu Sans Mono',consolas,'Courier New',monospace\">Eval num_timesteps=10000, episode_reward=2.20 +/- 0.40\n",
       "</pre>\n"
      ],
      "text/plain": [
       "Eval num_timesteps=10000, episode_reward=2.20 +/- 0.40\n"
      ]
     },
     "metadata": {},
     "output_type": "display_data"
    },
    {
     "data": {
      "text/html": [
       "<pre style=\"white-space:pre;overflow-x:auto;line-height:normal;font-family:Menlo,'DejaVu Sans Mono',consolas,'Courier New',monospace\">Episode length: 224.40 +/- 23.23\n",
       "</pre>\n"
      ],
      "text/plain": [
       "Episode length: 224.40 +/- 23.23\n"
      ]
     },
     "metadata": {},
     "output_type": "display_data"
    },
    {
     "data": {
      "text/html": [
       "<pre style=\"white-space:pre;overflow-x:auto;line-height:normal;font-family:Menlo,'DejaVu Sans Mono',consolas,'Courier New',monospace\">New best mean reward!\n",
       "</pre>\n"
      ],
      "text/plain": [
       "New best mean reward!\n"
      ]
     },
     "metadata": {},
     "output_type": "display_data"
    },
    {
     "data": {
      "text/html": [
       "<pre style=\"white-space:pre;overflow-x:auto;line-height:normal;font-family:Menlo,'DejaVu Sans Mono',consolas,'Courier New',monospace\">Eval num_timesteps=20000, episode_reward=8.60 +/- 2.33\n",
       "</pre>\n"
      ],
      "text/plain": [
       "Eval num_timesteps=20000, episode_reward=8.60 +/- 2.33\n"
      ]
     },
     "metadata": {},
     "output_type": "display_data"
    },
    {
     "data": {
      "text/html": [
       "<pre style=\"white-space:pre;overflow-x:auto;line-height:normal;font-family:Menlo,'DejaVu Sans Mono',consolas,'Courier New',monospace\">Episode length: 463.00 +/- 63.46\n",
       "</pre>\n"
      ],
      "text/plain": [
       "Episode length: 463.00 +/- 63.46\n"
      ]
     },
     "metadata": {},
     "output_type": "display_data"
    },
    {
     "data": {
      "text/html": [
       "<pre style=\"white-space:pre;overflow-x:auto;line-height:normal;font-family:Menlo,'DejaVu Sans Mono',consolas,'Courier New',monospace\">New best mean reward!\n",
       "</pre>\n"
      ],
      "text/plain": [
       "New best mean reward!\n"
      ]
     },
     "metadata": {},
     "output_type": "display_data"
    },
    {
     "data": {
      "text/html": [
       "<pre style=\"white-space:pre;overflow-x:auto;line-height:normal;font-family:Menlo,'DejaVu Sans Mono',consolas,'Courier New',monospace\">Eval num_timesteps=30000, episode_reward=9.60 +/- 1.02\n",
       "</pre>\n"
      ],
      "text/plain": [
       "Eval num_timesteps=30000, episode_reward=9.60 +/- 1.02\n"
      ]
     },
     "metadata": {},
     "output_type": "display_data"
    },
    {
     "data": {
      "text/html": [
       "<pre style=\"white-space:pre;overflow-x:auto;line-height:normal;font-family:Menlo,'DejaVu Sans Mono',consolas,'Courier New',monospace\">Episode length: 465.80 +/- 18.49\n",
       "</pre>\n"
      ],
      "text/plain": [
       "Episode length: 465.80 +/- 18.49\n"
      ]
     },
     "metadata": {},
     "output_type": "display_data"
    },
    {
     "data": {
      "text/html": [
       "<pre style=\"white-space:pre;overflow-x:auto;line-height:normal;font-family:Menlo,'DejaVu Sans Mono',consolas,'Courier New',monospace\">New best mean reward!\n",
       "</pre>\n"
      ],
      "text/plain": [
       "New best mean reward!\n"
      ]
     },
     "metadata": {},
     "output_type": "display_data"
    },
    {
     "data": {
      "text/html": [
       "<pre style=\"white-space:pre;overflow-x:auto;line-height:normal;font-family:Menlo,'DejaVu Sans Mono',consolas,'Courier New',monospace\">Eval num_timesteps=40000, episode_reward=6.80 +/- 2.32\n",
       "</pre>\n"
      ],
      "text/plain": [
       "Eval num_timesteps=40000, episode_reward=6.80 +/- 2.32\n"
      ]
     },
     "metadata": {},
     "output_type": "display_data"
    },
    {
     "data": {
      "text/html": [
       "<pre style=\"white-space:pre;overflow-x:auto;line-height:normal;font-family:Menlo,'DejaVu Sans Mono',consolas,'Courier New',monospace\">Episode length: 384.60 +/- 91.83\n",
       "</pre>\n"
      ],
      "text/plain": [
       "Episode length: 384.60 +/- 91.83\n"
      ]
     },
     "metadata": {},
     "output_type": "display_data"
    },
    {
     "data": {
      "text/html": [
       "<pre style=\"white-space:pre;overflow-x:auto;line-height:normal;font-family:Menlo,'DejaVu Sans Mono',consolas,'Courier New',monospace\">Eval num_timesteps=50000, episode_reward=9.80 +/- 3.31\n",
       "</pre>\n"
      ],
      "text/plain": [
       "Eval num_timesteps=50000, episode_reward=9.80 +/- 3.31\n"
      ]
     },
     "metadata": {},
     "output_type": "display_data"
    },
    {
     "data": {
      "text/html": [
       "<pre style=\"white-space:pre;overflow-x:auto;line-height:normal;font-family:Menlo,'DejaVu Sans Mono',consolas,'Courier New',monospace\">Episode length: 504.00 +/- 97.90\n",
       "</pre>\n"
      ],
      "text/plain": [
       "Episode length: 504.00 +/- 97.90\n"
      ]
     },
     "metadata": {},
     "output_type": "display_data"
    },
    {
     "data": {
      "text/html": [
       "<pre style=\"white-space:pre;overflow-x:auto;line-height:normal;font-family:Menlo,'DejaVu Sans Mono',consolas,'Courier New',monospace\">New best mean reward!\n",
       "</pre>\n"
      ],
      "text/plain": [
       "New best mean reward!\n"
      ]
     },
     "metadata": {},
     "output_type": "display_data"
    },
    {
     "data": {
      "text/html": [
       "<pre style=\"white-space:pre;overflow-x:auto;line-height:normal;font-family:Menlo,'DejaVu Sans Mono',consolas,'Courier New',monospace\">Eval num_timesteps=60000, episode_reward=9.80 +/- 2.14\n",
       "</pre>\n"
      ],
      "text/plain": [
       "Eval num_timesteps=60000, episode_reward=9.80 +/- 2.14\n"
      ]
     },
     "metadata": {},
     "output_type": "display_data"
    },
    {
     "data": {
      "text/html": [
       "<pre style=\"white-space:pre;overflow-x:auto;line-height:normal;font-family:Menlo,'DejaVu Sans Mono',consolas,'Courier New',monospace\">Episode length: 483.20 +/- 66.62\n",
       "</pre>\n"
      ],
      "text/plain": [
       "Episode length: 483.20 +/- 66.62\n"
      ]
     },
     "metadata": {},
     "output_type": "display_data"
    },
    {
     "data": {
      "text/html": [
       "<pre style=\"white-space:pre;overflow-x:auto;line-height:normal;font-family:Menlo,'DejaVu Sans Mono',consolas,'Courier New',monospace\">Eval num_timesteps=70000, episode_reward=14.80 +/- 4.26\n",
       "</pre>\n"
      ],
      "text/plain": [
       "Eval num_timesteps=70000, episode_reward=14.80 +/- 4.26\n"
      ]
     },
     "metadata": {},
     "output_type": "display_data"
    },
    {
     "data": {
      "text/html": [
       "<pre style=\"white-space:pre;overflow-x:auto;line-height:normal;font-family:Menlo,'DejaVu Sans Mono',consolas,'Courier New',monospace\">Episode length: 617.40 +/- 106.85\n",
       "</pre>\n"
      ],
      "text/plain": [
       "Episode length: 617.40 +/- 106.85\n"
      ]
     },
     "metadata": {},
     "output_type": "display_data"
    },
    {
     "data": {
      "text/html": [
       "<pre style=\"white-space:pre;overflow-x:auto;line-height:normal;font-family:Menlo,'DejaVu Sans Mono',consolas,'Courier New',monospace\">New best mean reward!\n",
       "</pre>\n"
      ],
      "text/plain": [
       "New best mean reward!\n"
      ]
     },
     "metadata": {},
     "output_type": "display_data"
    },
    {
     "data": {
      "text/html": [
       "<pre style=\"white-space:pre;overflow-x:auto;line-height:normal;font-family:Menlo,'DejaVu Sans Mono',consolas,'Courier New',monospace\">Eval num_timesteps=80000, episode_reward=18.40 +/- 4.03\n",
       "</pre>\n"
      ],
      "text/plain": [
       "Eval num_timesteps=80000, episode_reward=18.40 +/- 4.03\n"
      ]
     },
     "metadata": {},
     "output_type": "display_data"
    },
    {
     "data": {
      "text/html": [
       "<pre style=\"white-space:pre;overflow-x:auto;line-height:normal;font-family:Menlo,'DejaVu Sans Mono',consolas,'Courier New',monospace\">Episode length: 751.20 +/- 89.33\n",
       "</pre>\n"
      ],
      "text/plain": [
       "Episode length: 751.20 +/- 89.33\n"
      ]
     },
     "metadata": {},
     "output_type": "display_data"
    },
    {
     "data": {
      "text/html": [
       "<pre style=\"white-space:pre;overflow-x:auto;line-height:normal;font-family:Menlo,'DejaVu Sans Mono',consolas,'Courier New',monospace\">New best mean reward!\n",
       "</pre>\n"
      ],
      "text/plain": [
       "New best mean reward!\n"
      ]
     },
     "metadata": {},
     "output_type": "display_data"
    },
    {
     "data": {
      "text/html": [
       "<pre style=\"white-space:pre;overflow-x:auto;line-height:normal;font-family:Menlo,'DejaVu Sans Mono',consolas,'Courier New',monospace\">Eval num_timesteps=90000, episode_reward=17.40 +/- 2.15\n",
       "</pre>\n"
      ],
      "text/plain": [
       "Eval num_timesteps=90000, episode_reward=17.40 +/- 2.15\n"
      ]
     },
     "metadata": {},
     "output_type": "display_data"
    },
    {
     "data": {
      "text/html": [
       "<pre style=\"white-space:pre;overflow-x:auto;line-height:normal;font-family:Menlo,'DejaVu Sans Mono',consolas,'Courier New',monospace\">Episode length: 647.80 +/- 46.47\n",
       "</pre>\n"
      ],
      "text/plain": [
       "Episode length: 647.80 +/- 46.47\n"
      ]
     },
     "metadata": {},
     "output_type": "display_data"
    },
    {
     "data": {
      "text/html": [
       "<pre style=\"white-space:pre;overflow-x:auto;line-height:normal;font-family:Menlo,'DejaVu Sans Mono',consolas,'Courier New',monospace\">Eval num_timesteps=100000, episode_reward=14.00 +/- 3.29\n",
       "</pre>\n"
      ],
      "text/plain": [
       "Eval num_timesteps=100000, episode_reward=14.00 +/- 3.29\n"
      ]
     },
     "metadata": {},
     "output_type": "display_data"
    },
    {
     "data": {
      "text/html": [
       "<pre style=\"white-space:pre;overflow-x:auto;line-height:normal;font-family:Menlo,'DejaVu Sans Mono',consolas,'Courier New',monospace\">Episode length: 607.80 +/- 68.93\n",
       "</pre>\n"
      ],
      "text/plain": [
       "Episode length: 607.80 +/- 68.93\n"
      ]
     },
     "metadata": {},
     "output_type": "display_data"
    },
    {
     "data": {
      "text/html": [
       "<pre style=\"white-space:pre;overflow-x:auto;line-height:normal;font-family:Menlo,'DejaVu Sans Mono',consolas,'Courier New',monospace\"></pre>\n"
      ],
      "text/plain": []
     },
     "metadata": {},
     "output_type": "display_data"
    },
    {
     "name": "stdout",
     "output_type": "stream",
     "text": [
      "Seed 1 training finished. Time: 574.73 seconds.\n"
     ]
    },
    {
     "data": {
      "text/html": [],
      "text/plain": [
       "<IPython.core.display.HTML object>"
      ]
     },
     "metadata": {},
     "output_type": "display_data"
    },
    {
     "data": {
      "text/html": [
       "<br>    <style><br>        .wandb-row {<br>            display: flex;<br>            flex-direction: row;<br>            flex-wrap: wrap;<br>            justify-content: flex-start;<br>            width: 100%;<br>        }<br>        .wandb-col {<br>            display: flex;<br>            flex-direction: column;<br>            flex-basis: 100%;<br>            flex: 1;<br>            padding: 10px;<br>        }<br>    </style><br><div class=\"wandb-row\"><div class=\"wandb-col\"><h3>Run history:</h3><br/><table class=\"wandb\"><tr><td>eval/mean_ep_length</td><td>▁▄▄▃▅▄▆█▇▆</td></tr><tr><td>eval/mean_reward</td><td>▁▄▄▃▄▄▆██▆</td></tr><tr><td>global_step</td><td>▁▁▂▂▂▂▂▃▃▃▃▃▄▄▄▄▅▅▅▅▆▆▆▆▇▇▇▇▇▇▇▇▇▇▇█████</td></tr><tr><td>rollout/ep_len_mean</td><td>▁▁▁▁▁▁▁▂▂▃▄▄▄▄▄▄▄▄▄▄▅▅▅▅▆▆▇▇▇▇██████████</td></tr><tr><td>rollout/ep_rew_mean</td><td>▁▁▁▁▁▁▁▁▂▂▃▄▄▄▄▄▄▄▄▄▄▄▅▅▅▆▆▆▆▇▇█████████</td></tr><tr><td>time/fps</td><td>▁▂▂▄▂▃▄▄▂▂▄▅▄▅▅▅▅▅▅▅▅▆▆▇▆▇▇█▇▇█▇▇██▇████</td></tr><tr><td>train/entropy_loss</td><td>▁▃▄▂▃▂▄▃▄▄▅▆▇▅▇▆▇▇█▇▅▇▆▆██████▇██▆██▇██▇</td></tr><tr><td>train/explained_variance</td><td>▇▆██████████████▇▇██▇██▇███████▇██▁▇███▇</td></tr><tr><td>train/learning_rate</td><td>▁▁▁▁▁▁▁▁▁▁▁▁▁▁▁▁▁▁▁▁▁▁▁▁▁▁▁▁▁▁▁▁▁▁▁▁▁▁▁▁</td></tr><tr><td>train/policy_loss</td><td>▄▁▃▄▄▂▁▆▂▃▂▄█▃▄▄▃▅▃█▃▃▄▄▄▃▄▄▄▃▄▄▃▆▄▄▄▄▄▄</td></tr><tr><td>train/value_loss</td><td>▂▁▁▂▁▁▁▂▂▂▂▁▃▁▁▄▃▁▁▃▂▂▂▁▂▂▃▁▁▁▂▄▂▂█▃▁▁▁▄</td></tr></table><br/></div><div class=\"wandb-col\"><h3>Run summary:</h3><br/><table class=\"wandb\"><tr><td>eval/mean_ep_length</td><td>607.8</td></tr><tr><td>eval/mean_reward</td><td>14</td></tr><tr><td>global_step</td><td>100000</td></tr><tr><td>rollout/ep_len_mean</td><td>658.21</td></tr><tr><td>rollout/ep_rew_mean</td><td>15.39</td></tr><tr><td>time/fps</td><td>174</td></tr><tr><td>train/entropy_loss</td><td>-0.11384</td></tr><tr><td>train/explained_variance</td><td>0.50478</td></tr><tr><td>train/learning_rate</td><td>0.0007</td></tr><tr><td>train/policy_loss</td><td>0.02239</td></tr><tr><td>train/value_loss</td><td>0.27985</td></tr></table><br/></div></div>"
      ],
      "text/plain": [
       "<IPython.core.display.HTML object>"
      ]
     },
     "metadata": {},
     "output_type": "display_data"
    },
    {
     "data": {
      "text/html": [
       " View run <strong style=\"color:#cdcd00\">A2C_default_seed42</strong> at: <a href='https://wandb.ai/emontel1-depaul-university/csc594_final_project/runs/14g0pk8o' target=\"_blank\">https://wandb.ai/emontel1-depaul-university/csc594_final_project/runs/14g0pk8o</a><br> View project at: <a href='https://wandb.ai/emontel1-depaul-university/csc594_final_project' target=\"_blank\">https://wandb.ai/emontel1-depaul-university/csc594_final_project</a><br>Synced 6 W&B file(s), 0 media file(s), 2 artifact file(s) and 1 other file(s)"
      ],
      "text/plain": [
       "<IPython.core.display.HTML object>"
      ]
     },
     "metadata": {},
     "output_type": "display_data"
    },
    {
     "data": {
      "text/html": [
       "Find logs at: <code>.\\wandb\\run-20250605_212107-14g0pk8o\\logs</code>"
      ],
      "text/plain": [
       "<IPython.core.display.HTML object>"
      ]
     },
     "metadata": {},
     "output_type": "display_data"
    },
    {
     "name": "stdout",
     "output_type": "stream",
     "text": [
      "\n",
      "--- Running Seed 2/3 (Actual Seed: 43) ---\n"
     ]
    },
    {
     "data": {
      "text/html": [
       "Tracking run with wandb version 0.20.1"
      ],
      "text/plain": [
       "<IPython.core.display.HTML object>"
      ]
     },
     "metadata": {},
     "output_type": "display_data"
    },
    {
     "data": {
      "text/html": [
       "Run data is saved locally in <code>d:\\workdir\\school_repos\\rl_project\\wandb\\run-20250605_213049-zyvev89g</code>"
      ],
      "text/plain": [
       "<IPython.core.display.HTML object>"
      ]
     },
     "metadata": {},
     "output_type": "display_data"
    },
    {
     "data": {
      "text/html": [
       "Syncing run <strong><a href='https://wandb.ai/emontel1-depaul-university/csc594_final_project/runs/zyvev89g' target=\"_blank\">A2C_default_seed43</a></strong> to <a href='https://wandb.ai/emontel1-depaul-university/csc594_final_project' target=\"_blank\">Weights & Biases</a> (<a href='https://wandb.me/developer-guide' target=\"_blank\">docs</a>)<br>"
      ],
      "text/plain": [
       "<IPython.core.display.HTML object>"
      ]
     },
     "metadata": {},
     "output_type": "display_data"
    },
    {
     "data": {
      "text/html": [
       " View project at <a href='https://wandb.ai/emontel1-depaul-university/csc594_final_project' target=\"_blank\">https://wandb.ai/emontel1-depaul-university/csc594_final_project</a>"
      ],
      "text/plain": [
       "<IPython.core.display.HTML object>"
      ]
     },
     "metadata": {},
     "output_type": "display_data"
    },
    {
     "data": {
      "text/html": [
       " View run at <a href='https://wandb.ai/emontel1-depaul-university/csc594_final_project/runs/zyvev89g' target=\"_blank\">https://wandb.ai/emontel1-depaul-university/csc594_final_project/runs/zyvev89g</a>"
      ],
      "text/plain": [
       "<IPython.core.display.HTML object>"
      ]
     },
     "metadata": {},
     "output_type": "display_data"
    },
    {
     "name": "stderr",
     "output_type": "stream",
     "text": [
      "wandb: WARNING When using several event log directories, please call `wandb.tensorboard.patch(root_logdir=\"...\")` before `wandb.init`\n"
     ]
    },
    {
     "data": {
      "application/vnd.jupyter.widget-view+json": {
       "model_id": "c3bc023ad95845a0b83f078e290b75b0",
       "version_major": 2,
       "version_minor": 0
      },
      "text/plain": [
       "Output()"
      ]
     },
     "metadata": {},
     "output_type": "display_data"
    },
    {
     "data": {
      "text/html": [
       "<pre style=\"white-space:pre;overflow-x:auto;line-height:normal;font-family:Menlo,'DejaVu Sans Mono',consolas,'Courier New',monospace\">Eval num_timesteps=10000, episode_reward=2.20 +/- 0.40\n",
       "</pre>\n"
      ],
      "text/plain": [
       "Eval num_timesteps=10000, episode_reward=2.20 +/- 0.40\n"
      ]
     },
     "metadata": {},
     "output_type": "display_data"
    },
    {
     "data": {
      "text/html": [
       "<pre style=\"white-space:pre;overflow-x:auto;line-height:normal;font-family:Menlo,'DejaVu Sans Mono',consolas,'Courier New',monospace\">Episode length: 221.40 +/- 15.55\n",
       "</pre>\n"
      ],
      "text/plain": [
       "Episode length: 221.40 +/- 15.55\n"
      ]
     },
     "metadata": {},
     "output_type": "display_data"
    },
    {
     "data": {
      "text/html": [
       "<pre style=\"white-space:pre;overflow-x:auto;line-height:normal;font-family:Menlo,'DejaVu Sans Mono',consolas,'Courier New',monospace\">New best mean reward!\n",
       "</pre>\n"
      ],
      "text/plain": [
       "New best mean reward!\n"
      ]
     },
     "metadata": {},
     "output_type": "display_data"
    },
    {
     "data": {
      "text/html": [
       "<pre style=\"white-space:pre;overflow-x:auto;line-height:normal;font-family:Menlo,'DejaVu Sans Mono',consolas,'Courier New',monospace\">Eval num_timesteps=20000, episode_reward=2.40 +/- 0.49\n",
       "</pre>\n"
      ],
      "text/plain": [
       "Eval num_timesteps=20000, episode_reward=2.40 +/- 0.49\n"
      ]
     },
     "metadata": {},
     "output_type": "display_data"
    },
    {
     "data": {
      "text/html": [
       "<pre style=\"white-space:pre;overflow-x:auto;line-height:normal;font-family:Menlo,'DejaVu Sans Mono',consolas,'Courier New',monospace\">Episode length: 232.40 +/- 18.26\n",
       "</pre>\n"
      ],
      "text/plain": [
       "Episode length: 232.40 +/- 18.26\n"
      ]
     },
     "metadata": {},
     "output_type": "display_data"
    },
    {
     "data": {
      "text/html": [
       "<pre style=\"white-space:pre;overflow-x:auto;line-height:normal;font-family:Menlo,'DejaVu Sans Mono',consolas,'Courier New',monospace\">New best mean reward!\n",
       "</pre>\n"
      ],
      "text/plain": [
       "New best mean reward!\n"
      ]
     },
     "metadata": {},
     "output_type": "display_data"
    },
    {
     "data": {
      "text/html": [
       "<pre style=\"white-space:pre;overflow-x:auto;line-height:normal;font-family:Menlo,'DejaVu Sans Mono',consolas,'Courier New',monospace\">Eval num_timesteps=30000, episode_reward=2.20 +/- 0.40\n",
       "</pre>\n"
      ],
      "text/plain": [
       "Eval num_timesteps=30000, episode_reward=2.20 +/- 0.40\n"
      ]
     },
     "metadata": {},
     "output_type": "display_data"
    },
    {
     "data": {
      "text/html": [
       "<pre style=\"white-space:pre;overflow-x:auto;line-height:normal;font-family:Menlo,'DejaVu Sans Mono',consolas,'Courier New',monospace\">Episode length: 229.20 +/- 17.97\n",
       "</pre>\n"
      ],
      "text/plain": [
       "Episode length: 229.20 +/- 17.97\n"
      ]
     },
     "metadata": {},
     "output_type": "display_data"
    },
    {
     "data": {
      "text/html": [
       "<pre style=\"white-space:pre;overflow-x:auto;line-height:normal;font-family:Menlo,'DejaVu Sans Mono',consolas,'Courier New',monospace\">Eval num_timesteps=40000, episode_reward=6.20 +/- 2.99\n",
       "</pre>\n"
      ],
      "text/plain": [
       "Eval num_timesteps=40000, episode_reward=6.20 +/- 2.99\n"
      ]
     },
     "metadata": {},
     "output_type": "display_data"
    },
    {
     "data": {
      "text/html": [
       "<pre style=\"white-space:pre;overflow-x:auto;line-height:normal;font-family:Menlo,'DejaVu Sans Mono',consolas,'Courier New',monospace\">Episode length: 331.60 +/- 70.22\n",
       "</pre>\n"
      ],
      "text/plain": [
       "Episode length: 331.60 +/- 70.22\n"
      ]
     },
     "metadata": {},
     "output_type": "display_data"
    },
    {
     "data": {
      "text/html": [
       "<pre style=\"white-space:pre;overflow-x:auto;line-height:normal;font-family:Menlo,'DejaVu Sans Mono',consolas,'Courier New',monospace\">New best mean reward!\n",
       "</pre>\n"
      ],
      "text/plain": [
       "New best mean reward!\n"
      ]
     },
     "metadata": {},
     "output_type": "display_data"
    },
    {
     "data": {
      "text/html": [
       "<pre style=\"white-space:pre;overflow-x:auto;line-height:normal;font-family:Menlo,'DejaVu Sans Mono',consolas,'Courier New',monospace\">Eval num_timesteps=50000, episode_reward=8.40 +/- 4.08\n",
       "</pre>\n"
      ],
      "text/plain": [
       "Eval num_timesteps=50000, episode_reward=8.40 +/- 4.08\n"
      ]
     },
     "metadata": {},
     "output_type": "display_data"
    },
    {
     "data": {
      "text/html": [
       "<pre style=\"white-space:pre;overflow-x:auto;line-height:normal;font-family:Menlo,'DejaVu Sans Mono',consolas,'Courier New',monospace\">Episode length: 342.60 +/- 100.30\n",
       "</pre>\n"
      ],
      "text/plain": [
       "Episode length: 342.60 +/- 100.30\n"
      ]
     },
     "metadata": {},
     "output_type": "display_data"
    },
    {
     "data": {
      "text/html": [
       "<pre style=\"white-space:pre;overflow-x:auto;line-height:normal;font-family:Menlo,'DejaVu Sans Mono',consolas,'Courier New',monospace\">New best mean reward!\n",
       "</pre>\n"
      ],
      "text/plain": [
       "New best mean reward!\n"
      ]
     },
     "metadata": {},
     "output_type": "display_data"
    },
    {
     "data": {
      "text/html": [
       "<pre style=\"white-space:pre;overflow-x:auto;line-height:normal;font-family:Menlo,'DejaVu Sans Mono',consolas,'Courier New',monospace\">Eval num_timesteps=60000, episode_reward=7.20 +/- 2.56\n",
       "</pre>\n"
      ],
      "text/plain": [
       "Eval num_timesteps=60000, episode_reward=7.20 +/- 2.56\n"
      ]
     },
     "metadata": {},
     "output_type": "display_data"
    },
    {
     "data": {
      "text/html": [
       "<pre style=\"white-space:pre;overflow-x:auto;line-height:normal;font-family:Menlo,'DejaVu Sans Mono',consolas,'Courier New',monospace\">Episode length: 293.00 +/- 31.70\n",
       "</pre>\n"
      ],
      "text/plain": [
       "Episode length: 293.00 +/- 31.70\n"
      ]
     },
     "metadata": {},
     "output_type": "display_data"
    },
    {
     "data": {
      "text/html": [
       "<pre style=\"white-space:pre;overflow-x:auto;line-height:normal;font-family:Menlo,'DejaVu Sans Mono',consolas,'Courier New',monospace\">Eval num_timesteps=70000, episode_reward=5.60 +/- 2.33\n",
       "</pre>\n"
      ],
      "text/plain": [
       "Eval num_timesteps=70000, episode_reward=5.60 +/- 2.33\n"
      ]
     },
     "metadata": {},
     "output_type": "display_data"
    },
    {
     "data": {
      "text/html": [
       "<pre style=\"white-space:pre;overflow-x:auto;line-height:normal;font-family:Menlo,'DejaVu Sans Mono',consolas,'Courier New',monospace\">Episode length: 300.60 +/- 52.24\n",
       "</pre>\n"
      ],
      "text/plain": [
       "Episode length: 300.60 +/- 52.24\n"
      ]
     },
     "metadata": {},
     "output_type": "display_data"
    },
    {
     "data": {
      "text/html": [
       "<pre style=\"white-space:pre;overflow-x:auto;line-height:normal;font-family:Menlo,'DejaVu Sans Mono',consolas,'Courier New',monospace\">Eval num_timesteps=80000, episode_reward=6.80 +/- 2.40\n",
       "</pre>\n"
      ],
      "text/plain": [
       "Eval num_timesteps=80000, episode_reward=6.80 +/- 2.40\n"
      ]
     },
     "metadata": {},
     "output_type": "display_data"
    },
    {
     "data": {
      "text/html": [
       "<pre style=\"white-space:pre;overflow-x:auto;line-height:normal;font-family:Menlo,'DejaVu Sans Mono',consolas,'Courier New',monospace\">Episode length: 333.60 +/- 50.30\n",
       "</pre>\n"
      ],
      "text/plain": [
       "Episode length: 333.60 +/- 50.30\n"
      ]
     },
     "metadata": {},
     "output_type": "display_data"
    },
    {
     "data": {
      "text/html": [
       "<pre style=\"white-space:pre;overflow-x:auto;line-height:normal;font-family:Menlo,'DejaVu Sans Mono',consolas,'Courier New',monospace\">Eval num_timesteps=90000, episode_reward=5.40 +/- 2.24\n",
       "</pre>\n"
      ],
      "text/plain": [
       "Eval num_timesteps=90000, episode_reward=5.40 +/- 2.24\n"
      ]
     },
     "metadata": {},
     "output_type": "display_data"
    },
    {
     "data": {
      "text/html": [
       "<pre style=\"white-space:pre;overflow-x:auto;line-height:normal;font-family:Menlo,'DejaVu Sans Mono',consolas,'Courier New',monospace\">Episode length: 351.60 +/- 88.08\n",
       "</pre>\n"
      ],
      "text/plain": [
       "Episode length: 351.60 +/- 88.08\n"
      ]
     },
     "metadata": {},
     "output_type": "display_data"
    },
    {
     "data": {
      "text/html": [
       "<pre style=\"white-space:pre;overflow-x:auto;line-height:normal;font-family:Menlo,'DejaVu Sans Mono',consolas,'Courier New',monospace\">Eval num_timesteps=100000, episode_reward=10.00 +/- 2.76\n",
       "</pre>\n"
      ],
      "text/plain": [
       "Eval num_timesteps=100000, episode_reward=10.00 +/- 2.76\n"
      ]
     },
     "metadata": {},
     "output_type": "display_data"
    },
    {
     "data": {
      "text/html": [
       "<pre style=\"white-space:pre;overflow-x:auto;line-height:normal;font-family:Menlo,'DejaVu Sans Mono',consolas,'Courier New',monospace\">Episode length: 504.00 +/- 55.35\n",
       "</pre>\n"
      ],
      "text/plain": [
       "Episode length: 504.00 +/- 55.35\n"
      ]
     },
     "metadata": {},
     "output_type": "display_data"
    },
    {
     "data": {
      "text/html": [
       "<pre style=\"white-space:pre;overflow-x:auto;line-height:normal;font-family:Menlo,'DejaVu Sans Mono',consolas,'Courier New',monospace\">New best mean reward!\n",
       "</pre>\n"
      ],
      "text/plain": [
       "New best mean reward!\n"
      ]
     },
     "metadata": {},
     "output_type": "display_data"
    },
    {
     "data": {
      "text/html": [
       "<pre style=\"white-space:pre;overflow-x:auto;line-height:normal;font-family:Menlo,'DejaVu Sans Mono',consolas,'Courier New',monospace\"></pre>\n"
      ],
      "text/plain": []
     },
     "metadata": {},
     "output_type": "display_data"
    },
    {
     "name": "stdout",
     "output_type": "stream",
     "text": [
      "Seed 2 training finished. Time: 584.76 seconds.\n"
     ]
    },
    {
     "data": {
      "text/html": [],
      "text/plain": [
       "<IPython.core.display.HTML object>"
      ]
     },
     "metadata": {},
     "output_type": "display_data"
    },
    {
     "data": {
      "text/html": [
       "<br>    <style><br>        .wandb-row {<br>            display: flex;<br>            flex-direction: row;<br>            flex-wrap: wrap;<br>            justify-content: flex-start;<br>            width: 100%;<br>        }<br>        .wandb-col {<br>            display: flex;<br>            flex-direction: column;<br>            flex-basis: 100%;<br>            flex: 1;<br>            padding: 10px;<br>        }<br>    </style><br><div class=\"wandb-row\"><div class=\"wandb-col\"><h3>Run history:</h3><br/><table class=\"wandb\"><tr><td>eval/mean_ep_length</td><td>▁▁▁▄▄▃▃▄▄█</td></tr><tr><td>eval/mean_reward</td><td>▁▁▁▅▇▅▄▅▄█</td></tr><tr><td>global_step</td><td>▁▁▁▁▁▂▂▂▂▄▄▄▄▄▄▄▄▅▅▅▅▅▅▅▆▆▆▆▆▆▇▇▇▇▇▇▇▇██</td></tr><tr><td>rollout/ep_len_mean</td><td>▁▁▂▂▂▁▂▂▂▂▂▂▂▂▂▂▂▃▄▄▄▄▄▄▄▄▄▄▄▄▄▄▄▄▅▄▅▅▆█</td></tr><tr><td>rollout/ep_rew_mean</td><td>▁▁▂▂▂▂▂▂▂▂▂▂▂▂▂▂▃▄▅▅▅▅▅▅▅▅▅▅▅▅▅▅▅▅▅▅▅▆▆█</td></tr><tr><td>time/fps</td><td>▁▃▅▁▂▄▄▂▃▃▄▃▃▄▄▃▄▄▅▅▅▅▅▅▅▆▆▆▆▆▇▇▇▇▇█▇███</td></tr><tr><td>train/entropy_loss</td><td>▁▂▃▂▃▃▃▂▃▅▃▅▄▅▃▂▇▇▇██▆▆█▆▆▅▇▇▆▇▅▅▅▆█▇█▇▇</td></tr><tr><td>train/explained_variance</td><td>▇██▁████████████████████████████████▇███</td></tr><tr><td>train/learning_rate</td><td>▁▁▁▁▁▁▁▁▁▁▁▁▁▁▁▁▁▁▁▁▁▁▁▁▁▁▁▁▁▁▁▁▁▁▁▁▁▁▁▁</td></tr><tr><td>train/policy_loss</td><td>█▁▆▅▅▅▅▆▆▅▅▅▅▅▂▆▅▅▅▆▅▆▅▅▆▆▅▃▅▅▅▅▅▅▅▅▇▅▆▃</td></tr><tr><td>train/value_loss</td><td>▃▂▁▁▁▁▁▁▂▁▁▁▁▁▂▃▂▁▂▁▂▁▂▃█▁▁▃▂▄▅▁▂▁▁▁█▆▆▂</td></tr></table><br/></div><div class=\"wandb-col\"><h3>Run summary:</h3><br/><table class=\"wandb\"><tr><td>eval/mean_ep_length</td><td>504</td></tr><tr><td>eval/mean_reward</td><td>10</td></tr><tr><td>global_step</td><td>100000</td></tr><tr><td>rollout/ep_len_mean</td><td>477.75</td></tr><tr><td>rollout/ep_rew_mean</td><td>10.11</td></tr><tr><td>time/fps</td><td>171</td></tr><tr><td>train/entropy_loss</td><td>-0.15537</td></tr><tr><td>train/explained_variance</td><td>0.96371</td></tr><tr><td>train/learning_rate</td><td>0.0007</td></tr><tr><td>train/policy_loss</td><td>-0.12297</td></tr><tr><td>train/value_loss</td><td>0.04428</td></tr></table><br/></div></div>"
      ],
      "text/plain": [
       "<IPython.core.display.HTML object>"
      ]
     },
     "metadata": {},
     "output_type": "display_data"
    },
    {
     "data": {
      "text/html": [
       " View run <strong style=\"color:#cdcd00\">A2C_default_seed43</strong> at: <a href='https://wandb.ai/emontel1-depaul-university/csc594_final_project/runs/zyvev89g' target=\"_blank\">https://wandb.ai/emontel1-depaul-university/csc594_final_project/runs/zyvev89g</a><br> View project at: <a href='https://wandb.ai/emontel1-depaul-university/csc594_final_project' target=\"_blank\">https://wandb.ai/emontel1-depaul-university/csc594_final_project</a><br>Synced 6 W&B file(s), 0 media file(s), 2 artifact file(s) and 1 other file(s)"
      ],
      "text/plain": [
       "<IPython.core.display.HTML object>"
      ]
     },
     "metadata": {},
     "output_type": "display_data"
    },
    {
     "data": {
      "text/html": [
       "Find logs at: <code>.\\wandb\\run-20250605_213049-zyvev89g\\logs</code>"
      ],
      "text/plain": [
       "<IPython.core.display.HTML object>"
      ]
     },
     "metadata": {},
     "output_type": "display_data"
    },
    {
     "name": "stdout",
     "output_type": "stream",
     "text": [
      "\n",
      "--- Running Seed 3/3 (Actual Seed: 44) ---\n"
     ]
    },
    {
     "data": {
      "text/html": [
       "Tracking run with wandb version 0.20.1"
      ],
      "text/plain": [
       "<IPython.core.display.HTML object>"
      ]
     },
     "metadata": {},
     "output_type": "display_data"
    },
    {
     "data": {
      "text/html": [
       "Run data is saved locally in <code>d:\\workdir\\school_repos\\rl_project\\wandb\\run-20250605_214041-nlwkas4l</code>"
      ],
      "text/plain": [
       "<IPython.core.display.HTML object>"
      ]
     },
     "metadata": {},
     "output_type": "display_data"
    },
    {
     "data": {
      "text/html": [
       "Syncing run <strong><a href='https://wandb.ai/emontel1-depaul-university/csc594_final_project/runs/nlwkas4l' target=\"_blank\">A2C_default_seed44</a></strong> to <a href='https://wandb.ai/emontel1-depaul-university/csc594_final_project' target=\"_blank\">Weights & Biases</a> (<a href='https://wandb.me/developer-guide' target=\"_blank\">docs</a>)<br>"
      ],
      "text/plain": [
       "<IPython.core.display.HTML object>"
      ]
     },
     "metadata": {},
     "output_type": "display_data"
    },
    {
     "data": {
      "text/html": [
       " View project at <a href='https://wandb.ai/emontel1-depaul-university/csc594_final_project' target=\"_blank\">https://wandb.ai/emontel1-depaul-university/csc594_final_project</a>"
      ],
      "text/plain": [
       "<IPython.core.display.HTML object>"
      ]
     },
     "metadata": {},
     "output_type": "display_data"
    },
    {
     "data": {
      "text/html": [
       " View run at <a href='https://wandb.ai/emontel1-depaul-university/csc594_final_project/runs/nlwkas4l' target=\"_blank\">https://wandb.ai/emontel1-depaul-university/csc594_final_project/runs/nlwkas4l</a>"
      ],
      "text/plain": [
       "<IPython.core.display.HTML object>"
      ]
     },
     "metadata": {},
     "output_type": "display_data"
    },
    {
     "name": "stderr",
     "output_type": "stream",
     "text": [
      "wandb: WARNING When using several event log directories, please call `wandb.tensorboard.patch(root_logdir=\"...\")` before `wandb.init`\n"
     ]
    },
    {
     "data": {
      "application/vnd.jupyter.widget-view+json": {
       "model_id": "321d122ad5c94de6a7de4a8fd6efe374",
       "version_major": 2,
       "version_minor": 0
      },
      "text/plain": [
       "Output()"
      ]
     },
     "metadata": {},
     "output_type": "display_data"
    },
    {
     "data": {
      "text/html": [
       "<pre style=\"white-space:pre;overflow-x:auto;line-height:normal;font-family:Menlo,'DejaVu Sans Mono',consolas,'Courier New',monospace\">Eval num_timesteps=10000, episode_reward=2.40 +/- 0.49\n",
       "</pre>\n"
      ],
      "text/plain": [
       "Eval num_timesteps=10000, episode_reward=2.40 +/- 0.49\n"
      ]
     },
     "metadata": {},
     "output_type": "display_data"
    },
    {
     "data": {
      "text/html": [
       "<pre style=\"white-space:pre;overflow-x:auto;line-height:normal;font-family:Menlo,'DejaVu Sans Mono',consolas,'Courier New',monospace\">Episode length: 234.60 +/- 27.79\n",
       "</pre>\n"
      ],
      "text/plain": [
       "Episode length: 234.60 +/- 27.79\n"
      ]
     },
     "metadata": {},
     "output_type": "display_data"
    },
    {
     "data": {
      "text/html": [
       "<pre style=\"white-space:pre;overflow-x:auto;line-height:normal;font-family:Menlo,'DejaVu Sans Mono',consolas,'Courier New',monospace\">New best mean reward!\n",
       "</pre>\n"
      ],
      "text/plain": [
       "New best mean reward!\n"
      ]
     },
     "metadata": {},
     "output_type": "display_data"
    },
    {
     "data": {
      "text/html": [
       "<pre style=\"white-space:pre;overflow-x:auto;line-height:normal;font-family:Menlo,'DejaVu Sans Mono',consolas,'Courier New',monospace\">Eval num_timesteps=20000, episode_reward=2.20 +/- 0.40\n",
       "</pre>\n"
      ],
      "text/plain": [
       "Eval num_timesteps=20000, episode_reward=2.20 +/- 0.40\n"
      ]
     },
     "metadata": {},
     "output_type": "display_data"
    },
    {
     "data": {
      "text/html": [
       "<pre style=\"white-space:pre;overflow-x:auto;line-height:normal;font-family:Menlo,'DejaVu Sans Mono',consolas,'Courier New',monospace\">Episode length: 228.20 +/- 25.48\n",
       "</pre>\n"
      ],
      "text/plain": [
       "Episode length: 228.20 +/- 25.48\n"
      ]
     },
     "metadata": {},
     "output_type": "display_data"
    },
    {
     "data": {
      "text/html": [
       "<pre style=\"white-space:pre;overflow-x:auto;line-height:normal;font-family:Menlo,'DejaVu Sans Mono',consolas,'Courier New',monospace\">Eval num_timesteps=30000, episode_reward=2.40 +/- 0.49\n",
       "</pre>\n"
      ],
      "text/plain": [
       "Eval num_timesteps=30000, episode_reward=2.40 +/- 0.49\n"
      ]
     },
     "metadata": {},
     "output_type": "display_data"
    },
    {
     "data": {
      "text/html": [
       "<pre style=\"white-space:pre;overflow-x:auto;line-height:normal;font-family:Menlo,'DejaVu Sans Mono',consolas,'Courier New',monospace\">Episode length: 240.40 +/- 25.14\n",
       "</pre>\n"
      ],
      "text/plain": [
       "Episode length: 240.40 +/- 25.14\n"
      ]
     },
     "metadata": {},
     "output_type": "display_data"
    },
    {
     "data": {
      "text/html": [
       "<pre style=\"white-space:pre;overflow-x:auto;line-height:normal;font-family:Menlo,'DejaVu Sans Mono',consolas,'Courier New',monospace\">Eval num_timesteps=40000, episode_reward=1.20 +/- 0.98\n",
       "</pre>\n"
      ],
      "text/plain": [
       "Eval num_timesteps=40000, episode_reward=1.20 +/- 0.98\n"
      ]
     },
     "metadata": {},
     "output_type": "display_data"
    },
    {
     "data": {
      "text/html": [
       "<pre style=\"white-space:pre;overflow-x:auto;line-height:normal;font-family:Menlo,'DejaVu Sans Mono',consolas,'Courier New',monospace\">Episode length: 216.20 +/- 35.02\n",
       "</pre>\n"
      ],
      "text/plain": [
       "Episode length: 216.20 +/- 35.02\n"
      ]
     },
     "metadata": {},
     "output_type": "display_data"
    },
    {
     "data": {
      "text/html": [
       "<pre style=\"white-space:pre;overflow-x:auto;line-height:normal;font-family:Menlo,'DejaVu Sans Mono',consolas,'Courier New',monospace\">Eval num_timesteps=50000, episode_reward=9.60 +/- 1.36\n",
       "</pre>\n"
      ],
      "text/plain": [
       "Eval num_timesteps=50000, episode_reward=9.60 +/- 1.36\n"
      ]
     },
     "metadata": {},
     "output_type": "display_data"
    },
    {
     "data": {
      "text/html": [
       "<pre style=\"white-space:pre;overflow-x:auto;line-height:normal;font-family:Menlo,'DejaVu Sans Mono',consolas,'Courier New',monospace\">Episode length: 507.20 +/- 59.15\n",
       "</pre>\n"
      ],
      "text/plain": [
       "Episode length: 507.20 +/- 59.15\n"
      ]
     },
     "metadata": {},
     "output_type": "display_data"
    },
    {
     "data": {
      "text/html": [
       "<pre style=\"white-space:pre;overflow-x:auto;line-height:normal;font-family:Menlo,'DejaVu Sans Mono',consolas,'Courier New',monospace\">New best mean reward!\n",
       "</pre>\n"
      ],
      "text/plain": [
       "New best mean reward!\n"
      ]
     },
     "metadata": {},
     "output_type": "display_data"
    },
    {
     "data": {
      "text/html": [
       "<pre style=\"white-space:pre;overflow-x:auto;line-height:normal;font-family:Menlo,'DejaVu Sans Mono',consolas,'Courier New',monospace\">Eval num_timesteps=60000, episode_reward=10.00 +/- 1.41\n",
       "</pre>\n"
      ],
      "text/plain": [
       "Eval num_timesteps=60000, episode_reward=10.00 +/- 1.41\n"
      ]
     },
     "metadata": {},
     "output_type": "display_data"
    },
    {
     "data": {
      "text/html": [
       "<pre style=\"white-space:pre;overflow-x:auto;line-height:normal;font-family:Menlo,'DejaVu Sans Mono',consolas,'Courier New',monospace\">Episode length: 519.80 +/- 65.14\n",
       "</pre>\n"
      ],
      "text/plain": [
       "Episode length: 519.80 +/- 65.14\n"
      ]
     },
     "metadata": {},
     "output_type": "display_data"
    },
    {
     "data": {
      "text/html": [
       "<pre style=\"white-space:pre;overflow-x:auto;line-height:normal;font-family:Menlo,'DejaVu Sans Mono',consolas,'Courier New',monospace\">New best mean reward!\n",
       "</pre>\n"
      ],
      "text/plain": [
       "New best mean reward!\n"
      ]
     },
     "metadata": {},
     "output_type": "display_data"
    },
    {
     "data": {
      "text/html": [
       "<pre style=\"white-space:pre;overflow-x:auto;line-height:normal;font-family:Menlo,'DejaVu Sans Mono',consolas,'Courier New',monospace\">Eval num_timesteps=70000, episode_reward=1.60 +/- 0.80\n",
       "</pre>\n"
      ],
      "text/plain": [
       "Eval num_timesteps=70000, episode_reward=1.60 +/- 0.80\n"
      ]
     },
     "metadata": {},
     "output_type": "display_data"
    },
    {
     "data": {
      "text/html": [
       "<pre style=\"white-space:pre;overflow-x:auto;line-height:normal;font-family:Menlo,'DejaVu Sans Mono',consolas,'Courier New',monospace\">Episode length: 224.80 +/- 24.16\n",
       "</pre>\n"
      ],
      "text/plain": [
       "Episode length: 224.80 +/- 24.16\n"
      ]
     },
     "metadata": {},
     "output_type": "display_data"
    },
    {
     "data": {
      "text/html": [
       "<pre style=\"white-space:pre;overflow-x:auto;line-height:normal;font-family:Menlo,'DejaVu Sans Mono',consolas,'Courier New',monospace\">Eval num_timesteps=80000, episode_reward=11.40 +/- 2.58\n",
       "</pre>\n"
      ],
      "text/plain": [
       "Eval num_timesteps=80000, episode_reward=11.40 +/- 2.58\n"
      ]
     },
     "metadata": {},
     "output_type": "display_data"
    },
    {
     "data": {
      "text/html": [
       "<pre style=\"white-space:pre;overflow-x:auto;line-height:normal;font-family:Menlo,'DejaVu Sans Mono',consolas,'Courier New',monospace\">New best mean reward!\n",
       "</pre>\n"
      ],
      "text/plain": [
       "New best mean reward!\n"
      ]
     },
     "metadata": {},
     "output_type": "display_data"
    },
    {
     "data": {
      "text/html": [
       "<pre style=\"white-space:pre;overflow-x:auto;line-height:normal;font-family:Menlo,'DejaVu Sans Mono',consolas,'Courier New',monospace\">Eval num_timesteps=90000, episode_reward=12.60 +/- 2.15\n",
       "</pre>\n"
      ],
      "text/plain": [
       "Eval num_timesteps=90000, episode_reward=12.60 +/- 2.15\n"
      ]
     },
     "metadata": {},
     "output_type": "display_data"
    },
    {
     "data": {
      "text/html": [
       "<pre style=\"white-space:pre;overflow-x:auto;line-height:normal;font-family:Menlo,'DejaVu Sans Mono',consolas,'Courier New',monospace\">Episode length: 570.40 +/- 34.83\n",
       "</pre>\n"
      ],
      "text/plain": [
       "Episode length: 570.40 +/- 34.83\n"
      ]
     },
     "metadata": {},
     "output_type": "display_data"
    },
    {
     "data": {
      "text/html": [
       "<pre style=\"white-space:pre;overflow-x:auto;line-height:normal;font-family:Menlo,'DejaVu Sans Mono',consolas,'Courier New',monospace\">New best mean reward!\n",
       "</pre>\n"
      ],
      "text/plain": [
       "New best mean reward!\n"
      ]
     },
     "metadata": {},
     "output_type": "display_data"
    },
    {
     "data": {
      "text/html": [
       "<pre style=\"white-space:pre;overflow-x:auto;line-height:normal;font-family:Menlo,'DejaVu Sans Mono',consolas,'Courier New',monospace\">Eval num_timesteps=100000, episode_reward=12.20 +/- 1.83\n",
       "</pre>\n"
      ],
      "text/plain": [
       "Eval num_timesteps=100000, episode_reward=12.20 +/- 1.83\n"
      ]
     },
     "metadata": {},
     "output_type": "display_data"
    },
    {
     "data": {
      "text/html": [
       "<pre style=\"white-space:pre;overflow-x:auto;line-height:normal;font-family:Menlo,'DejaVu Sans Mono',consolas,'Courier New',monospace\">Episode length: 543.40 +/- 16.60\n",
       "</pre>\n"
      ],
      "text/plain": [
       "Episode length: 543.40 +/- 16.60\n"
      ]
     },
     "metadata": {},
     "output_type": "display_data"
    },
    {
     "data": {
      "text/html": [
       "<pre style=\"white-space:pre;overflow-x:auto;line-height:normal;font-family:Menlo,'DejaVu Sans Mono',consolas,'Courier New',monospace\"></pre>\n"
      ],
      "text/plain": []
     },
     "metadata": {},
     "output_type": "display_data"
    },
    {
     "name": "stdout",
     "output_type": "stream",
     "text": [
      "Seed 3 training finished. Time: 585.86 seconds.\n"
     ]
    },
    {
     "data": {
      "text/html": [],
      "text/plain": [
       "<IPython.core.display.HTML object>"
      ]
     },
     "metadata": {},
     "output_type": "display_data"
    },
    {
     "data": {
      "text/html": [
       "<br>    <style><br>        .wandb-row {<br>            display: flex;<br>            flex-direction: row;<br>            flex-wrap: wrap;<br>            justify-content: flex-start;<br>            width: 100%;<br>        }<br>        .wandb-col {<br>            display: flex;<br>            flex-direction: column;<br>            flex-basis: 100%;<br>            flex: 1;<br>            padding: 10px;<br>        }<br>    </style><br><div class=\"wandb-row\"><div class=\"wandb-col\"><h3>Run history:</h3><br/><table class=\"wandb\"><tr><td>eval/mean_ep_length</td><td>▁▁▁▁▇▇▁▇█▇</td></tr><tr><td>eval/mean_reward</td><td>▂▂▂▁▆▆▁▇██</td></tr><tr><td>global_step</td><td>▁▁▁▁▁▂▂▂▂▂▃▃▃▄▄▄▅▅▅▅▅▅▅▆▆▆▆▆▆▆▇▇▇▇▇▇████</td></tr><tr><td>rollout/ep_len_mean</td><td>▁▁▁▁▁▁▁▁▁▁▁▁▁▁▁▁▁▁▁▁▂▃▄▄▅▅▆▆▆▆▆▆▇▇▇█████</td></tr><tr><td>rollout/ep_rew_mean</td><td>▁▁▁▁▁▁▁▁▁▁▁▁▁▁▁▁▁▁▁▂▃▄▅▅▅▆▆▆▅▆▆▇▇█████▇█</td></tr><tr><td>time/fps</td><td>▁▂▄▅▂▃▄▄▃▃▄▄▃▄▄▅▄▄▅▅▄▅▅▅▅▆▇▆▇▇▇▇▇▇█▇▇██▇</td></tr><tr><td>train/entropy_loss</td><td>▄▃▂▆▃▆▅▄▄▄▇▃▃▁▁▂▂▃▁▁▄▅▇▆▇▆▄▃█▆▇▇▆▇▇█▇▇▇█</td></tr><tr><td>train/explained_variance</td><td>▆▇██████████████████▆▇▆█▇▇▇▁▇▇▃▇▇▃▇█▆█▇▇</td></tr><tr><td>train/learning_rate</td><td>▁▁▁▁▁▁▁▁▁▁▁▁▁▁▁▁▁▁▁▁▁▁▁▁▁▁▁▁▁▁▁▁▁▁▁▁▁▁▁▁</td></tr><tr><td>train/policy_loss</td><td>▇▇▅▆▆▅▅▅▅▅▅▅▆▆▆▅▆▅▅▅▁▄█▅▆▄▆█▅▅▅▂▄▅▆▅▆▅▆▆</td></tr><tr><td>train/value_loss</td><td>▂▁▁▁▂▁▁▁▁▁▁▁▁▁▁▁▁▁▁▆▂▅▁▃▂▂▅▂▂▁▁▂▆█▃▂▂▂▃▄</td></tr></table><br/></div><div class=\"wandb-col\"><h3>Run summary:</h3><br/><table class=\"wandb\"><tr><td>eval/mean_ep_length</td><td>543.4</td></tr><tr><td>eval/mean_reward</td><td>12.2</td></tr><tr><td>global_step</td><td>100000</td></tr><tr><td>rollout/ep_len_mean</td><td>576.2</td></tr><tr><td>rollout/ep_rew_mean</td><td>12.21</td></tr><tr><td>time/fps</td><td>170</td></tr><tr><td>train/entropy_loss</td><td>-0.13905</td></tr><tr><td>train/explained_variance</td><td>0.93992</td></tr><tr><td>train/learning_rate</td><td>0.0007</td></tr><tr><td>train/policy_loss</td><td>0.00657</td></tr><tr><td>train/value_loss</td><td>0.13959</td></tr></table><br/></div></div>"
      ],
      "text/plain": [
       "<IPython.core.display.HTML object>"
      ]
     },
     "metadata": {},
     "output_type": "display_data"
    },
    {
     "data": {
      "text/html": [
       " View run <strong style=\"color:#cdcd00\">A2C_default_seed44</strong> at: <a href='https://wandb.ai/emontel1-depaul-university/csc594_final_project/runs/nlwkas4l' target=\"_blank\">https://wandb.ai/emontel1-depaul-university/csc594_final_project/runs/nlwkas4l</a><br> View project at: <a href='https://wandb.ai/emontel1-depaul-university/csc594_final_project' target=\"_blank\">https://wandb.ai/emontel1-depaul-university/csc594_final_project</a><br>Synced 6 W&B file(s), 0 media file(s), 2 artifact file(s) and 1 other file(s)"
      ],
      "text/plain": [
       "<IPython.core.display.HTML object>"
      ]
     },
     "metadata": {},
     "output_type": "display_data"
    },
    {
     "data": {
      "text/html": [
       "Find logs at: <code>.\\wandb\\run-20250605_214041-nlwkas4l\\logs</code>"
      ],
      "text/plain": [
       "<IPython.core.display.HTML object>"
      ]
     },
     "metadata": {},
     "output_type": "display_data"
    },
    {
     "name": "stdout",
     "output_type": "stream",
     "text": [
      "\n",
      "==================== Training DQN Baseline ====================\n",
      "\n",
      "--- Running Seed 1/3 (Actual Seed: 42) ---\n"
     ]
    },
    {
     "data": {
      "text/html": [
       "Tracking run with wandb version 0.20.1"
      ],
      "text/plain": [
       "<IPython.core.display.HTML object>"
      ]
     },
     "metadata": {},
     "output_type": "display_data"
    },
    {
     "data": {
      "text/html": [
       "Run data is saved locally in <code>d:\\workdir\\school_repos\\rl_project\\wandb\\run-20250605_215035-h6quchyq</code>"
      ],
      "text/plain": [
       "<IPython.core.display.HTML object>"
      ]
     },
     "metadata": {},
     "output_type": "display_data"
    },
    {
     "data": {
      "text/html": [
       "Syncing run <strong><a href='https://wandb.ai/emontel1-depaul-university/csc594_final_project/runs/h6quchyq' target=\"_blank\">DQN_default_seed42</a></strong> to <a href='https://wandb.ai/emontel1-depaul-university/csc594_final_project' target=\"_blank\">Weights & Biases</a> (<a href='https://wandb.me/developer-guide' target=\"_blank\">docs</a>)<br>"
      ],
      "text/plain": [
       "<IPython.core.display.HTML object>"
      ]
     },
     "metadata": {},
     "output_type": "display_data"
    },
    {
     "data": {
      "text/html": [
       " View project at <a href='https://wandb.ai/emontel1-depaul-university/csc594_final_project' target=\"_blank\">https://wandb.ai/emontel1-depaul-university/csc594_final_project</a>"
      ],
      "text/plain": [
       "<IPython.core.display.HTML object>"
      ]
     },
     "metadata": {},
     "output_type": "display_data"
    },
    {
     "data": {
      "text/html": [
       " View run at <a href='https://wandb.ai/emontel1-depaul-university/csc594_final_project/runs/h6quchyq' target=\"_blank\">https://wandb.ai/emontel1-depaul-university/csc594_final_project/runs/h6quchyq</a>"
      ],
      "text/plain": [
       "<IPython.core.display.HTML object>"
      ]
     },
     "metadata": {},
     "output_type": "display_data"
    },
    {
     "name": "stderr",
     "output_type": "stream",
     "text": [
      "wandb: WARNING When using several event log directories, please call `wandb.tensorboard.patch(root_logdir=\"...\")` before `wandb.init`\n"
     ]
    },
    {
     "data": {
      "application/vnd.jupyter.widget-view+json": {
       "model_id": "635790f4903e468a9f242ab0d58afe07",
       "version_major": 2,
       "version_minor": 0
      },
      "text/plain": [
       "Output()"
      ]
     },
     "metadata": {},
     "output_type": "display_data"
    },
    {
     "data": {
      "text/html": [
       "<pre style=\"white-space:pre;overflow-x:auto;line-height:normal;font-family:Menlo,'DejaVu Sans Mono',consolas,'Courier New',monospace\">Eval num_timesteps=10000, episode_reward=1.20 +/- 0.98\n",
       "</pre>\n"
      ],
      "text/plain": [
       "Eval num_timesteps=10000, episode_reward=1.20 +/- 0.98\n"
      ]
     },
     "metadata": {},
     "output_type": "display_data"
    },
    {
     "data": {
      "text/html": [
       "<pre style=\"white-space:pre;overflow-x:auto;line-height:normal;font-family:Menlo,'DejaVu Sans Mono',consolas,'Courier New',monospace\">Episode length: 213.00 +/- 40.56\n",
       "</pre>\n"
      ],
      "text/plain": [
       "Episode length: 213.00 +/- 40.56\n"
      ]
     },
     "metadata": {},
     "output_type": "display_data"
    },
    {
     "data": {
      "text/html": [
       "<pre style=\"white-space:pre;overflow-x:auto;line-height:normal;font-family:Menlo,'DejaVu Sans Mono',consolas,'Courier New',monospace\">New best mean reward!\n",
       "</pre>\n"
      ],
      "text/plain": [
       "New best mean reward!\n"
      ]
     },
     "metadata": {},
     "output_type": "display_data"
    },
    {
     "data": {
      "text/html": [
       "<pre style=\"white-space:pre;overflow-x:auto;line-height:normal;font-family:Menlo,'DejaVu Sans Mono',consolas,'Courier New',monospace\">Eval num_timesteps=20000, episode_reward=2.00 +/- 0.00\n",
       "</pre>\n"
      ],
      "text/plain": [
       "Eval num_timesteps=20000, episode_reward=2.00 +/- 0.00\n"
      ]
     },
     "metadata": {},
     "output_type": "display_data"
    },
    {
     "data": {
      "text/html": [
       "<pre style=\"white-space:pre;overflow-x:auto;line-height:normal;font-family:Menlo,'DejaVu Sans Mono',consolas,'Courier New',monospace\">Episode length: 215.80 +/- 7.91\n",
       "</pre>\n"
      ],
      "text/plain": [
       "Episode length: 215.80 +/- 7.91\n"
      ]
     },
     "metadata": {},
     "output_type": "display_data"
    },
    {
     "data": {
      "text/html": [
       "<pre style=\"white-space:pre;overflow-x:auto;line-height:normal;font-family:Menlo,'DejaVu Sans Mono',consolas,'Courier New',monospace\">New best mean reward!\n",
       "</pre>\n"
      ],
      "text/plain": [
       "New best mean reward!\n"
      ]
     },
     "metadata": {},
     "output_type": "display_data"
    },
    {
     "data": {
      "text/html": [
       "<pre style=\"white-space:pre;overflow-x:auto;line-height:normal;font-family:Menlo,'DejaVu Sans Mono',consolas,'Courier New',monospace\">Eval num_timesteps=30000, episode_reward=2.00 +/- 0.00\n",
       "</pre>\n"
      ],
      "text/plain": [
       "Eval num_timesteps=30000, episode_reward=2.00 +/- 0.00\n"
      ]
     },
     "metadata": {},
     "output_type": "display_data"
    },
    {
     "data": {
      "text/html": [
       "<pre style=\"white-space:pre;overflow-x:auto;line-height:normal;font-family:Menlo,'DejaVu Sans Mono',consolas,'Courier New',monospace\">Episode length: 241.80 +/- 8.84\n",
       "</pre>\n"
      ],
      "text/plain": [
       "Episode length: 241.80 +/- 8.84\n"
      ]
     },
     "metadata": {},
     "output_type": "display_data"
    },
    {
     "data": {
      "text/html": [
       "<pre style=\"white-space:pre;overflow-x:auto;line-height:normal;font-family:Menlo,'DejaVu Sans Mono',consolas,'Courier New',monospace\">Eval num_timesteps=40000, episode_reward=0.80 +/- 0.98\n",
       "</pre>\n"
      ],
      "text/plain": [
       "Eval num_timesteps=40000, episode_reward=0.80 +/- 0.98\n"
      ]
     },
     "metadata": {},
     "output_type": "display_data"
    },
    {
     "data": {
      "text/html": [
       "<pre style=\"white-space:pre;overflow-x:auto;line-height:normal;font-family:Menlo,'DejaVu Sans Mono',consolas,'Courier New',monospace\">Episode length: 193.20 +/- 41.15\n",
       "</pre>\n"
      ],
      "text/plain": [
       "Episode length: 193.20 +/- 41.15\n"
      ]
     },
     "metadata": {},
     "output_type": "display_data"
    },
    {
     "data": {
      "text/html": [
       "<pre style=\"white-space:pre;overflow-x:auto;line-height:normal;font-family:Menlo,'DejaVu Sans Mono',consolas,'Courier New',monospace\">Eval num_timesteps=50000, episode_reward=0.60 +/- 0.49\n",
       "</pre>\n"
      ],
      "text/plain": [
       "Eval num_timesteps=50000, episode_reward=0.60 +/- 0.49\n"
      ]
     },
     "metadata": {},
     "output_type": "display_data"
    },
    {
     "data": {
      "text/html": [
       "<pre style=\"white-space:pre;overflow-x:auto;line-height:normal;font-family:Menlo,'DejaVu Sans Mono',consolas,'Courier New',monospace\">Episode length: 194.20 +/- 26.77\n",
       "</pre>\n"
      ],
      "text/plain": [
       "Episode length: 194.20 +/- 26.77\n"
      ]
     },
     "metadata": {},
     "output_type": "display_data"
    },
    {
     "data": {
      "text/html": [
       "<pre style=\"white-space:pre;overflow-x:auto;line-height:normal;font-family:Menlo,'DejaVu Sans Mono',consolas,'Courier New',monospace\">Eval num_timesteps=60000, episode_reward=2.60 +/- 2.15\n",
       "</pre>\n"
      ],
      "text/plain": [
       "Eval num_timesteps=60000, episode_reward=2.60 +/- 2.15\n"
      ]
     },
     "metadata": {},
     "output_type": "display_data"
    },
    {
     "data": {
      "text/html": [
       "<pre style=\"white-space:pre;overflow-x:auto;line-height:normal;font-family:Menlo,'DejaVu Sans Mono',consolas,'Courier New',monospace\">Episode length: 246.20 +/- 84.67\n",
       "</pre>\n"
      ],
      "text/plain": [
       "Episode length: 246.20 +/- 84.67\n"
      ]
     },
     "metadata": {},
     "output_type": "display_data"
    },
    {
     "data": {
      "text/html": [
       "<pre style=\"white-space:pre;overflow-x:auto;line-height:normal;font-family:Menlo,'DejaVu Sans Mono',consolas,'Courier New',monospace\">New best mean reward!\n",
       "</pre>\n"
      ],
      "text/plain": [
       "New best mean reward!\n"
      ]
     },
     "metadata": {},
     "output_type": "display_data"
    },
    {
     "data": {
      "text/html": [
       "<pre style=\"white-space:pre;overflow-x:auto;line-height:normal;font-family:Menlo,'DejaVu Sans Mono',consolas,'Courier New',monospace\">Eval num_timesteps=70000, episode_reward=5.20 +/- 1.72\n",
       "</pre>\n"
      ],
      "text/plain": [
       "Eval num_timesteps=70000, episode_reward=5.20 +/- 1.72\n"
      ]
     },
     "metadata": {},
     "output_type": "display_data"
    },
    {
     "data": {
      "text/html": [
       "<pre style=\"white-space:pre;overflow-x:auto;line-height:normal;font-family:Menlo,'DejaVu Sans Mono',consolas,'Courier New',monospace\">Episode length: 314.80 +/- 39.91\n",
       "</pre>\n"
      ],
      "text/plain": [
       "Episode length: 314.80 +/- 39.91\n"
      ]
     },
     "metadata": {},
     "output_type": "display_data"
    },
    {
     "data": {
      "text/html": [
       "<pre style=\"white-space:pre;overflow-x:auto;line-height:normal;font-family:Menlo,'DejaVu Sans Mono',consolas,'Courier New',monospace\">New best mean reward!\n",
       "</pre>\n"
      ],
      "text/plain": [
       "New best mean reward!\n"
      ]
     },
     "metadata": {},
     "output_type": "display_data"
    },
    {
     "data": {
      "text/html": [
       "<pre style=\"white-space:pre;overflow-x:auto;line-height:normal;font-family:Menlo,'DejaVu Sans Mono',consolas,'Courier New',monospace\">Eval num_timesteps=80000, episode_reward=9.00 +/- 2.10\n",
       "</pre>\n"
      ],
      "text/plain": [
       "Eval num_timesteps=80000, episode_reward=9.00 +/- 2.10\n"
      ]
     },
     "metadata": {},
     "output_type": "display_data"
    },
    {
     "data": {
      "text/html": [
       "<pre style=\"white-space:pre;overflow-x:auto;line-height:normal;font-family:Menlo,'DejaVu Sans Mono',consolas,'Courier New',monospace\">Episode length: 444.20 +/- 40.99\n",
       "</pre>\n"
      ],
      "text/plain": [
       "Episode length: 444.20 +/- 40.99\n"
      ]
     },
     "metadata": {},
     "output_type": "display_data"
    },
    {
     "data": {
      "text/html": [
       "<pre style=\"white-space:pre;overflow-x:auto;line-height:normal;font-family:Menlo,'DejaVu Sans Mono',consolas,'Courier New',monospace\">New best mean reward!\n",
       "</pre>\n"
      ],
      "text/plain": [
       "New best mean reward!\n"
      ]
     },
     "metadata": {},
     "output_type": "display_data"
    },
    {
     "data": {
      "text/html": [
       "<pre style=\"white-space:pre;overflow-x:auto;line-height:normal;font-family:Menlo,'DejaVu Sans Mono',consolas,'Courier New',monospace\">Eval num_timesteps=90000, episode_reward=4.80 +/- 0.75\n",
       "</pre>\n"
      ],
      "text/plain": [
       "Eval num_timesteps=90000, episode_reward=4.80 +/- 0.75\n"
      ]
     },
     "metadata": {},
     "output_type": "display_data"
    },
    {
     "data": {
      "text/html": [
       "<pre style=\"white-space:pre;overflow-x:auto;line-height:normal;font-family:Menlo,'DejaVu Sans Mono',consolas,'Courier New',monospace\">Episode length: 340.00 +/- 22.03\n",
       "</pre>\n"
      ],
      "text/plain": [
       "Episode length: 340.00 +/- 22.03\n"
      ]
     },
     "metadata": {},
     "output_type": "display_data"
    },
    {
     "data": {
      "text/html": [
       "<pre style=\"white-space:pre;overflow-x:auto;line-height:normal;font-family:Menlo,'DejaVu Sans Mono',consolas,'Courier New',monospace\">Eval num_timesteps=100000, episode_reward=8.20 +/- 5.27\n",
       "</pre>\n"
      ],
      "text/plain": [
       "Eval num_timesteps=100000, episode_reward=8.20 +/- 5.27\n"
      ]
     },
     "metadata": {},
     "output_type": "display_data"
    },
    {
     "data": {
      "text/html": [
       "<pre style=\"white-space:pre;overflow-x:auto;line-height:normal;font-family:Menlo,'DejaVu Sans Mono',consolas,'Courier New',monospace\">Episode length: 399.60 +/- 126.09\n",
       "</pre>\n"
      ],
      "text/plain": [
       "Episode length: 399.60 +/- 126.09\n"
      ]
     },
     "metadata": {},
     "output_type": "display_data"
    },
    {
     "data": {
      "text/html": [
       "<pre style=\"white-space:pre;overflow-x:auto;line-height:normal;font-family:Menlo,'DejaVu Sans Mono',consolas,'Courier New',monospace\"></pre>\n"
      ],
      "text/plain": []
     },
     "metadata": {},
     "output_type": "display_data"
    },
    {
     "name": "stdout",
     "output_type": "stream",
     "text": [
      "Seed 1 training finished. Time: 654.35 seconds.\n"
     ]
    },
    {
     "data": {
      "text/html": [],
      "text/plain": [
       "<IPython.core.display.HTML object>"
      ]
     },
     "metadata": {},
     "output_type": "display_data"
    },
    {
     "data": {
      "text/html": [
       "<br>    <style><br>        .wandb-row {<br>            display: flex;<br>            flex-direction: row;<br>            flex-wrap: wrap;<br>            justify-content: flex-start;<br>            width: 100%;<br>        }<br>        .wandb-col {<br>            display: flex;<br>            flex-direction: column;<br>            flex-basis: 100%;<br>            flex: 1;<br>            padding: 10px;<br>        }<br>    </style><br><div class=\"wandb-row\"><div class=\"wandb-col\"><h3>Run history:</h3><br/><table class=\"wandb\"><tr><td>eval/mean_ep_length</td><td>▂▂▂▁▁▂▄█▅▇</td></tr><tr><td>eval/mean_reward</td><td>▂▂▂▁▁▃▅█▅▇</td></tr><tr><td>global_step</td><td>▁▁▂▂▂▂▂▂▂▂▃▃▃▃▃▃▃▄▄▄▄▄▄▄▅▅▅▆▆▆▆▆▇▇▇▇▇▇▇█</td></tr><tr><td>rollout/ep_len_mean</td><td>▂▂▂▂▂▂▂▂▂▂▂▂▂▁▁▂▂▂▂▁▁▁▁▂▃▁▂▃▃▄▄▄▄▄▄▇▇█▆▆</td></tr><tr><td>rollout/ep_rew_mean</td><td>▁▂▂▂▂▂▂▂▂▁▂▂▂▂▂▁▁▁▁▂▂▂▃▃▃▃▄▄▃▄▅▇▇██▇▆▆▆▇</td></tr><tr><td>rollout/exploration_rate</td><td>█▃▂▁▁▁▁▁▁▁▁▁▁▁▁▁▁▁▁▁▁▁▁▁▁▁▁▁▁▁▁▁▁▁▁▁▁▁▁▁</td></tr><tr><td>time/fps</td><td>▇███▆▅▄▃▃▃▂▂▂▂▂▂▁▁▁▁▁▁▁▁▁▁▁▁▁▁▁▁▁▁▁▁▁▁▁▁</td></tr><tr><td>train/learning_rate</td><td>▁▁▁▁▁▁▁▁▁▁▁▁▁▁▁▁▁▁▁▁▁▁▁▁▁▁▁▁▁▁▁▁▁▁▁▁▁▁▁▁</td></tr><tr><td>train/loss</td><td>█▃▆▅▅▂▃▁▃▃▄▁▃▂▁▂▄▁▃▂▂▂▂▃▂▄▇▄▂▄▁▄▃▂▂▁▂▃▃▃</td></tr></table><br/></div><div class=\"wandb-col\"><h3>Run summary:</h3><br/><table class=\"wandb\"><tr><td>eval/mean_ep_length</td><td>399.6</td></tr><tr><td>eval/mean_reward</td><td>8.2</td></tr><tr><td>global_step</td><td>100000</td></tr><tr><td>rollout/ep_len_mean</td><td>427.51</td></tr><tr><td>rollout/ep_rew_mean</td><td>7.65</td></tr><tr><td>rollout/exploration_rate</td><td>0.05</td></tr><tr><td>time/fps</td><td>153</td></tr><tr><td>train/learning_rate</td><td>0.0001</td></tr><tr><td>train/loss</td><td>0.0118</td></tr></table><br/></div></div>"
      ],
      "text/plain": [
       "<IPython.core.display.HTML object>"
      ]
     },
     "metadata": {},
     "output_type": "display_data"
    },
    {
     "data": {
      "text/html": [
       " View run <strong style=\"color:#cdcd00\">DQN_default_seed42</strong> at: <a href='https://wandb.ai/emontel1-depaul-university/csc594_final_project/runs/h6quchyq' target=\"_blank\">https://wandb.ai/emontel1-depaul-university/csc594_final_project/runs/h6quchyq</a><br> View project at: <a href='https://wandb.ai/emontel1-depaul-university/csc594_final_project' target=\"_blank\">https://wandb.ai/emontel1-depaul-university/csc594_final_project</a><br>Synced 6 W&B file(s), 0 media file(s), 2 artifact file(s) and 1 other file(s)"
      ],
      "text/plain": [
       "<IPython.core.display.HTML object>"
      ]
     },
     "metadata": {},
     "output_type": "display_data"
    },
    {
     "data": {
      "text/html": [
       "Find logs at: <code>.\\wandb\\run-20250605_215035-h6quchyq\\logs</code>"
      ],
      "text/plain": [
       "<IPython.core.display.HTML object>"
      ]
     },
     "metadata": {},
     "output_type": "display_data"
    },
    {
     "name": "stdout",
     "output_type": "stream",
     "text": [
      "\n",
      "--- Running Seed 2/3 (Actual Seed: 43) ---\n"
     ]
    },
    {
     "data": {
      "text/html": [
       "Tracking run with wandb version 0.20.1"
      ],
      "text/plain": [
       "<IPython.core.display.HTML object>"
      ]
     },
     "metadata": {},
     "output_type": "display_data"
    },
    {
     "data": {
      "text/html": [
       "Run data is saved locally in <code>d:\\workdir\\school_repos\\rl_project\\wandb\\run-20250605_220137-3vaex276</code>"
      ],
      "text/plain": [
       "<IPython.core.display.HTML object>"
      ]
     },
     "metadata": {},
     "output_type": "display_data"
    },
    {
     "data": {
      "text/html": [
       "Syncing run <strong><a href='https://wandb.ai/emontel1-depaul-university/csc594_final_project/runs/3vaex276' target=\"_blank\">DQN_default_seed43</a></strong> to <a href='https://wandb.ai/emontel1-depaul-university/csc594_final_project' target=\"_blank\">Weights & Biases</a> (<a href='https://wandb.me/developer-guide' target=\"_blank\">docs</a>)<br>"
      ],
      "text/plain": [
       "<IPython.core.display.HTML object>"
      ]
     },
     "metadata": {},
     "output_type": "display_data"
    },
    {
     "data": {
      "text/html": [
       " View project at <a href='https://wandb.ai/emontel1-depaul-university/csc594_final_project' target=\"_blank\">https://wandb.ai/emontel1-depaul-university/csc594_final_project</a>"
      ],
      "text/plain": [
       "<IPython.core.display.HTML object>"
      ]
     },
     "metadata": {},
     "output_type": "display_data"
    },
    {
     "data": {
      "text/html": [
       " View run at <a href='https://wandb.ai/emontel1-depaul-university/csc594_final_project/runs/3vaex276' target=\"_blank\">https://wandb.ai/emontel1-depaul-university/csc594_final_project/runs/3vaex276</a>"
      ],
      "text/plain": [
       "<IPython.core.display.HTML object>"
      ]
     },
     "metadata": {},
     "output_type": "display_data"
    },
    {
     "name": "stderr",
     "output_type": "stream",
     "text": [
      "wandb: WARNING When using several event log directories, please call `wandb.tensorboard.patch(root_logdir=\"...\")` before `wandb.init`\n"
     ]
    },
    {
     "data": {
      "application/vnd.jupyter.widget-view+json": {
       "model_id": "5676d13c53e14a6496b6c897af1abcbc",
       "version_major": 2,
       "version_minor": 0
      },
      "text/plain": [
       "Output()"
      ]
     },
     "metadata": {},
     "output_type": "display_data"
    },
    {
     "data": {
      "text/html": [
       "<pre style=\"white-space:pre;overflow-x:auto;line-height:normal;font-family:Menlo,'DejaVu Sans Mono',consolas,'Courier New',monospace\">Eval num_timesteps=10000, episode_reward=6.20 +/- 1.83\n",
       "</pre>\n"
      ],
      "text/plain": [
       "Eval num_timesteps=10000, episode_reward=6.20 +/- 1.83\n"
      ]
     },
     "metadata": {},
     "output_type": "display_data"
    },
    {
     "data": {
      "text/html": [
       "<pre style=\"white-space:pre;overflow-x:auto;line-height:normal;font-family:Menlo,'DejaVu Sans Mono',consolas,'Courier New',monospace\">Episode length: 291.60 +/- 8.40\n",
       "</pre>\n"
      ],
      "text/plain": [
       "Episode length: 291.60 +/- 8.40\n"
      ]
     },
     "metadata": {},
     "output_type": "display_data"
    },
    {
     "data": {
      "text/html": [
       "<pre style=\"white-space:pre;overflow-x:auto;line-height:normal;font-family:Menlo,'DejaVu Sans Mono',consolas,'Courier New',monospace\">New best mean reward!\n",
       "</pre>\n"
      ],
      "text/plain": [
       "New best mean reward!\n"
      ]
     },
     "metadata": {},
     "output_type": "display_data"
    },
    {
     "data": {
      "text/html": [
       "<pre style=\"white-space:pre;overflow-x:auto;line-height:normal;font-family:Menlo,'DejaVu Sans Mono',consolas,'Courier New',monospace\">Eval num_timesteps=20000, episode_reward=0.40 +/- 0.49\n",
       "</pre>\n"
      ],
      "text/plain": [
       "Eval num_timesteps=20000, episode_reward=0.40 +/- 0.49\n"
      ]
     },
     "metadata": {},
     "output_type": "display_data"
    },
    {
     "data": {
      "text/html": [
       "<pre style=\"white-space:pre;overflow-x:auto;line-height:normal;font-family:Menlo,'DejaVu Sans Mono',consolas,'Courier New',monospace\">Episode length: 182.60 +/- 26.14\n",
       "</pre>\n"
      ],
      "text/plain": [
       "Episode length: 182.60 +/- 26.14\n"
      ]
     },
     "metadata": {},
     "output_type": "display_data"
    },
    {
     "data": {
      "text/html": [
       "<pre style=\"white-space:pre;overflow-x:auto;line-height:normal;font-family:Menlo,'DejaVu Sans Mono',consolas,'Courier New',monospace\">Eval num_timesteps=30000, episode_reward=4.60 +/- 1.20\n",
       "</pre>\n"
      ],
      "text/plain": [
       "Eval num_timesteps=30000, episode_reward=4.60 +/- 1.20\n"
      ]
     },
     "metadata": {},
     "output_type": "display_data"
    },
    {
     "data": {
      "text/html": [
       "<pre style=\"white-space:pre;overflow-x:auto;line-height:normal;font-family:Menlo,'DejaVu Sans Mono',consolas,'Courier New',monospace\">Episode length: 310.20 +/- 17.29\n",
       "</pre>\n"
      ],
      "text/plain": [
       "Episode length: 310.20 +/- 17.29\n"
      ]
     },
     "metadata": {},
     "output_type": "display_data"
    },
    {
     "data": {
      "text/html": [
       "<pre style=\"white-space:pre;overflow-x:auto;line-height:normal;font-family:Menlo,'DejaVu Sans Mono',consolas,'Courier New',monospace\">Eval num_timesteps=40000, episode_reward=2.00 +/- 0.00\n",
       "</pre>\n"
      ],
      "text/plain": [
       "Eval num_timesteps=40000, episode_reward=2.00 +/- 0.00\n"
      ]
     },
     "metadata": {},
     "output_type": "display_data"
    },
    {
     "data": {
      "text/html": [
       "<pre style=\"white-space:pre;overflow-x:auto;line-height:normal;font-family:Menlo,'DejaVu Sans Mono',consolas,'Courier New',monospace\">Episode length: 234.60 +/- 5.31\n",
       "</pre>\n"
      ],
      "text/plain": [
       "Episode length: 234.60 +/- 5.31\n"
      ]
     },
     "metadata": {},
     "output_type": "display_data"
    },
    {
     "data": {
      "text/html": [
       "<pre style=\"white-space:pre;overflow-x:auto;line-height:normal;font-family:Menlo,'DejaVu Sans Mono',consolas,'Courier New',monospace\">Eval num_timesteps=50000, episode_reward=2.60 +/- 0.80\n",
       "</pre>\n"
      ],
      "text/plain": [
       "Eval num_timesteps=50000, episode_reward=2.60 +/- 0.80\n"
      ]
     },
     "metadata": {},
     "output_type": "display_data"
    },
    {
     "data": {
      "text/html": [
       "<pre style=\"white-space:pre;overflow-x:auto;line-height:normal;font-family:Menlo,'DejaVu Sans Mono',consolas,'Courier New',monospace\">Episode length: 257.80 +/- 34.07\n",
       "</pre>\n"
      ],
      "text/plain": [
       "Episode length: 257.80 +/- 34.07\n"
      ]
     },
     "metadata": {},
     "output_type": "display_data"
    },
    {
     "data": {
      "text/html": [
       "<pre style=\"white-space:pre;overflow-x:auto;line-height:normal;font-family:Menlo,'DejaVu Sans Mono',consolas,'Courier New',monospace\">Eval num_timesteps=60000, episode_reward=1.20 +/- 0.75\n",
       "</pre>\n"
      ],
      "text/plain": [
       "Eval num_timesteps=60000, episode_reward=1.20 +/- 0.75\n"
      ]
     },
     "metadata": {},
     "output_type": "display_data"
    },
    {
     "data": {
      "text/html": [
       "<pre style=\"white-space:pre;overflow-x:auto;line-height:normal;font-family:Menlo,'DejaVu Sans Mono',consolas,'Courier New',monospace\">Episode length: 225.00 +/- 37.99\n",
       "</pre>\n"
      ],
      "text/plain": [
       "Episode length: 225.00 +/- 37.99\n"
      ]
     },
     "metadata": {},
     "output_type": "display_data"
    },
    {
     "data": {
      "text/html": [
       "<pre style=\"white-space:pre;overflow-x:auto;line-height:normal;font-family:Menlo,'DejaVu Sans Mono',consolas,'Courier New',monospace\">Eval num_timesteps=70000, episode_reward=1.60 +/- 1.62\n",
       "</pre>\n"
      ],
      "text/plain": [
       "Eval num_timesteps=70000, episode_reward=1.60 +/- 1.62\n"
      ]
     },
     "metadata": {},
     "output_type": "display_data"
    },
    {
     "data": {
      "text/html": [
       "<pre style=\"white-space:pre;overflow-x:auto;line-height:normal;font-family:Menlo,'DejaVu Sans Mono',consolas,'Courier New',monospace\">Episode length: 213.00 +/- 51.30\n",
       "</pre>\n"
      ],
      "text/plain": [
       "Episode length: 213.00 +/- 51.30\n"
      ]
     },
     "metadata": {},
     "output_type": "display_data"
    },
    {
     "data": {
      "text/html": [
       "<pre style=\"white-space:pre;overflow-x:auto;line-height:normal;font-family:Menlo,'DejaVu Sans Mono',consolas,'Courier New',monospace\">Eval num_timesteps=80000, episode_reward=2.60 +/- 2.33\n",
       "</pre>\n"
      ],
      "text/plain": [
       "Eval num_timesteps=80000, episode_reward=2.60 +/- 2.33\n"
      ]
     },
     "metadata": {},
     "output_type": "display_data"
    },
    {
     "data": {
      "text/html": [
       "<pre style=\"white-space:pre;overflow-x:auto;line-height:normal;font-family:Menlo,'DejaVu Sans Mono',consolas,'Courier New',monospace\">Episode length: 279.60 +/- 96.32\n",
       "</pre>\n"
      ],
      "text/plain": [
       "Episode length: 279.60 +/- 96.32\n"
      ]
     },
     "metadata": {},
     "output_type": "display_data"
    },
    {
     "data": {
      "text/html": [
       "<pre style=\"white-space:pre;overflow-x:auto;line-height:normal;font-family:Menlo,'DejaVu Sans Mono',consolas,'Courier New',monospace\">Eval num_timesteps=90000, episode_reward=6.20 +/- 2.93\n",
       "</pre>\n"
      ],
      "text/plain": [
       "Eval num_timesteps=90000, episode_reward=6.20 +/- 2.93\n"
      ]
     },
     "metadata": {},
     "output_type": "display_data"
    },
    {
     "data": {
      "text/html": [
       "<pre style=\"white-space:pre;overflow-x:auto;line-height:normal;font-family:Menlo,'DejaVu Sans Mono',consolas,'Courier New',monospace\">Episode length: 360.20 +/- 81.72\n",
       "</pre>\n"
      ],
      "text/plain": [
       "Episode length: 360.20 +/- 81.72\n"
      ]
     },
     "metadata": {},
     "output_type": "display_data"
    },
    {
     "data": {
      "text/html": [
       "<pre style=\"white-space:pre;overflow-x:auto;line-height:normal;font-family:Menlo,'DejaVu Sans Mono',consolas,'Courier New',monospace\">Eval num_timesteps=100000, episode_reward=7.40 +/- 1.85\n",
       "</pre>\n"
      ],
      "text/plain": [
       "Eval num_timesteps=100000, episode_reward=7.40 +/- 1.85\n"
      ]
     },
     "metadata": {},
     "output_type": "display_data"
    },
    {
     "data": {
      "text/html": [
       "<pre style=\"white-space:pre;overflow-x:auto;line-height:normal;font-family:Menlo,'DejaVu Sans Mono',consolas,'Courier New',monospace\">Episode length: 411.40 +/- 100.06\n",
       "</pre>\n"
      ],
      "text/plain": [
       "Episode length: 411.40 +/- 100.06\n"
      ]
     },
     "metadata": {},
     "output_type": "display_data"
    },
    {
     "data": {
      "text/html": [
       "<pre style=\"white-space:pre;overflow-x:auto;line-height:normal;font-family:Menlo,'DejaVu Sans Mono',consolas,'Courier New',monospace\">New best mean reward!\n",
       "</pre>\n"
      ],
      "text/plain": [
       "New best mean reward!\n"
      ]
     },
     "metadata": {},
     "output_type": "display_data"
    },
    {
     "data": {
      "text/html": [
       "<pre style=\"white-space:pre;overflow-x:auto;line-height:normal;font-family:Menlo,'DejaVu Sans Mono',consolas,'Courier New',monospace\"></pre>\n"
      ],
      "text/plain": []
     },
     "metadata": {},
     "output_type": "display_data"
    },
    {
     "name": "stdout",
     "output_type": "stream",
     "text": [
      "Seed 2 training finished. Time: 672.83 seconds.\n"
     ]
    },
    {
     "data": {
      "text/html": [],
      "text/plain": [
       "<IPython.core.display.HTML object>"
      ]
     },
     "metadata": {},
     "output_type": "display_data"
    },
    {
     "data": {
      "text/html": [
       "<br>    <style><br>        .wandb-row {<br>            display: flex;<br>            flex-direction: row;<br>            flex-wrap: wrap;<br>            justify-content: flex-start;<br>            width: 100%;<br>        }<br>        .wandb-col {<br>            display: flex;<br>            flex-direction: column;<br>            flex-basis: 100%;<br>            flex: 1;<br>            padding: 10px;<br>        }<br>    </style><br><div class=\"wandb-row\"><div class=\"wandb-col\"><h3>Run history:</h3><br/><table class=\"wandb\"><tr><td>eval/mean_ep_length</td><td>▄▁▅▃▃▂▂▄▆█</td></tr><tr><td>eval/mean_reward</td><td>▇▁▅▃▃▂▂▃▇█</td></tr><tr><td>global_step</td><td>▁▁▁▁▁▂▂▂▂▂▂▃▃▃▃▃▃▃▃▃▄▄▄▄▄▄▅▅▅▅▅▅▅▅▅▆▆▆▆█</td></tr><tr><td>rollout/ep_len_mean</td><td>▂▂▁▁▁▂▂▁▂▁▂▂▁▂▂▂▂▂▁▂▃▂▁▁▁▁▃▃▃▃▂▂▃▃▅█▇▇▇█</td></tr><tr><td>rollout/ep_rew_mean</td><td>▁▁▁▁▁▁▂▂▂▂▂▂▂▂▂▂▂▂▁▂▁▁▁▂▂▃▂▁▁▂▅▆▇▇▇▇▇▇██</td></tr><tr><td>rollout/exploration_rate</td><td>█▄▁▁▁▁▁▁▁▁▁▁▁▁▁▁▁▁▁▁▁▁▁▁▁▁▁▁▁▁▁▁▁▁▁▁▁▁▁▁</td></tr><tr><td>time/fps</td><td>█████▅▅▄▄▄▃▃▃▃▃▃▂▂▂▂▂▂▂▁▁▁▁▁▁▁▁▁▁▁▁▁▁▁▁▁</td></tr><tr><td>train/learning_rate</td><td>▁▁▁▁▁▁▁▁▁▁▁▁▁▁▁▁▁▁▁▁▁▁▁▁▁▁▁▁▁▁▁▁▁▁▁▁▁▁▁▁</td></tr><tr><td>train/loss</td><td>▃▄▄▃▁▂█▅▂▃▂▁▁▂▂▁▃▃▂▁▂▂▁▁▂▂▁▂▂▁▂▂▁▂▁▂▁▂▁▂</td></tr></table><br/></div><div class=\"wandb-col\"><h3>Run summary:</h3><br/><table class=\"wandb\"><tr><td>eval/mean_ep_length</td><td>411.4</td></tr><tr><td>eval/mean_reward</td><td>7.4</td></tr><tr><td>global_step</td><td>100000</td></tr><tr><td>rollout/ep_len_mean</td><td>372.9</td></tr><tr><td>rollout/ep_rew_mean</td><td>7.01</td></tr><tr><td>rollout/exploration_rate</td><td>0.05</td></tr><tr><td>time/fps</td><td>149</td></tr><tr><td>train/learning_rate</td><td>0.0001</td></tr><tr><td>train/loss</td><td>0.00609</td></tr></table><br/></div></div>"
      ],
      "text/plain": [
       "<IPython.core.display.HTML object>"
      ]
     },
     "metadata": {},
     "output_type": "display_data"
    },
    {
     "data": {
      "text/html": [
       " View run <strong style=\"color:#cdcd00\">DQN_default_seed43</strong> at: <a href='https://wandb.ai/emontel1-depaul-university/csc594_final_project/runs/3vaex276' target=\"_blank\">https://wandb.ai/emontel1-depaul-university/csc594_final_project/runs/3vaex276</a><br> View project at: <a href='https://wandb.ai/emontel1-depaul-university/csc594_final_project' target=\"_blank\">https://wandb.ai/emontel1-depaul-university/csc594_final_project</a><br>Synced 6 W&B file(s), 0 media file(s), 2 artifact file(s) and 1 other file(s)"
      ],
      "text/plain": [
       "<IPython.core.display.HTML object>"
      ]
     },
     "metadata": {},
     "output_type": "display_data"
    },
    {
     "data": {
      "text/html": [
       "Find logs at: <code>.\\wandb\\run-20250605_220137-3vaex276\\logs</code>"
      ],
      "text/plain": [
       "<IPython.core.display.HTML object>"
      ]
     },
     "metadata": {},
     "output_type": "display_data"
    },
    {
     "name": "stdout",
     "output_type": "stream",
     "text": [
      "\n",
      "--- Running Seed 3/3 (Actual Seed: 44) ---\n"
     ]
    },
    {
     "data": {
      "text/html": [
       "Tracking run with wandb version 0.20.1"
      ],
      "text/plain": [
       "<IPython.core.display.HTML object>"
      ]
     },
     "metadata": {},
     "output_type": "display_data"
    },
    {
     "data": {
      "text/html": [
       "Run data is saved locally in <code>d:\\workdir\\school_repos\\rl_project\\wandb\\run-20250605_221258-q00jmlwx</code>"
      ],
      "text/plain": [
       "<IPython.core.display.HTML object>"
      ]
     },
     "metadata": {},
     "output_type": "display_data"
    },
    {
     "data": {
      "text/html": [
       "Syncing run <strong><a href='https://wandb.ai/emontel1-depaul-university/csc594_final_project/runs/q00jmlwx' target=\"_blank\">DQN_default_seed44</a></strong> to <a href='https://wandb.ai/emontel1-depaul-university/csc594_final_project' target=\"_blank\">Weights & Biases</a> (<a href='https://wandb.me/developer-guide' target=\"_blank\">docs</a>)<br>"
      ],
      "text/plain": [
       "<IPython.core.display.HTML object>"
      ]
     },
     "metadata": {},
     "output_type": "display_data"
    },
    {
     "data": {
      "text/html": [
       " View project at <a href='https://wandb.ai/emontel1-depaul-university/csc594_final_project' target=\"_blank\">https://wandb.ai/emontel1-depaul-university/csc594_final_project</a>"
      ],
      "text/plain": [
       "<IPython.core.display.HTML object>"
      ]
     },
     "metadata": {},
     "output_type": "display_data"
    },
    {
     "data": {
      "text/html": [
       " View run at <a href='https://wandb.ai/emontel1-depaul-university/csc594_final_project/runs/q00jmlwx' target=\"_blank\">https://wandb.ai/emontel1-depaul-university/csc594_final_project/runs/q00jmlwx</a>"
      ],
      "text/plain": [
       "<IPython.core.display.HTML object>"
      ]
     },
     "metadata": {},
     "output_type": "display_data"
    },
    {
     "name": "stderr",
     "output_type": "stream",
     "text": [
      "wandb: WARNING When using several event log directories, please call `wandb.tensorboard.patch(root_logdir=\"...\")` before `wandb.init`\n"
     ]
    },
    {
     "data": {
      "application/vnd.jupyter.widget-view+json": {
       "model_id": "4b7eb34a0bd249ea8376f8ab9ce624ec",
       "version_major": 2,
       "version_minor": 0
      },
      "text/plain": [
       "Output()"
      ]
     },
     "metadata": {},
     "output_type": "display_data"
    },
    {
     "data": {
      "text/html": [
       "<pre style=\"white-space:pre;overflow-x:auto;line-height:normal;font-family:Menlo,'DejaVu Sans Mono',consolas,'Courier New',monospace\">Eval num_timesteps=10000, episode_reward=1.60 +/- 1.36\n",
       "</pre>\n"
      ],
      "text/plain": [
       "Eval num_timesteps=10000, episode_reward=1.60 +/- 1.36\n"
      ]
     },
     "metadata": {},
     "output_type": "display_data"
    },
    {
     "data": {
      "text/html": [
       "<pre style=\"white-space:pre;overflow-x:auto;line-height:normal;font-family:Menlo,'DejaVu Sans Mono',consolas,'Courier New',monospace\">Episode length: 232.00 +/- 45.25\n",
       "</pre>\n"
      ],
      "text/plain": [
       "Episode length: 232.00 +/- 45.25\n"
      ]
     },
     "metadata": {},
     "output_type": "display_data"
    },
    {
     "data": {
      "text/html": [
       "<pre style=\"white-space:pre;overflow-x:auto;line-height:normal;font-family:Menlo,'DejaVu Sans Mono',consolas,'Courier New',monospace\">New best mean reward!\n",
       "</pre>\n"
      ],
      "text/plain": [
       "New best mean reward!\n"
      ]
     },
     "metadata": {},
     "output_type": "display_data"
    },
    {
     "data": {
      "text/html": [
       "<pre style=\"white-space:pre;overflow-x:auto;line-height:normal;font-family:Menlo,'DejaVu Sans Mono',consolas,'Courier New',monospace\">Eval num_timesteps=20000, episode_reward=0.40 +/- 0.49\n",
       "</pre>\n"
      ],
      "text/plain": [
       "Eval num_timesteps=20000, episode_reward=0.40 +/- 0.49\n"
      ]
     },
     "metadata": {},
     "output_type": "display_data"
    },
    {
     "data": {
      "text/html": [
       "<pre style=\"white-space:pre;overflow-x:auto;line-height:normal;font-family:Menlo,'DejaVu Sans Mono',consolas,'Courier New',monospace\">Episode length: 186.80 +/- 16.76\n",
       "</pre>\n"
      ],
      "text/plain": [
       "Episode length: 186.80 +/- 16.76\n"
      ]
     },
     "metadata": {},
     "output_type": "display_data"
    },
    {
     "data": {
      "text/html": [
       "<pre style=\"white-space:pre;overflow-x:auto;line-height:normal;font-family:Menlo,'DejaVu Sans Mono',consolas,'Courier New',monospace\">Eval num_timesteps=30000, episode_reward=1.60 +/- 1.36\n",
       "</pre>\n"
      ],
      "text/plain": [
       "Eval num_timesteps=30000, episode_reward=1.60 +/- 1.36\n"
      ]
     },
     "metadata": {},
     "output_type": "display_data"
    },
    {
     "data": {
      "text/html": [
       "<pre style=\"white-space:pre;overflow-x:auto;line-height:normal;font-family:Menlo,'DejaVu Sans Mono',consolas,'Courier New',monospace\">Episode length: 234.60 +/- 51.29\n",
       "</pre>\n"
      ],
      "text/plain": [
       "Episode length: 234.60 +/- 51.29\n"
      ]
     },
     "metadata": {},
     "output_type": "display_data"
    },
    {
     "data": {
      "text/html": [
       "<pre style=\"white-space:pre;overflow-x:auto;line-height:normal;font-family:Menlo,'DejaVu Sans Mono',consolas,'Courier New',monospace\">Eval num_timesteps=40000, episode_reward=0.00 +/- 0.00\n",
       "</pre>\n"
      ],
      "text/plain": [
       "Eval num_timesteps=40000, episode_reward=0.00 +/- 0.00\n"
      ]
     },
     "metadata": {},
     "output_type": "display_data"
    },
    {
     "data": {
      "text/html": [
       "<pre style=\"white-space:pre;overflow-x:auto;line-height:normal;font-family:Menlo,'DejaVu Sans Mono',consolas,'Courier New',monospace\">Episode length: 173.00 +/- 6.29\n",
       "</pre>\n"
      ],
      "text/plain": [
       "Episode length: 173.00 +/- 6.29\n"
      ]
     },
     "metadata": {},
     "output_type": "display_data"
    },
    {
     "data": {
      "text/html": [
       "<pre style=\"white-space:pre;overflow-x:auto;line-height:normal;font-family:Menlo,'DejaVu Sans Mono',consolas,'Courier New',monospace\">Eval num_timesteps=50000, episode_reward=4.00 +/- 0.89\n",
       "</pre>\n"
      ],
      "text/plain": [
       "Eval num_timesteps=50000, episode_reward=4.00 +/- 0.89\n"
      ]
     },
     "metadata": {},
     "output_type": "display_data"
    },
    {
     "data": {
      "text/html": [
       "<pre style=\"white-space:pre;overflow-x:auto;line-height:normal;font-family:Menlo,'DejaVu Sans Mono',consolas,'Courier New',monospace\">Episode length: 311.60 +/- 31.49\n",
       "</pre>\n"
      ],
      "text/plain": [
       "Episode length: 311.60 +/- 31.49\n"
      ]
     },
     "metadata": {},
     "output_type": "display_data"
    },
    {
     "data": {
      "text/html": [
       "<pre style=\"white-space:pre;overflow-x:auto;line-height:normal;font-family:Menlo,'DejaVu Sans Mono',consolas,'Courier New',monospace\">New best mean reward!\n",
       "</pre>\n"
      ],
      "text/plain": [
       "New best mean reward!\n"
      ]
     },
     "metadata": {},
     "output_type": "display_data"
    },
    {
     "data": {
      "text/html": [
       "<pre style=\"white-space:pre;overflow-x:auto;line-height:normal;font-family:Menlo,'DejaVu Sans Mono',consolas,'Courier New',monospace\">Eval num_timesteps=60000, episode_reward=0.60 +/- 1.20\n",
       "</pre>\n"
      ],
      "text/plain": [
       "Eval num_timesteps=60000, episode_reward=0.60 +/- 1.20\n"
      ]
     },
     "metadata": {},
     "output_type": "display_data"
    },
    {
     "data": {
      "text/html": [
       "<pre style=\"white-space:pre;overflow-x:auto;line-height:normal;font-family:Menlo,'DejaVu Sans Mono',consolas,'Courier New',monospace\">Episode length: 192.80 +/- 58.95\n",
       "</pre>\n"
      ],
      "text/plain": [
       "Episode length: 192.80 +/- 58.95\n"
      ]
     },
     "metadata": {},
     "output_type": "display_data"
    },
    {
     "data": {
      "text/html": [
       "<pre style=\"white-space:pre;overflow-x:auto;line-height:normal;font-family:Menlo,'DejaVu Sans Mono',consolas,'Courier New',monospace\">Eval num_timesteps=70000, episode_reward=2.40 +/- 0.49\n",
       "</pre>\n"
      ],
      "text/plain": [
       "Eval num_timesteps=70000, episode_reward=2.40 +/- 0.49\n"
      ]
     },
     "metadata": {},
     "output_type": "display_data"
    },
    {
     "data": {
      "text/html": [
       "<pre style=\"white-space:pre;overflow-x:auto;line-height:normal;font-family:Menlo,'DejaVu Sans Mono',consolas,'Courier New',monospace\">Episode length: 254.60 +/- 19.64\n",
       "</pre>\n"
      ],
      "text/plain": [
       "Episode length: 254.60 +/- 19.64\n"
      ]
     },
     "metadata": {},
     "output_type": "display_data"
    },
    {
     "data": {
      "text/html": [
       "<pre style=\"white-space:pre;overflow-x:auto;line-height:normal;font-family:Menlo,'DejaVu Sans Mono',consolas,'Courier New',monospace\">Eval num_timesteps=80000, episode_reward=5.20 +/- 2.40\n",
       "</pre>\n"
      ],
      "text/plain": [
       "Eval num_timesteps=80000, episode_reward=5.20 +/- 2.40\n"
      ]
     },
     "metadata": {},
     "output_type": "display_data"
    },
    {
     "data": {
      "text/html": [
       "<pre style=\"white-space:pre;overflow-x:auto;line-height:normal;font-family:Menlo,'DejaVu Sans Mono',consolas,'Courier New',monospace\">Episode length: 302.80 +/- 25.93\n",
       "</pre>\n"
      ],
      "text/plain": [
       "Episode length: 302.80 +/- 25.93\n"
      ]
     },
     "metadata": {},
     "output_type": "display_data"
    },
    {
     "data": {
      "text/html": [
       "<pre style=\"white-space:pre;overflow-x:auto;line-height:normal;font-family:Menlo,'DejaVu Sans Mono',consolas,'Courier New',monospace\">New best mean reward!\n",
       "</pre>\n"
      ],
      "text/plain": [
       "New best mean reward!\n"
      ]
     },
     "metadata": {},
     "output_type": "display_data"
    },
    {
     "data": {
      "text/html": [
       "<pre style=\"white-space:pre;overflow-x:auto;line-height:normal;font-family:Menlo,'DejaVu Sans Mono',consolas,'Courier New',monospace\">Eval num_timesteps=90000, episode_reward=4.80 +/- 1.94\n",
       "</pre>\n"
      ],
      "text/plain": [
       "Eval num_timesteps=90000, episode_reward=4.80 +/- 1.94\n"
      ]
     },
     "metadata": {},
     "output_type": "display_data"
    },
    {
     "data": {
      "text/html": [
       "<pre style=\"white-space:pre;overflow-x:auto;line-height:normal;font-family:Menlo,'DejaVu Sans Mono',consolas,'Courier New',monospace\">Episode length: 335.40 +/- 75.09\n",
       "</pre>\n"
      ],
      "text/plain": [
       "Episode length: 335.40 +/- 75.09\n"
      ]
     },
     "metadata": {},
     "output_type": "display_data"
    },
    {
     "data": {
      "text/html": [
       "<pre style=\"white-space:pre;overflow-x:auto;line-height:normal;font-family:Menlo,'DejaVu Sans Mono',consolas,'Courier New',monospace\">Eval num_timesteps=100000, episode_reward=7.80 +/- 2.04\n",
       "</pre>\n"
      ],
      "text/plain": [
       "Eval num_timesteps=100000, episode_reward=7.80 +/- 2.04\n"
      ]
     },
     "metadata": {},
     "output_type": "display_data"
    },
    {
     "data": {
      "text/html": [
       "<pre style=\"white-space:pre;overflow-x:auto;line-height:normal;font-family:Menlo,'DejaVu Sans Mono',consolas,'Courier New',monospace\">Episode length: 425.80 +/- 40.61\n",
       "</pre>\n"
      ],
      "text/plain": [
       "Episode length: 425.80 +/- 40.61\n"
      ]
     },
     "metadata": {},
     "output_type": "display_data"
    },
    {
     "data": {
      "text/html": [
       "<pre style=\"white-space:pre;overflow-x:auto;line-height:normal;font-family:Menlo,'DejaVu Sans Mono',consolas,'Courier New',monospace\">New best mean reward!\n",
       "</pre>\n"
      ],
      "text/plain": [
       "New best mean reward!\n"
      ]
     },
     "metadata": {},
     "output_type": "display_data"
    },
    {
     "data": {
      "text/html": [
       "<pre style=\"white-space:pre;overflow-x:auto;line-height:normal;font-family:Menlo,'DejaVu Sans Mono',consolas,'Courier New',monospace\"></pre>\n"
      ],
      "text/plain": []
     },
     "metadata": {},
     "output_type": "display_data"
    },
    {
     "name": "stdout",
     "output_type": "stream",
     "text": [
      "Seed 3 training finished. Time: 683.48 seconds.\n"
     ]
    },
    {
     "data": {
      "text/html": [],
      "text/plain": [
       "<IPython.core.display.HTML object>"
      ]
     },
     "metadata": {},
     "output_type": "display_data"
    },
    {
     "data": {
      "text/html": [
       "<br>    <style><br>        .wandb-row {<br>            display: flex;<br>            flex-direction: row;<br>            flex-wrap: wrap;<br>            justify-content: flex-start;<br>            width: 100%;<br>        }<br>        .wandb-col {<br>            display: flex;<br>            flex-direction: column;<br>            flex-basis: 100%;<br>            flex: 1;<br>            padding: 10px;<br>        }<br>    </style><br><div class=\"wandb-row\"><div class=\"wandb-col\"><h3>Run history:</h3><br/><table class=\"wandb\"><tr><td>eval/mean_ep_length</td><td>▃▁▃▁▅▂▃▅▅█</td></tr><tr><td>eval/mean_reward</td><td>▂▁▂▁▅▂▃▆▅█</td></tr><tr><td>global_step</td><td>▁▂▂▂▂▃▃▃▃▃▃▄▄▄▄▄▄▅▅▅▅▅▅▅▅▅▅▅▆▆▆▆▆▆▆▇▇███</td></tr><tr><td>rollout/ep_len_mean</td><td>▁▁▁▂▂▂▂▂▃▂▂▃▂▂▂▁▂▂▂▂▁▂▂▂▂▂▂▂▂▂▂▁▂▄▄▃▂▆▇█</td></tr><tr><td>rollout/ep_rew_mean</td><td>▁▂▂▂▂▂▂▃▂▂▂▂▂▃▂▂▂▂▁▁▂▂▂▂▂▂▂▂▂▂▁▂▂▂▂▇▇▆▇█</td></tr><tr><td>rollout/exploration_rate</td><td>█▃▁▁▁▁▁▁▁▁▁▁▁▁▁▁▁▁▁▁▁▁▁▁▁▁▁▁▁▁▁▁▁▁▁▁▁▁▁▁</td></tr><tr><td>time/fps</td><td>▂▅███▅▅▄▄▄▃▃▃▃▃▂▂▂▂▂▂▂▁▁▁▁▁▁▁▁▁▁▁▁▁▁▁▁▁▁</td></tr><tr><td>train/learning_rate</td><td>▁▁▁▁▁▁▁▁▁▁▁▁▁▁▁▁▁▁▁▁▁▁▁▁▁▁▁▁▁▁▁▁▁▁▁▁▁▁▁▁</td></tr><tr><td>train/loss</td><td>██▄▄▂▂▂▁▁▂▂▁▂▁▄▃▁▂▃▃▃▃▂▁▁▂▃▃▂▁▁▅▂▁▃▂▄▁▂▂</td></tr></table><br/></div><div class=\"wandb-col\"><h3>Run summary:</h3><br/><table class=\"wandb\"><tr><td>eval/mean_ep_length</td><td>425.8</td></tr><tr><td>eval/mean_reward</td><td>7.8</td></tr><tr><td>global_step</td><td>100000</td></tr><tr><td>rollout/ep_len_mean</td><td>353.09</td></tr><tr><td>rollout/ep_rew_mean</td><td>6.05</td></tr><tr><td>rollout/exploration_rate</td><td>0.05</td></tr><tr><td>time/fps</td><td>147</td></tr><tr><td>train/learning_rate</td><td>0.0001</td></tr><tr><td>train/loss</td><td>0.00349</td></tr></table><br/></div></div>"
      ],
      "text/plain": [
       "<IPython.core.display.HTML object>"
      ]
     },
     "metadata": {},
     "output_type": "display_data"
    },
    {
     "data": {
      "text/html": [
       " View run <strong style=\"color:#cdcd00\">DQN_default_seed44</strong> at: <a href='https://wandb.ai/emontel1-depaul-university/csc594_final_project/runs/q00jmlwx' target=\"_blank\">https://wandb.ai/emontel1-depaul-university/csc594_final_project/runs/q00jmlwx</a><br> View project at: <a href='https://wandb.ai/emontel1-depaul-university/csc594_final_project' target=\"_blank\">https://wandb.ai/emontel1-depaul-university/csc594_final_project</a><br>Synced 6 W&B file(s), 0 media file(s), 2 artifact file(s) and 1 other file(s)"
      ],
      "text/plain": [
       "<IPython.core.display.HTML object>"
      ]
     },
     "metadata": {},
     "output_type": "display_data"
    },
    {
     "data": {
      "text/html": [
       "Find logs at: <code>.\\wandb\\run-20250605_221258-q00jmlwx\\logs</code>"
      ],
      "text/plain": [
       "<IPython.core.display.HTML object>"
      ]
     },
     "metadata": {},
     "output_type": "display_data"
    },
    {
     "name": "stdout",
     "output_type": "stream",
     "text": [
      "\n",
      "==================== All Baseline Training Completed ====================\n",
      "Training wall times (seconds): {'PPO': [1052.7564430236816, 1099.1036760807037, 1084.1663596630096], 'A2C': [574.7297012805939, 584.7593939304352, 585.857177734375], 'DQN': [654.3538911342621, 672.8304965496063, 683.4794335365295]}\n"
     ]
    }
   ],
   "source": [
    "# Ensure global variables from Section 0 are available\n",
    "\n",
    "# --- Configuration for Training Runs ---\n",
    "EVAL_FREQ = 10000\n",
    "N_EVAL_EPISODES = 5\n",
    "\n",
    "# --- Main Training Loop ---\n",
    "algorithms_to_train = {\n",
    "    \"PPO\": PPO,\n",
    "    \"A2C\": A2C,\n",
    "    \"DQN\": DQN\n",
    "}\n",
    "\n",
    "# Dictionary to store results\n",
    "training_wall_times = {}\n",
    "\n",
    "for algo_name, AlgoClass in algorithms_to_train.items():\n",
    "    print(f\"\\n{'='*20} Training {algo_name} Baseline {'='*20}\")\n",
    "    training_wall_times[algo_name] = []\n",
    "    \n",
    "    for i in range(N_SEEDS_PER_ALGO):\n",
    "        current_seed = SEED + i\n",
    "        run_name_suffix = \"default\"\n",
    "        run_name = f\"{algo_name}_{run_name_suffix}_seed{current_seed}\"\n",
    "        \n",
    "        print(f\"\\n--- Running Seed {i+1}/{N_SEEDS_PER_ALGO} (Actual Seed: {current_seed}) ---\")\n",
    "        \n",
    "        # 1. Initialize W&B run for this specific experiment\n",
    "        # reinit=True is crucial for running this in a loop in a notebook\n",
    "        current_run = wandb.init(\n",
    "            project=WANDB_PROJECT_NAME,\n",
    "            name=run_name,\n",
    "            group=f\"{algo_name}_{run_name_suffix}\",\n",
    "            config={\n",
    "                \"algorithm\": algo_name,\n",
    "                \"policy_type\": POLICY_TYPE,\n",
    "                \"env_id\": ENV_ID,\n",
    "                \"total_timesteps\": TOTAL_STEPS,\n",
    "                \"base_seed\": SEED,\n",
    "                \"run_seed\": current_seed,\n",
    "                \"n_envs\": N_ENVS_ATARI,\n",
    "                \"frame_stack\": FRAME_STACK_ATARI,\n",
    "                \"run_type\": run_name_suffix\n",
    "            },\n",
    "            sync_tensorboard=True,  # This will capture SB3's internal logs (like loss, entropy)\n",
    "            monitor_gym=True,\n",
    "            save_code=True,\n",
    "            reinit=True,\n",
    "        )\n",
    "\n",
    "        start_time = time.time()\n",
    "        \n",
    "        try:\n",
    "            # 2. Create the training environment\n",
    "            train_env = make_atari_env(ENV_ID, n_envs=N_ENVS_ATARI, seed=current_seed)\n",
    "            train_env = VecFrameStack(train_env, n_stack=FRAME_STACK_ATARI)\n",
    "\n",
    "            # 3. Create the evaluation environment\n",
    "            eval_env = make_atari_env(ENV_ID, n_envs=1, seed=current_seed)\n",
    "            eval_env = VecFrameStack(eval_env, n_stack=FRAME_STACK_ATARI)\n",
    "            \n",
    "            # 4. Setup Callbacks\n",
    "            # W&B callback to log model performance, gradients, etc.\n",
    "            # This will be triggered by EvalCallback to log eval metrics\n",
    "            wandb_callback = WandbCallback(\n",
    "                verbose=0,\n",
    "                # Log \"gradients\" or \"parameters\" if desired, but can be slow\n",
    "                # gradient_save_freq=10000 \n",
    "            )\n",
    "\n",
    "            eval_callback = EvalCallback(\n",
    "                eval_env,\n",
    "                best_model_save_path=f\"./{RESULTS_DIR}/{run_name}_best_model/\",\n",
    "                log_path=f\"./{RESULTS_DIR}/{run_name}_eval_logs/\",\n",
    "                eval_freq=max(EVAL_FREQ // N_ENVS_ATARI, 1),\n",
    "                n_eval_episodes=N_EVAL_EPISODES,\n",
    "                deterministic=True,\n",
    "                render=False,\n",
    "                # *** CRITICAL CHANGE: Trigger wandb_callback after each evaluation ***\n",
    "                callback_on_new_best=None, # We can let the main callback handle logging\n",
    "                callback_after_eval=wandb_callback\n",
    "            )\n",
    "            \n",
    "            # 5. Instantiate the model\n",
    "            if algo_name == \"DQN\":\n",
    "                model = AlgoClass(\n",
    "                    POLICY_TYPE,\n",
    "                    train_env,\n",
    "                    verbose=0, # Set to 0 to keep console clean, W&B will have the data\n",
    "                    seed=current_seed,\n",
    "                    device=DEVICE,\n",
    "                    tensorboard_log=f\"runs/{current_run.id}\", # Explicitly link tensorboard to W&B run\n",
    "                    buffer_size=100000,\n",
    "                    learning_starts=10000,\n",
    "                    batch_size=32,\n",
    "                    train_freq=(4, \"step\")\n",
    "                )\n",
    "            else: # PPO, A2C\n",
    "                model = AlgoClass(\n",
    "                    POLICY_TYPE,\n",
    "                    train_env,\n",
    "                    verbose=0,\n",
    "                    seed=current_seed,\n",
    "                    device=DEVICE,\n",
    "                    tensorboard_log=f\"runs/{current_run.id}\" # Explicitly link tensorboard\n",
    "                )\n",
    "\n",
    "            # 6. Train the model\n",
    "            # The main callback is EvalCallback, which in turn calls WandbCallback\n",
    "            model.learn(\n",
    "                total_timesteps=TOTAL_STEPS,\n",
    "                callback=eval_callback,\n",
    "                progress_bar=True\n",
    "            )\n",
    "            \n",
    "            # Save final model\n",
    "            model.save(f\"./{RESULTS_DIR}/{run_name}_final\")\n",
    "\n",
    "        except Exception as e:\n",
    "            print(f\"ERROR during training for {algo_name} with seed {current_seed}: {e}\")\n",
    "            # Log the error to W&B\n",
    "            wandb.alert(title=f\"Run Failed: {run_name}\", text=str(e))\n",
    "        finally:\n",
    "            # Clean up\n",
    "            end_time = time.time()\n",
    "            elapsed_time = end_time - start_time\n",
    "            if algo_name in training_wall_times:\n",
    "                 training_wall_times[algo_name].append(elapsed_time)\n",
    "            print(f\"Seed {i+1} training finished. Time: {elapsed_time:.2f} seconds.\")\n",
    "            \n",
    "            # Finish the W&B run\n",
    "            current_run.finish()\n",
    "\n",
    "            # Close environments\n",
    "            if 'train_env' in locals() and hasattr(train_env, 'close'):\n",
    "                train_env.close()\n",
    "            # EvalCallback handles closing its own environment\n",
    "\n",
    "print(f\"\\n{'='*20} All Baseline Training Completed {'='*20}\")\n",
    "print(f\"Training wall times (seconds): {training_wall_times}\")"
   ]
  },
  {
   "cell_type": "markdown",
   "id": "4c606f07",
   "metadata": {},
   "source": [
    "## 4. Evaluation Results\n",
    "\n",
    "This section presents the results from our baseline experiments. We analyze the performance of PPO, A2C, and DQN on `ALE/Breakout-v5` using their default hyperparameters over 100,000 training steps.\n",
    "\n",
    "### 4.1 Baseline Performance\n",
    "\n",
    "**Evaluation Metrics:**\n",
    "To compare the algorithms, we focus on the following key metrics, captured during the periodic evaluations (`EvalCallback`):\n",
    "- **Mean Episodic Reward:** The primary metric for performance, representing the average score the agent achieves over 5 evaluation episodes. We are interested in both the learning speed (how quickly this metric rises) and the final converged value.\n",
    "- **Standard Deviation of Reward:** The variance in performance across the 3 different random seeds for each algorithm. A smaller standard deviation suggests more stable and reproducible training.\n",
    "- **Wall-Clock Training Time:** The real-world time taken to complete the training for each run, providing insight into the computational cost of each algorithm.\n",
    "\n",
    "**Data Retrieval:**\n",
    "All evaluation data is fetched directly from the Weights & Bienses API to ensure consistency and access to the complete run history for all 9 baseline experiments."
   ]
  },
  {
   "cell_type": "code",
   "execution_count": 40,
   "id": "59775a03",
   "metadata": {},
   "outputs": [
    {
     "name": "stdout",
     "output_type": "stream",
     "text": [
      "Connecting to Weights & Biases API...\n"
     ]
    },
    {
     "name": "stdout",
     "output_type": "stream",
     "text": [
      "Found 9 baseline runs in project 'csc594_final_project'.\n",
      "\n",
      "Processing runs...\n",
      "  - Fetching history for run: PPO_default_seed42...\n",
      "  - Fetching history for run: PPO_default_seed43...\n",
      "  - Fetching history for run: PPO_default_seed44...\n",
      "  - Fetching history for run: A2C_default_seed42...\n",
      "  - Fetching history for run: A2C_default_seed43...\n",
      "  - Fetching history for run: A2C_default_seed44...\n",
      "  - Fetching history for run: DQN_default_seed42...\n",
      "  - Fetching history for run: DQN_default_seed43...\n",
      "  - Fetching history for run: DQN_default_seed44...\n"
     ]
    },
    {
     "name": "stderr",
     "output_type": "stream",
     "text": [
      "D:\\workdir\\Temp\\ipykernel_38152\\667416308.py:49: FutureWarning: The behavior of DataFrame concatenation with empty or all-NA entries is deprecated. In a future version, this will no longer exclude empty or all-NA columns when determining the result dtypes. To retain the old behavior, exclude the relevant entries before the concat operation.\n",
      "  full_df = pd.concat(all_runs_data, ignore_index=True)\n"
     ]
    },
    {
     "name": "stdout",
     "output_type": "stream",
     "text": [
      "\n",
      "Successfully downloaded all data and saved to: ./outputs_breakout/all_baseline_runs_data.csv\n",
      "\n",
      "--- Sample of the aggregated data (first 5 rows): ---\n"
     ]
    },
    {
     "data": {
      "text/html": [
       "<div>\n",
       "<style scoped>\n",
       "    .dataframe tbody tr th:only-of-type {\n",
       "        vertical-align: middle;\n",
       "    }\n",
       "\n",
       "    .dataframe tbody tr th {\n",
       "        vertical-align: top;\n",
       "    }\n",
       "\n",
       "    .dataframe thead th {\n",
       "        text-align: right;\n",
       "    }\n",
       "</style>\n",
       "<table border=\"1\" class=\"dataframe\">\n",
       "  <thead>\n",
       "    <tr style=\"text-align: right;\">\n",
       "      <th></th>\n",
       "      <th>train/value_loss</th>\n",
       "      <th>train/loss</th>\n",
       "      <th>train/explained_variance</th>\n",
       "      <th>rollout/ep_len_mean</th>\n",
       "      <th>train/learning_rate</th>\n",
       "      <th>eval/mean_reward</th>\n",
       "      <th>train/policy_gradient_loss</th>\n",
       "      <th>time/fps</th>\n",
       "      <th>_step</th>\n",
       "      <th>train/clip_range</th>\n",
       "      <th>...</th>\n",
       "      <th>train/entropy_loss</th>\n",
       "      <th>train/clip_fraction</th>\n",
       "      <th>_runtime</th>\n",
       "      <th>eval/mean_ep_length</th>\n",
       "      <th>_timestamp</th>\n",
       "      <th>algorithm</th>\n",
       "      <th>run_seed</th>\n",
       "      <th>run_name</th>\n",
       "      <th>train/policy_loss</th>\n",
       "      <th>rollout/exploration_rate</th>\n",
       "    </tr>\n",
       "  </thead>\n",
       "  <tbody>\n",
       "    <tr>\n",
       "      <th>0</th>\n",
       "      <td>NaN</td>\n",
       "      <td>NaN</td>\n",
       "      <td>NaN</td>\n",
       "      <td>233.61</td>\n",
       "      <td>NaN</td>\n",
       "      <td>NaN</td>\n",
       "      <td>NaN</td>\n",
       "      <td>NaN</td>\n",
       "      <td>0</td>\n",
       "      <td>NaN</td>\n",
       "      <td>...</td>\n",
       "      <td>NaN</td>\n",
       "      <td>NaN</td>\n",
       "      <td>41.911042</td>\n",
       "      <td>NaN</td>\n",
       "      <td>1.749180e+09</td>\n",
       "      <td>PPO</td>\n",
       "      <td>42</td>\n",
       "      <td>PPO_default_seed42</td>\n",
       "      <td>NaN</td>\n",
       "      <td>NaN</td>\n",
       "    </tr>\n",
       "    <tr>\n",
       "      <th>1</th>\n",
       "      <td>NaN</td>\n",
       "      <td>NaN</td>\n",
       "      <td>NaN</td>\n",
       "      <td>NaN</td>\n",
       "      <td>NaN</td>\n",
       "      <td>NaN</td>\n",
       "      <td>NaN</td>\n",
       "      <td>NaN</td>\n",
       "      <td>1</td>\n",
       "      <td>NaN</td>\n",
       "      <td>...</td>\n",
       "      <td>NaN</td>\n",
       "      <td>NaN</td>\n",
       "      <td>41.911042</td>\n",
       "      <td>NaN</td>\n",
       "      <td>1.749180e+09</td>\n",
       "      <td>PPO</td>\n",
       "      <td>42</td>\n",
       "      <td>PPO_default_seed42</td>\n",
       "      <td>NaN</td>\n",
       "      <td>NaN</td>\n",
       "    </tr>\n",
       "    <tr>\n",
       "      <th>2</th>\n",
       "      <td>NaN</td>\n",
       "      <td>NaN</td>\n",
       "      <td>NaN</td>\n",
       "      <td>NaN</td>\n",
       "      <td>NaN</td>\n",
       "      <td>NaN</td>\n",
       "      <td>NaN</td>\n",
       "      <td>224.0</td>\n",
       "      <td>2</td>\n",
       "      <td>NaN</td>\n",
       "      <td>...</td>\n",
       "      <td>NaN</td>\n",
       "      <td>NaN</td>\n",
       "      <td>41.911042</td>\n",
       "      <td>NaN</td>\n",
       "      <td>1.749180e+09</td>\n",
       "      <td>PPO</td>\n",
       "      <td>42</td>\n",
       "      <td>PPO_default_seed42</td>\n",
       "      <td>NaN</td>\n",
       "      <td>NaN</td>\n",
       "    </tr>\n",
       "    <tr>\n",
       "      <th>3</th>\n",
       "      <td>NaN</td>\n",
       "      <td>NaN</td>\n",
       "      <td>NaN</td>\n",
       "      <td>NaN</td>\n",
       "      <td>NaN</td>\n",
       "      <td>NaN</td>\n",
       "      <td>NaN</td>\n",
       "      <td>NaN</td>\n",
       "      <td>3</td>\n",
       "      <td>NaN</td>\n",
       "      <td>...</td>\n",
       "      <td>NaN</td>\n",
       "      <td>NaN</td>\n",
       "      <td>96.931949</td>\n",
       "      <td>496.4</td>\n",
       "      <td>1.749180e+09</td>\n",
       "      <td>PPO</td>\n",
       "      <td>42</td>\n",
       "      <td>PPO_default_seed42</td>\n",
       "      <td>NaN</td>\n",
       "      <td>NaN</td>\n",
       "    </tr>\n",
       "    <tr>\n",
       "      <th>4</th>\n",
       "      <td>NaN</td>\n",
       "      <td>NaN</td>\n",
       "      <td>NaN</td>\n",
       "      <td>NaN</td>\n",
       "      <td>NaN</td>\n",
       "      <td>9.0</td>\n",
       "      <td>NaN</td>\n",
       "      <td>NaN</td>\n",
       "      <td>4</td>\n",
       "      <td>NaN</td>\n",
       "      <td>...</td>\n",
       "      <td>NaN</td>\n",
       "      <td>NaN</td>\n",
       "      <td>96.931949</td>\n",
       "      <td>NaN</td>\n",
       "      <td>1.749180e+09</td>\n",
       "      <td>PPO</td>\n",
       "      <td>42</td>\n",
       "      <td>PPO_default_seed42</td>\n",
       "      <td>NaN</td>\n",
       "      <td>NaN</td>\n",
       "    </tr>\n",
       "  </tbody>\n",
       "</table>\n",
       "<p>5 rows × 23 columns</p>\n",
       "</div>"
      ],
      "text/plain": [
       "   train/value_loss  train/loss  train/explained_variance  \\\n",
       "0               NaN         NaN                       NaN   \n",
       "1               NaN         NaN                       NaN   \n",
       "2               NaN         NaN                       NaN   \n",
       "3               NaN         NaN                       NaN   \n",
       "4               NaN         NaN                       NaN   \n",
       "\n",
       "   rollout/ep_len_mean  train/learning_rate  eval/mean_reward  \\\n",
       "0               233.61                  NaN               NaN   \n",
       "1                  NaN                  NaN               NaN   \n",
       "2                  NaN                  NaN               NaN   \n",
       "3                  NaN                  NaN               NaN   \n",
       "4                  NaN                  NaN               9.0   \n",
       "\n",
       "   train/policy_gradient_loss  time/fps  _step  train/clip_range  ...  \\\n",
       "0                         NaN       NaN      0               NaN  ...   \n",
       "1                         NaN       NaN      1               NaN  ...   \n",
       "2                         NaN     224.0      2               NaN  ...   \n",
       "3                         NaN       NaN      3               NaN  ...   \n",
       "4                         NaN       NaN      4               NaN  ...   \n",
       "\n",
       "   train/entropy_loss  train/clip_fraction   _runtime  eval/mean_ep_length  \\\n",
       "0                 NaN                  NaN  41.911042                  NaN   \n",
       "1                 NaN                  NaN  41.911042                  NaN   \n",
       "2                 NaN                  NaN  41.911042                  NaN   \n",
       "3                 NaN                  NaN  96.931949                496.4   \n",
       "4                 NaN                  NaN  96.931949                  NaN   \n",
       "\n",
       "     _timestamp  algorithm  run_seed            run_name train/policy_loss  \\\n",
       "0  1.749180e+09        PPO        42  PPO_default_seed42               NaN   \n",
       "1  1.749180e+09        PPO        42  PPO_default_seed42               NaN   \n",
       "2  1.749180e+09        PPO        42  PPO_default_seed42               NaN   \n",
       "3  1.749180e+09        PPO        42  PPO_default_seed42               NaN   \n",
       "4  1.749180e+09        PPO        42  PPO_default_seed42               NaN   \n",
       "\n",
       "   rollout/exploration_rate  \n",
       "0                       NaN  \n",
       "1                       NaN  \n",
       "2                       NaN  \n",
       "3                       NaN  \n",
       "4                       NaN  \n",
       "\n",
       "[5 rows x 23 columns]"
      ]
     },
     "metadata": {},
     "output_type": "display_data"
    },
    {
     "name": "stdout",
     "output_type": "stream",
     "text": [
      "\n",
      "--- Summary of available columns: ---\n",
      "['train/value_loss', 'train/loss', 'train/explained_variance', 'rollout/ep_len_mean', 'train/learning_rate', 'eval/mean_reward', 'train/policy_gradient_loss', 'time/fps', '_step', 'train/clip_range', 'rollout/ep_rew_mean', 'global_step', 'train/approx_kl', 'train/entropy_loss', 'train/clip_fraction', '_runtime', 'eval/mean_ep_length', '_timestamp', 'algorithm', 'run_seed', 'run_name', 'train/policy_loss', 'rollout/exploration_rate']\n",
      "\n",
      "--- Example: Displaying a few rows of evaluation data ---\n"
     ]
    },
    {
     "data": {
      "text/html": [
       "<div>\n",
       "<style scoped>\n",
       "    .dataframe tbody tr th:only-of-type {\n",
       "        vertical-align: middle;\n",
       "    }\n",
       "\n",
       "    .dataframe tbody tr th {\n",
       "        vertical-align: top;\n",
       "    }\n",
       "\n",
       "    .dataframe thead th {\n",
       "        text-align: right;\n",
       "    }\n",
       "</style>\n",
       "<table border=\"1\" class=\"dataframe\">\n",
       "  <thead>\n",
       "    <tr style=\"text-align: right;\">\n",
       "      <th></th>\n",
       "      <th>_step</th>\n",
       "      <th>algorithm</th>\n",
       "      <th>run_seed</th>\n",
       "      <th>eval/mean_reward</th>\n",
       "      <th>eval/mean_ep_length</th>\n",
       "    </tr>\n",
       "  </thead>\n",
       "  <tbody>\n",
       "  </tbody>\n",
       "</table>\n",
       "</div>"
      ],
      "text/plain": [
       "Empty DataFrame\n",
       "Columns: [_step, algorithm, run_seed, eval/mean_reward, eval/mean_ep_length]\n",
       "Index: []"
      ]
     },
     "metadata": {},
     "output_type": "display_data"
    },
    {
     "name": "stdout",
     "output_type": "stream",
     "text": [
      "Loading data from ./outputs_breakout/all_baseline_runs_data.csv...\n",
      "Data loaded successfully.\n",
      "Found data for algorithms: ['PPO', 'A2C', 'DQN']\n",
      "Total rows in DataFrame: 3261\n"
     ]
    },
    {
     "data": {
      "image/png": "[encoded data removed]",
      "text/plain": [
       "<Figure size 1800x1400 with 2 Axes>"
      ]
     },
     "metadata": {},
     "output_type": "display_data"
    },
    {
     "name": "stderr",
     "output_type": "stream",
     "text": [
      "D:\\workdir\\Temp\\ipykernel_38152\\667416308.py:168: FutureWarning: The default of observed=False is deprecated and will be changed to True in a future version of pandas. Pass observed=False to retain current behavior or observed=True to adopt the future default and silence this warning.\n",
      "  avg_runtime_df = full_df[['algorithm', 'run_seed', '_runtime']].dropna().groupby(['algorithm', 'run_seed']).max().reset_index()\n"
     ]
    },
    {
     "name": "stdout",
     "output_type": "stream",
     "text": [
      "\n",
      "--- Baseline Performance Summary ---\n"
     ]
    },
    {
     "data": {
      "text/html": [
       "<div>\n",
       "<style scoped>\n",
       "    .dataframe tbody tr th:only-of-type {\n",
       "        vertical-align: middle;\n",
       "    }\n",
       "\n",
       "    .dataframe tbody tr th {\n",
       "        vertical-align: top;\n",
       "    }\n",
       "\n",
       "    .dataframe thead th {\n",
       "        text-align: right;\n",
       "    }\n",
       "</style>\n",
       "<table border=\"1\" class=\"dataframe\">\n",
       "  <thead>\n",
       "    <tr style=\"text-align: right;\">\n",
       "      <th></th>\n",
       "      <th>Peak Eval Reward (Avg over seeds)</th>\n",
       "      <th>Mean Training Time (minutes)</th>\n",
       "    </tr>\n",
       "    <tr>\n",
       "      <th>Algorithm</th>\n",
       "      <th></th>\n",
       "      <th></th>\n",
       "    </tr>\n",
       "  </thead>\n",
       "  <tbody>\n",
       "    <tr>\n",
       "      <th>PPO</th>\n",
       "      <td>14.93 ± 0.90</td>\n",
       "      <td>17.3</td>\n",
       "    </tr>\n",
       "    <tr>\n",
       "      <th>A2C</th>\n",
       "      <td>13.67 ± 4.30</td>\n",
       "      <td>9.7</td>\n",
       "    </tr>\n",
       "    <tr>\n",
       "      <th>DQN</th>\n",
       "      <td>7.40 ± nan</td>\n",
       "      <td>11.2</td>\n",
       "    </tr>\n",
       "  </tbody>\n",
       "</table>\n",
       "</div>"
      ],
      "text/plain": [
       "          Peak Eval Reward (Avg over seeds) Mean Training Time (minutes)\n",
       "Algorithm                                                               \n",
       "PPO                            14.93 ± 0.90                         17.3\n",
       "A2C                            13.67 ± 4.30                          9.7\n",
       "DQN                              7.40 ± nan                         11.2"
      ]
     },
     "metadata": {},
     "output_type": "display_data"
    }
   ],
   "source": [
    "# ==============================================================================\n",
    "#      DEFINITIVE ANALYSIS & PLOTTING CELL\n",
    "# ==============================================================================\n",
    "\n",
    "import pandas as pd\n",
    "import matplotlib.pyplot as plt\n",
    "import numpy as np\n",
    "from IPython.display import display\n",
    "\n",
    "# --- Configuration ---\n",
    "# *** PLEASE UPDATE THIS PATH with your W&B username/entity ***\n",
    "WANDB_ENTITY = \"emontel1-depaul-university\"  # <--- REPLACE WITH YOUR W&B USERNAME/ENTITY\n",
    "# WANDB_PROJECT_NAME should be available from your global setup cell\n",
    "\n",
    "# --- Connect to W&B API ---\n",
    "print(\"Connecting to Weights & Biases API...\")\n",
    "try:\n",
    "    api = wandb.Api()\n",
    "    runs_path = f\"{WANDB_ENTITY}/{WANDB_PROJECT_NAME}\"\n",
    "    \n",
    "    # Filter for the \"default\" baseline runs\n",
    "    runs = api.runs(path=runs_path, filters={\"config.run_type\": \"default\"})\n",
    "    print(f\"Found {len(runs)} baseline runs in project '{WANDB_PROJECT_NAME}'.\")\n",
    "except Exception as e:\n",
    "    print(f\"Error connecting to W&B or finding runs. Please check project path and permissions: {e}\")\n",
    "    runs = []\n",
    "\n",
    "# --- Loop Through Runs and Aggregate Data ---\n",
    "all_runs_data = []\n",
    "\n",
    "if runs:\n",
    "    print(\"\\nProcessing runs...\")\n",
    "    for run in runs:\n",
    "        print(f\"  - Fetching history for run: {run.name}...\")\n",
    "        \n",
    "        # Get all columns from the run's history\n",
    "        history_df = run.history()\n",
    "        \n",
    "        # Add config information to each row of the history DataFrame\n",
    "        # This allows us to easily filter by algorithm, seed, etc. later\n",
    "        history_df['algorithm'] = run.config.get(\"algorithm\", \"unknown\")\n",
    "        history_df['run_seed'] = run.config.get(\"run_seed\", -1)\n",
    "        history_df['run_name'] = run.name\n",
    "        \n",
    "        all_runs_data.append(history_df)\n",
    "    \n",
    "    # --- Combine all data into a single DataFrame ---\n",
    "    if all_runs_data:\n",
    "        full_df = pd.concat(all_runs_data, ignore_index=True)\n",
    "\n",
    "        # --- Save the combined data to a CSV file ---\n",
    "        csv_filename = f\"./{RESULTS_DIR}/all_baseline_runs_data.csv\"\n",
    "        full_df.to_csv(csv_filename, index=False)\n",
    "        print(f\"\\nSuccessfully downloaded all data and saved to: {csv_filename}\")\n",
    "\n",
    "        # --- Display a sample of the final DataFrame ---\n",
    "        print(\"\\n--- Sample of the aggregated data (first 5 rows): ---\")\n",
    "        from IPython.display import display\n",
    "        display(full_df.head())\n",
    "\n",
    "        print(\"\\n--- Summary of available columns: ---\")\n",
    "        print(full_df.columns.tolist())\n",
    "        \n",
    "        print(\"\\n--- Example: Displaying a few rows of evaluation data ---\")\n",
    "        eval_cols = [col for col in full_df.columns if 'eval' in col]\n",
    "        if eval_cols:\n",
    "            display(full_df[['_step', 'algorithm', 'run_seed'] + eval_cols].dropna().head())\n",
    "        else:\n",
    "            print(\"No evaluation columns found in the aggregated data.\")\n",
    "\n",
    "    else:\n",
    "        print(\"No data was aggregated.\")\n",
    "else:\n",
    "    print(\"No runs found to process.\")\n",
    "\n",
    "# --- 1. Load and Preprocess the Data from CSV ---\n",
    "# RESULTS_DIR should be available from the global setup cell\n",
    "csv_filename = f\"./{RESULTS_DIR}/all_baseline_runs_data.csv\"\n",
    "print(f\"Loading data from {csv_filename}...\")\n",
    "\n",
    "try:\n",
    "    full_df = pd.read_csv(csv_filename)\n",
    "    # Convert algorithm names to categorical for consistent ordering and plotting\n",
    "    algo_order = [\"PPO\", \"A2C\", \"DQN\"]\n",
    "    full_df['algorithm'] = pd.Categorical(full_df['algorithm'], categories=algo_order, ordered=True)\n",
    "    full_df = full_df.sort_values(by=['algorithm', 'run_seed', '_step'])\n",
    "    print(\"Data loaded successfully.\")\n",
    "    print(f\"Found data for algorithms: {full_df['algorithm'].unique().tolist()}\")\n",
    "    print(f\"Total rows in DataFrame: {len(full_df)}\")\n",
    "except FileNotFoundError:\n",
    "    print(f\"ERROR: The file {csv_filename} was not found. Please ensure the data download script has been run successfully.\")\n",
    "    full_df = pd.DataFrame() # Create empty df to avoid further errors\n",
    "\n",
    "\n",
    "# --- 2. Helper Function for Plotting ---\n",
    "def plot_metric(df, metric_col, title, ylabel, ax, is_log_scale=False):\n",
    "    \"\"\"Helper function to plot a given metric for all algorithms on a given matplotlib axis.\"\"\"\n",
    "    colors = {\"PPO\": \"dodgerblue\", \"A2C\": \"mediumseagreen\", \"DQN\": \"crimson\"}\n",
    "\n",
    "    for algo_name in df['algorithm'].unique().categories:\n",
    "        algo_df = df[df['algorithm'] == algo_name].copy()\n",
    "        \n",
    "        # Get data for the specific metric, dropping NaNs\n",
    "        metric_df = algo_df[['_step', 'run_seed', metric_col]].dropna()\n",
    "        \n",
    "        if metric_df.empty:\n",
    "            print(f\"No data for metric '{metric_col}' for algorithm '{algo_name}'. Skipping plot.\")\n",
    "            continue\n",
    "            \n",
    "        # Create a common step axis for interpolation\n",
    "        # Use min/max of actual steps for this metric to keep axis relevant\n",
    "        min_step = 0\n",
    "        max_step = df['_step'].max()\n",
    "        # Create more points for a smoother curve\n",
    "        common_steps = np.linspace(min_step, max_step, num=200)\n",
    "        \n",
    "        aligned_runs = []\n",
    "        for seed in metric_df['run_seed'].unique():\n",
    "            seed_df = metric_df[metric_df['run_seed'] == seed]\n",
    "            \n",
    "            # Interpolate each run's data onto the common step axis\n",
    "            aligned_run = np.interp(\n",
    "                common_steps,\n",
    "                seed_df['_step'],\n",
    "                seed_df[metric_col],\n",
    "                left=0,\n",
    "                right=seed_df[metric_col].iloc[-1] if not seed_df.empty else 0\n",
    "            )\n",
    "            aligned_runs.append(aligned_run)\n",
    "\n",
    "        if aligned_runs:\n",
    "            rewards_array = np.array(aligned_runs)\n",
    "            mean_values = np.mean(rewards_array, axis=0)\n",
    "            std_values = np.std(rewards_array, axis=0)\n",
    "            \n",
    "            ax.plot(common_steps, mean_values, label=f\"{algo_name}\", color=colors.get(algo_name), linewidth=2)\n",
    "            ax.fill_between(common_steps, mean_values - std_values, mean_values + std_values,\n",
    "                            alpha=0.2, color=colors.get(algo_name))\n",
    "    \n",
    "    ax.set_title(title, fontsize=14)\n",
    "    ax.set_xlabel(\"Training Timesteps\", fontsize=11)\n",
    "    ax.set_ylabel(ylabel, fontsize=11)\n",
    "    if is_log_scale:\n",
    "        ax.set_yscale('log')\n",
    "    ax.legend()\n",
    "    ax.grid(alpha=0.3)\n",
    "\n",
    "\n",
    "# --- 3. Create Subplots for Key Metrics ---\n",
    "if not full_df.empty:\n",
    "    fig, axes = plt.subplots(2, 1, figsize=(18, 14))\n",
    "    fig.suptitle('Analysis of Baseline Algorithm Performance on ALE/Breakout-v5', fontsize=20, y=1.02)\n",
    "    axes = axes.flatten()\n",
    "\n",
    "    # Plot 1: Evaluation Mean Reward (Primary Metric)\n",
    "    plot_metric(full_df, 'eval/mean_reward', 'Performance (Evaluation)', 'Mean Episodic Reward', axes[0])\n",
    "    \n",
    "    # Plot 2: Training Episodic Reward\n",
    "    plot_metric(full_df, 'rollout/ep_rew_mean', 'Learning Progress (Training)', 'Mean Episodic Reward (Rollout)', axes[1])\n",
    "\n",
    "    plt.tight_layout(rect=[0, 0.03, 1, 0.98])\n",
    "    plt.show()\n",
    "\n",
    "    # --- 4. Creating Summary Table ---\n",
    "    summary_data = []\n",
    "    \n",
    "    # Calculate average runtime from the raw data\n",
    "    avg_runtime_df = full_df[['algorithm', 'run_seed', '_runtime']].dropna().groupby(['algorithm', 'run_seed']).max().reset_index()\n",
    "    \n",
    "    for algo_name in full_df['algorithm'].unique().categories:\n",
    "        algo_df = full_df[full_df['algorithm'] == algo_name]\n",
    "        \n",
    "        # Best reward is the peak of the mean evaluation learning curve\n",
    "        eval_df = algo_df[['_step', 'run_seed', 'eval/mean_reward']].dropna()\n",
    "        if not eval_df.empty:\n",
    "            mean_of_bests = eval_df.groupby('run_seed')['eval/mean_reward'].max().mean()\n",
    "            std_of_bests = eval_df.groupby('run_seed')['eval/mean_reward'].max().std()\n",
    "            \n",
    "            mean_time_secs = avg_runtime_df[avg_runtime_df['algorithm'] == algo_name]['_runtime'].mean()\n",
    "            mean_time_mins = mean_time_secs / 60\n",
    "            \n",
    "            summary_data.append({\n",
    "                \"Algorithm\": algo_name,\n",
    "                \"Peak Eval Reward (Avg over seeds)\": f\"{mean_of_bests:.2f} ± {std_of_bests:.2f}\",\n",
    "                \"Mean Training Time (minutes)\": f\"{mean_time_mins:.1f}\"\n",
    "            })\n",
    "            \n",
    "    summary_df = pd.DataFrame(summary_data).set_index(\"Algorithm\")\n",
    "    print(\"\\n--- Baseline Performance Summary ---\")\n",
    "    display(summary_df)\n",
    "\n",
    "else:\n",
    "    print(\"DataFrame is empty, cannot generate plots or summary.\")"
   ]
  },
  {
   "cell_type": "markdown",
   "id": "74eead84",
   "metadata": {},
   "source": [
    "**Analysis of Baseline Results:**\n",
    "\n",
    "The learning curves and summary table provide several clear insights into the out-of-the-box performance of the baseline algorithms on `ALE/Breakout-v5` over 100,000 timesteps.\n",
    "\n",
    "-   **Performance and Sample Efficiency:**\n",
    "    -   **PPO** is the standout performer. It exhibits remarkable sample efficiency, achieving its peak mean evaluation reward of nearly **15** within the first few thousand training steps and maintaining it consistently. This indicates that its on-policy update mechanism is highly effective for this environment with default settings.\n",
    "    -   **A2C** also learns very quickly, nearly matching PPO's initial learning speed. However, its performance plateaus at a slightly lower mean reward of around **13.7**.\n",
    "    -   **DQN** struggles significantly with sample efficiency in this setup. For the vast majority of the training run (up to ~15,000 steps), it shows almost no learning. The sharp jump in performance at the very end suggests that learning only \"ignited\" after its replay buffer had accumulated a sufficient quantity or quality of experiences. Its final score of **7.4** is substantially lower than the on-policy methods within this training budget.\n",
    "\n",
    "-   **Training Stability and Reproducibility:**\n",
    "    -   **PPO** demonstrates exceptional stability. The very narrow shaded standard deviation band (quantified as `± 0.90` in the summary table) shows that it produces very similar, high-performing results across all three random seeds.\n",
    "    -   **A2C**, in stark contrast, is highly unstable. Despite its fast learning, the wide shaded area and large standard deviation (`± 4.30`) indicate that its final performance is highly dependent on the random seed, making it an unreliable choice out-of-the-box compared to PPO.\n",
    "    -   **DQN's** stability is difficult to assess due to its failure to learn consistently across all seeds, resulting in a `nan` standard deviation. This in itself signifies extreme instability; success is not guaranteed.\n",
    "\n",
    "-   **Computational Cost:**\n",
    "    -   **A2C** was the fastest algorithm, completing its training runs in an average of **9.7 minutes**.\n",
    "    -   **DQN** was moderately fast at **11.2 minutes**.\n",
    "    -   **PPO**, despite being the best performer, was the slowest at **17.3 minutes**, suggesting its update rule is more computationally intensive per batch of data compared to A2C.\n",
    "\n",
    "**Conclusion:**\n",
    "Based on these baseline results, **PPO is the most effective and reliable out-of-the-box algorithm** for `ALE/Breakout-v5` under these conditions. It provides the best performance and is highly stable, though it comes at a higher computational cost. A2C offers a faster but much less reliable alternative. DQN, with its default settings, is not well-suited for this task within a 100,000-step budget, requiring significantly more data or different hyperparameters to learn effectively. This provides a clear baseline for evaluating the impact of hyperparameter tuning in the next phase."
   ]
  },
  {
   "cell_type": "markdown",
   "id": "cb55f097",
   "metadata": {},
   "source": [
    "## 5. Hyperparameter Tuning with Optuna\n",
    "\n",
    "While the baseline experiments provide a useful comparison of default performance, the true potential of an algorithm is often unlocked through hyperparameter tuning. In this section, we use Optuna, an automatic hyperparameter optimization framework, to search for better configurations for PPO, A2C, and DQN on the `ALE/Breakout-v5` environment.\n",
    "\n",
    "**Optimization Goal:**\n",
    "The objective for each trial is to **maximize the best mean episodic reward** achieved during a shorter training run. Each trial will train an agent for `30,000` steps, and the performance will be evaluated periodically. The best score achieved during this evaluation period is returned to Optuna.\n",
    "\n",
    "**Hyperparameter Search Space:**\n",
    "Based on the proposal, we will tune a set of key hyperparameters for each algorithm. The search spaces are defined as follows:\n",
    "\n",
    "-   **For PPO & A2C:**\n",
    "    -   `learning_rate`: Log uniform distribution between `1e-5` and `1e-3`.\n",
    "    -   `n_steps`: The number of steps to run for each environment per update. Categorical values `[512, 1024, 2048]`.\n",
    "    -   `gamma`: The discount factor. Uniform distribution between `0.9` and `0.999`.\n",
    "    -   `gae_lambda`: The factor for Generalized Advantage Estimation. Uniform between `0.9` and `1.0`.\n",
    "    -   `ent_coef`: The entropy coefficient for exploration. Log uniform between `0.000001` and `0.1`.\n",
    "    -   `vf_coef`: The value function coefficient. Uniform between `0.2` and `0.8`.\n",
    "    -   (PPO Only) `clip_range`: The clipping parameter. Categorical values `[0.1, 0.2, 0.3]`.\n",
    "\n",
    "-   **For DQN:**\n",
    "    -   `learning_rate`: Log uniform distribution between `1e-5` and `1e-3`.\n",
    "    -   `gamma`: The discount factor. Uniform distribution between `0.9` and `0.999`.\n",
    "    -   `exploration_fraction`: The fraction of training time over which epsilon greedily decreases. Uniform between `0.05` and `0.3`.\n",
    "    -   `exploration_final_eps`: The final value of epsilon. Uniform between `0.01` and `0.2`.\n",
    "\n",
    "*Note: This adds significant complexity as it requires dynamically defining network architectures. For this project phase, we will focus on tuning the algorithmic hyperparameters first, as this is the most common form of HPO. If time permits, network size tuning could be explored.*"
   ]
  },
  {
   "cell_type": "code",
   "execution_count": 4,
   "id": "f0a7d3c0",
   "metadata": {},
   "outputs": [
    {
     "name": "stderr",
     "output_type": "stream",
     "text": [
      "[I 2025-06-06 18:07:18,895] A new study created in memory with name: no-name-4062f097-b07c-40a0-8d45-3b8499387e05\n"
     ]
    },
    {
     "name": "stdout",
     "output_type": "stream",
     "text": [
      "\n",
      "==================== Starting Optuna HPO for DQN ====================\n",
      "Eval num_timesteps=5000, episode_reward=3.00 +/- 0.00\n",
      "Episode length: 265.20 +/- 9.58\n",
      "New best mean reward!\n",
      "Eval num_timesteps=10000, episode_reward=5.20 +/- 2.23\n",
      "Episode length: 344.00 +/- 83.95\n",
      "New best mean reward!\n",
      "Eval num_timesteps=15000, episode_reward=0.80 +/- 1.60\n",
      "Episode length: 203.60 +/- 69.93\n",
      "Eval num_timesteps=20000, episode_reward=1.60 +/- 1.50\n",
      "Episode length: 226.20 +/- 62.18\n",
      "Eval num_timesteps=25000, episode_reward=0.60 +/- 0.80\n",
      "Episode length: 185.40 +/- 28.65\n"
     ]
    },
    {
     "name": "stderr",
     "output_type": "stream",
     "text": [
      "[I 2025-06-06 18:09:59,825] Trial 0 finished with value: 5.2 and parameters: {'learning_rate': 0.0009183934914569815, 'gamma': 0.9241790666083083, 'exploration_fraction': 0.32790150062495377, 'exploration_final_eps': 0.06935168401946526}. Best is trial 0 with value: 5.2.\n"
     ]
    },
    {
     "name": "stdout",
     "output_type": "stream",
     "text": [
      "Eval num_timesteps=30000, episode_reward=0.00 +/- 0.00\n",
      "Episode length: 159.80 +/- 6.34\n",
      "Eval num_timesteps=5000, episode_reward=4.00 +/- 1.55\n",
      "Episode length: 289.40 +/- 47.52\n",
      "New best mean reward!\n",
      "Eval num_timesteps=10000, episode_reward=3.40 +/- 2.06\n",
      "Episode length: 247.80 +/- 36.62\n",
      "Eval num_timesteps=15000, episode_reward=0.80 +/- 0.75\n",
      "Episode length: 207.60 +/- 38.23\n",
      "Eval num_timesteps=20000, episode_reward=5.80 +/- 2.48\n",
      "Episode length: 360.40 +/- 54.48\n",
      "New best mean reward!\n",
      "Eval num_timesteps=25000, episode_reward=2.20 +/- 1.17\n",
      "Episode length: 253.40 +/- 53.21\n"
     ]
    },
    {
     "name": "stderr",
     "output_type": "stream",
     "text": [
      "[I 2025-06-06 18:12:46,992] Trial 1 finished with value: 5.8 and parameters: {'learning_rate': 0.00042537817985593046, 'gamma': 0.9826345548353408, 'exploration_fraction': 0.17317417242151195, 'exploration_final_eps': 0.06223803802326163}. Best is trial 1 with value: 5.8.\n"
     ]
    },
    {
     "name": "stdout",
     "output_type": "stream",
     "text": [
      "Eval num_timesteps=30000, episode_reward=1.60 +/- 1.50\n",
      "Episode length: 232.80 +/- 68.52\n",
      "Eval num_timesteps=5000, episode_reward=5.40 +/- 1.96\n",
      "Episode length: 299.20 +/- 64.92\n",
      "New best mean reward!\n",
      "Eval num_timesteps=10000, episode_reward=3.20 +/- 0.75\n",
      "Episode length: 280.80 +/- 33.31\n",
      "Eval num_timesteps=15000, episode_reward=2.00 +/- 0.63\n",
      "Episode length: 242.00 +/- 18.36\n",
      "Eval num_timesteps=20000, episode_reward=2.00 +/- 0.00\n",
      "Episode length: 243.60 +/- 3.38\n",
      "Eval num_timesteps=25000, episode_reward=1.00 +/- 0.00\n",
      "Episode length: 189.00 +/- 6.57\n"
     ]
    },
    {
     "name": "stderr",
     "output_type": "stream",
     "text": [
      "[I 2025-06-06 18:15:24,443] Trial 2 finished with value: 5.4 and parameters: {'learning_rate': 0.0001454250991153454, 'gamma': 0.9283436931528815, 'exploration_fraction': 0.42368761952732076, 'exploration_final_eps': 0.11582645749622922}. Best is trial 1 with value: 5.8.\n"
     ]
    },
    {
     "name": "stdout",
     "output_type": "stream",
     "text": [
      "Eval num_timesteps=30000, episode_reward=5.40 +/- 2.42\n",
      "Episode length: 355.00 +/- 88.07\n",
      "Eval num_timesteps=5000, episode_reward=1.40 +/- 1.20\n",
      "Episode length: 216.00 +/- 46.34\n",
      "New best mean reward!\n",
      "Eval num_timesteps=10000, episode_reward=2.20 +/- 0.40\n",
      "Episode length: 240.40 +/- 26.73\n",
      "New best mean reward!\n",
      "Eval num_timesteps=15000, episode_reward=1.20 +/- 0.98\n",
      "Episode length: 215.60 +/- 30.23\n",
      "Eval num_timesteps=20000, episode_reward=0.80 +/- 0.98\n",
      "Episode length: 194.60 +/- 30.78\n",
      "Eval num_timesteps=25000, episode_reward=0.20 +/- 0.40\n",
      "Episode length: 181.40 +/- 15.97\n"
     ]
    },
    {
     "name": "stderr",
     "output_type": "stream",
     "text": [
      "[I 2025-06-06 18:18:00,189] Trial 3 finished with value: 2.2 and parameters: {'learning_rate': 7.156692827567231e-05, 'gamma': 0.9122283273202378, 'exploration_fraction': 0.2894973917001031, 'exploration_final_eps': 0.07949939460318439}. Best is trial 1 with value: 5.8.\n"
     ]
    },
    {
     "name": "stdout",
     "output_type": "stream",
     "text": [
      "Eval num_timesteps=30000, episode_reward=0.80 +/- 0.98\n",
      "Episode length: 196.40 +/- 31.16\n",
      "Eval num_timesteps=5000, episode_reward=1.00 +/- 0.63\n",
      "Episode length: 212.00 +/- 32.94\n",
      "New best mean reward!\n",
      "Eval num_timesteps=10000, episode_reward=2.60 +/- 0.49\n",
      "Episode length: 240.40 +/- 17.50\n",
      "New best mean reward!\n",
      "Eval num_timesteps=15000, episode_reward=2.20 +/- 0.75\n",
      "Episode length: 225.80 +/- 22.89\n",
      "Eval num_timesteps=20000, episode_reward=1.40 +/- 1.74\n",
      "Episode length: 223.60 +/- 76.81\n",
      "Eval num_timesteps=25000, episode_reward=2.60 +/- 0.80\n",
      "Episode length: 263.40 +/- 42.78\n"
     ]
    },
    {
     "name": "stderr",
     "output_type": "stream",
     "text": [
      "[I 2025-06-06 18:20:36,788] Trial 4 finished with value: 2.6 and parameters: {'learning_rate': 0.00023355334237083804, 'gamma': 0.9378628677640479, 'exploration_fraction': 0.4228053069403048, 'exploration_final_eps': 0.05516070827367861}. Best is trial 1 with value: 5.8.\n",
      "[I 2025-06-06 18:20:36,788] A new study created in memory with name: no-name-9b8df0aa-af91-4b27-8abf-9c896557ccd2\n"
     ]
    },
    {
     "name": "stdout",
     "output_type": "stream",
     "text": [
      "Eval num_timesteps=30000, episode_reward=2.20 +/- 0.40\n",
      "Episode length: 258.00 +/- 17.01\n",
      "Finished HPO for DQN.\n",
      "Best trial for DQN:\n",
      "  Value (Best Mean Reward): 5.8000\n",
      "  Best Hyperparameters:\n",
      "    learning_rate: 0.00042537817985593046\n",
      "    gamma: 0.9826345548353408\n",
      "    exploration_fraction: 0.17317417242151195\n",
      "    exploration_final_eps: 0.06223803802326163\n",
      "\n",
      "==================== Starting Optuna HPO for PPO ====================\n",
      "Eval num_timesteps=5000, episode_reward=1.20 +/- 0.98\n",
      "Episode length: 213.00 +/- 40.56\n",
      "New best mean reward!\n",
      "Eval num_timesteps=10000, episode_reward=1.20 +/- 1.47\n",
      "Episode length: 216.60 +/- 56.61\n",
      "Eval num_timesteps=15000, episode_reward=2.40 +/- 1.20\n",
      "Episode length: 272.80 +/- 57.55\n",
      "New best mean reward!\n",
      "Eval num_timesteps=20000, episode_reward=6.80 +/- 2.86\n",
      "Episode length: 371.40 +/- 60.90\n",
      "New best mean reward!\n",
      "Eval num_timesteps=25000, episode_reward=5.20 +/- 1.17\n",
      "Episode length: 374.80 +/- 47.66\n",
      "Eval num_timesteps=30000, episode_reward=7.60 +/- 2.65\n",
      "Episode length: 426.80 +/- 70.97\n",
      "New best mean reward!\n"
     ]
    },
    {
     "name": "stderr",
     "output_type": "stream",
     "text": [
      "[I 2025-06-06 18:24:51,066] Trial 0 finished with value: 7.6 and parameters: {'learning_rate': 5.191849869357081e-05, 'n_steps': 256, 'gamma': 0.9703912695912903, 'gae_lambda': 0.9414996115014377, 'ent_coef': 0.008106404152772135, 'vf_coef': 0.23694011997747963, 'clip_range': 0.2}. Best is trial 0 with value: 7.6.\n"
     ]
    },
    {
     "name": "stdout",
     "output_type": "stream",
     "text": [
      "Eval num_timesteps=5000, episode_reward=7.20 +/- 1.33\n",
      "Episode length: 420.20 +/- 59.19\n",
      "New best mean reward!\n",
      "Eval num_timesteps=10000, episode_reward=8.40 +/- 1.02\n",
      "Episode length: 471.40 +/- 51.09\n",
      "New best mean reward!\n",
      "Eval num_timesteps=15000, episode_reward=9.40 +/- 0.80\n",
      "Episode length: 512.40 +/- 43.44\n",
      "New best mean reward!\n",
      "Eval num_timesteps=20000, episode_reward=10.40 +/- 3.20\n",
      "Episode length: 514.60 +/- 90.35\n",
      "New best mean reward!\n",
      "Eval num_timesteps=25000, episode_reward=15.20 +/- 3.43\n",
      "Episode length: 661.40 +/- 57.94\n",
      "New best mean reward!\n",
      "Eval num_timesteps=30000, episode_reward=12.60 +/- 2.50\n",
      "Episode length: 587.00 +/- 44.48\n"
     ]
    },
    {
     "name": "stderr",
     "output_type": "stream",
     "text": [
      "[I 2025-06-06 18:29:17,960] Trial 1 finished with value: 15.2 and parameters: {'learning_rate': 0.0005841845095840094, 'n_steps': 512, 'gamma': 0.9863689945673807, 'gae_lambda': 0.9861386132512893, 'ent_coef': 0.009561895499125063, 'vf_coef': 0.6671975812991449, 'clip_range': 0.3}. Best is trial 1 with value: 15.2.\n"
     ]
    },
    {
     "name": "stdout",
     "output_type": "stream",
     "text": [
      "Eval num_timesteps=5000, episode_reward=4.40 +/- 0.80\n",
      "Episode length: 315.60 +/- 26.84\n",
      "New best mean reward!\n",
      "Eval num_timesteps=10000, episode_reward=10.00 +/- 2.28\n",
      "Episode length: 554.60 +/- 108.79\n",
      "New best mean reward!\n",
      "Eval num_timesteps=15000, episode_reward=10.40 +/- 3.38\n",
      "Episode length: 559.20 +/- 155.67\n",
      "New best mean reward!\n",
      "Eval num_timesteps=20000, episode_reward=9.60 +/- 2.87\n",
      "Episode length: 507.20 +/- 120.49\n",
      "Eval num_timesteps=25000, episode_reward=11.60 +/- 3.88\n",
      "Episode length: 561.00 +/- 124.57\n",
      "New best mean reward!\n",
      "Eval num_timesteps=30000, episode_reward=12.20 +/- 2.14\n",
      "Episode length: 568.60 +/- 35.29\n",
      "New best mean reward!\n"
     ]
    },
    {
     "name": "stderr",
     "output_type": "stream",
     "text": [
      "[I 2025-06-06 18:33:53,573] Trial 2 finished with value: 12.2 and parameters: {'learning_rate': 0.0007883096309691856, 'n_steps': 256, 'gamma': 0.9467912392387938, 'gae_lambda': 0.909285371848311, 'ent_coef': 0.011237603555586468, 'vf_coef': 0.7556904482870683, 'clip_range': 0.1}. Best is trial 1 with value: 15.2.\n"
     ]
    },
    {
     "name": "stdout",
     "output_type": "stream",
     "text": [
      "Eval num_timesteps=5000, episode_reward=1.40 +/- 1.20\n",
      "Episode length: 216.00 +/- 46.34\n",
      "New best mean reward!\n",
      "Eval num_timesteps=10000, episode_reward=7.20 +/- 2.79\n",
      "Episode length: 415.80 +/- 71.76\n",
      "New best mean reward!\n",
      "Eval num_timesteps=15000, episode_reward=10.40 +/- 2.87\n",
      "Episode length: 533.00 +/- 91.78\n",
      "New best mean reward!\n",
      "Eval num_timesteps=20000, episode_reward=13.80 +/- 3.12\n",
      "Episode length: 608.00 +/- 74.06\n",
      "New best mean reward!\n",
      "Eval num_timesteps=25000, episode_reward=14.00 +/- 1.10\n",
      "Episode length: 670.40 +/- 67.82\n",
      "New best mean reward!\n",
      "Eval num_timesteps=30000, episode_reward=12.60 +/- 1.36\n",
      "Episode length: 624.00 +/- 37.13\n"
     ]
    },
    {
     "name": "stderr",
     "output_type": "stream",
     "text": [
      "[I 2025-06-06 18:38:00,889] Trial 3 finished with value: 14.0 and parameters: {'learning_rate': 0.00018709602214132367, 'n_steps': 512, 'gamma': 0.9972149528028258, 'gae_lambda': 0.9280128648643932, 'ent_coef': 1.2706044750531561e-05, 'vf_coef': 0.2905561228184611, 'clip_range': 0.3}. Best is trial 1 with value: 15.2.\n"
     ]
    },
    {
     "name": "stdout",
     "output_type": "stream",
     "text": [
      "Eval num_timesteps=5000, episode_reward=5.40 +/- 3.26\n",
      "Episode length: 329.20 +/- 52.81\n",
      "New best mean reward!\n",
      "Eval num_timesteps=10000, episode_reward=3.80 +/- 1.72\n",
      "Episode length: 305.60 +/- 35.87\n",
      "Eval num_timesteps=15000, episode_reward=4.40 +/- 2.15\n",
      "Episode length: 316.20 +/- 45.79\n",
      "Eval num_timesteps=20000, episode_reward=5.60 +/- 2.65\n",
      "Episode length: 338.20 +/- 71.46\n",
      "New best mean reward!\n",
      "Eval num_timesteps=25000, episode_reward=4.80 +/- 0.98\n",
      "Episode length: 365.40 +/- 46.74\n",
      "Eval num_timesteps=30000, episode_reward=5.60 +/- 0.80\n",
      "Episode length: 377.00 +/- 18.89\n"
     ]
    },
    {
     "name": "stderr",
     "output_type": "stream",
     "text": [
      "[I 2025-06-06 18:42:34,727] Trial 4 finished with value: 5.6 and parameters: {'learning_rate': 3.21529249424471e-05, 'n_steps': 1024, 'gamma': 0.9641448284328396, 'gae_lambda': 0.9288373182834493, 'ent_coef': 6.742149329823791e-08, 'vf_coef': 0.3395404309979971, 'clip_range': 0.1}. Best is trial 1 with value: 15.2.\n",
      "[I 2025-06-06 18:42:34,731] A new study created in memory with name: no-name-31e7c266-ee76-4514-9edf-130277bad842\n"
     ]
    },
    {
     "name": "stdout",
     "output_type": "stream",
     "text": [
      "Finished HPO for PPO.\n",
      "Best trial for PPO:\n",
      "  Value (Best Mean Reward): 15.2000\n",
      "  Best Hyperparameters:\n",
      "    learning_rate: 0.0005841845095840094\n",
      "    n_steps: 512\n",
      "    gamma: 0.9863689945673807\n",
      "    gae_lambda: 0.9861386132512893\n",
      "    ent_coef: 0.009561895499125063\n",
      "    vf_coef: 0.6671975812991449\n",
      "    clip_range: 0.3\n",
      "\n",
      "==================== Starting Optuna HPO for A2C ====================\n",
      "Eval num_timesteps=5000, episode_reward=1.20 +/- 0.98\n",
      "Episode length: 213.00 +/- 40.56\n",
      "New best mean reward!\n",
      "Eval num_timesteps=10000, episode_reward=1.20 +/- 1.47\n",
      "Episode length: 216.60 +/- 56.61\n",
      "Eval num_timesteps=15000, episode_reward=1.20 +/- 0.98\n",
      "Episode length: 212.20 +/- 35.46\n",
      "Eval num_timesteps=20000, episode_reward=1.00 +/- 1.26\n",
      "Episode length: 202.00 +/- 49.34\n",
      "Eval num_timesteps=25000, episode_reward=1.20 +/- 0.98\n",
      "Episode length: 214.00 +/- 32.04\n",
      "Eval num_timesteps=30000, episode_reward=0.00 +/- 0.00\n",
      "Episode length: 161.40 +/- 7.58\n"
     ]
    },
    {
     "name": "stderr",
     "output_type": "stream",
     "text": [
      "[I 2025-06-06 18:44:40,715] Trial 0 finished with value: 1.2 and parameters: {'learning_rate': 0.0007635625715973203, 'n_steps': 512, 'gamma': 0.9514277992751681, 'gae_lambda': 0.9061559691763516, 'ent_coef': 3.194047422462731e-05, 'vf_coef': 0.22058539260508395}. Best is trial 0 with value: 1.2.\n"
     ]
    },
    {
     "name": "stdout",
     "output_type": "stream",
     "text": [
      "Eval num_timesteps=5000, episode_reward=6.20 +/- 1.83\n",
      "Episode length: 291.60 +/- 8.40\n",
      "New best mean reward!\n",
      "Eval num_timesteps=10000, episode_reward=6.20 +/- 1.60\n",
      "Episode length: 353.80 +/- 72.50\n",
      "Eval num_timesteps=15000, episode_reward=5.80 +/- 1.94\n",
      "Episode length: 287.20 +/- 18.64\n",
      "Eval num_timesteps=20000, episode_reward=5.20 +/- 1.94\n",
      "Episode length: 303.00 +/- 52.95\n",
      "Eval num_timesteps=25000, episode_reward=4.60 +/- 1.96\n",
      "Episode length: 316.20 +/- 84.63\n",
      "Eval num_timesteps=30000, episode_reward=6.20 +/- 1.60\n",
      "Episode length: 333.00 +/- 69.99\n"
     ]
    },
    {
     "name": "stderr",
     "output_type": "stream",
     "text": [
      "[I 2025-06-06 18:46:51,499] Trial 1 finished with value: 6.2 and parameters: {'learning_rate': 1.004534576922661e-05, 'n_steps': 512, 'gamma': 0.9363502427557402, 'gae_lambda': 0.9162014249926883, 'ent_coef': 0.0001788751102911565, 'vf_coef': 0.661311584767128}. Best is trial 1 with value: 6.2.\n"
     ]
    },
    {
     "name": "stdout",
     "output_type": "stream",
     "text": [
      "Eval num_timesteps=5000, episode_reward=1.60 +/- 1.36\n",
      "Episode length: 232.00 +/- 45.25\n",
      "New best mean reward!\n",
      "Eval num_timesteps=10000, episode_reward=1.40 +/- 1.20\n",
      "Episode length: 223.20 +/- 50.65\n",
      "Eval num_timesteps=15000, episode_reward=2.00 +/- 1.10\n",
      "Episode length: 250.60 +/- 40.88\n",
      "New best mean reward!\n",
      "Eval num_timesteps=20000, episode_reward=1.40 +/- 1.20\n",
      "Episode length: 225.80 +/- 50.03\n",
      "Eval num_timesteps=25000, episode_reward=1.60 +/- 1.36\n",
      "Episode length: 234.80 +/- 56.80\n",
      "Eval num_timesteps=30000, episode_reward=2.60 +/- 0.80\n",
      "Episode length: 275.80 +/- 44.96\n",
      "New best mean reward!\n"
     ]
    },
    {
     "name": "stderr",
     "output_type": "stream",
     "text": [
      "[I 2025-06-06 18:49:06,089] Trial 2 finished with value: 2.6 and parameters: {'learning_rate': 8.636016583843559e-05, 'n_steps': 1024, 'gamma': 0.9712136836542277, 'gae_lambda': 0.9370454418233543, 'ent_coef': 0.024617215618577593, 'vf_coef': 0.591477488178442}. Best is trial 1 with value: 6.2.\n"
     ]
    },
    {
     "name": "stdout",
     "output_type": "stream",
     "text": [
      "Eval num_timesteps=5000, episode_reward=1.40 +/- 1.20\n",
      "Episode length: 216.00 +/- 46.34\n",
      "New best mean reward!\n",
      "Eval num_timesteps=10000, episode_reward=1.80 +/- 0.98\n",
      "Episode length: 227.60 +/- 37.28\n",
      "New best mean reward!\n",
      "Eval num_timesteps=15000, episode_reward=1.40 +/- 1.20\n",
      "Episode length: 225.80 +/- 48.67\n",
      "Eval num_timesteps=20000, episode_reward=2.20 +/- 1.33\n",
      "Episode length: 252.20 +/- 59.10\n",
      "New best mean reward!\n",
      "Eval num_timesteps=25000, episode_reward=1.60 +/- 1.50\n",
      "Episode length: 235.00 +/- 64.72\n",
      "Eval num_timesteps=30000, episode_reward=1.80 +/- 0.98\n",
      "Episode length: 234.80 +/- 30.41\n"
     ]
    },
    {
     "name": "stderr",
     "output_type": "stream",
     "text": [
      "[I 2025-06-06 18:51:27,266] Trial 3 finished with value: 2.2 and parameters: {'learning_rate': 0.0001720020617200689, 'n_steps': 2048, 'gamma': 0.9152279271588247, 'gae_lambda': 0.9272432324426806, 'ent_coef': 0.00038801209920363285, 'vf_coef': 0.25759251655922477}. Best is trial 1 with value: 6.2.\n"
     ]
    },
    {
     "name": "stdout",
     "output_type": "stream",
     "text": [
      "Eval num_timesteps=5000, episode_reward=4.60 +/- 2.06\n",
      "Episode length: 316.20 +/- 78.61\n",
      "New best mean reward!\n",
      "Eval num_timesteps=10000, episode_reward=7.80 +/- 3.06\n",
      "Episode length: 338.40 +/- 67.14\n",
      "New best mean reward!\n",
      "Eval num_timesteps=15000, episode_reward=4.20 +/- 2.48\n",
      "Episode length: 282.80 +/- 67.29\n",
      "Eval num_timesteps=20000, episode_reward=1.40 +/- 1.20\n",
      "Episode length: 217.20 +/- 45.93\n",
      "Eval num_timesteps=25000, episode_reward=2.60 +/- 0.49\n",
      "Episode length: 240.00 +/- 32.32\n",
      "Eval num_timesteps=30000, episode_reward=2.40 +/- 0.49\n",
      "Episode length: 230.80 +/- 24.86\n"
     ]
    },
    {
     "name": "stderr",
     "output_type": "stream",
     "text": [
      "[I 2025-06-06 18:53:46,729] Trial 4 finished with value: 7.8 and parameters: {'learning_rate': 0.00016898992226498254, 'n_steps': 2048, 'gamma': 0.9242081205860428, 'gae_lambda': 0.9145112513635818, 'ent_coef': 0.0033617098385292274, 'vf_coef': 0.35624330430716744}. Best is trial 4 with value: 7.8.\n"
     ]
    },
    {
     "name": "stdout",
     "output_type": "stream",
     "text": [
      "Finished HPO for A2C.\n",
      "Best trial for A2C:\n",
      "  Value (Best Mean Reward): 7.8000\n",
      "  Best Hyperparameters:\n",
      "    learning_rate: 0.00016898992226498254\n",
      "    n_steps: 2048\n",
      "    gamma: 0.9242081205860428\n",
      "    gae_lambda: 0.9145112513635818\n",
      "    ent_coef: 0.0033617098385292274\n",
      "    vf_coef: 0.35624330430716744\n",
      "\n",
      "==================== All HPO Studies Completed ====================\n"
     ]
    }
   ],
   "source": [
    "# Ensure global variables from Section 0 are available\n",
    "# ENV_ID, POLICY_TYPE, SEED, DEVICE, N_OPTUNA_TRIALS_PER_ALGO, etc.\n",
    "\n",
    "# --- HPO Configuration ---\n",
    "# Train for fewer steps during HPO to make trials faster\n",
    "N_STEPS_PER_TRIAL = 30000\n",
    "# Evaluate more frequently during HPO\n",
    "EVAL_FREQ_HPO = 5000\n",
    "N_EVAL_EPISODES_HPO = 5\n",
    "\n",
    "# --- Objective Function for Optuna ---\n",
    "def objective(trial: optuna.Trial, algo_name: str) -> float:\n",
    "    \"\"\"\n",
    "    Defines a single trial for hyperparameter optimization.\n",
    "    Trains an agent with suggested HPs and returns its best performance.\n",
    "    \"\"\"\n",
    "    \n",
    "    # 1. Suggest hyperparameters for the trial\n",
    "    if algo_name == \"DQN\":\n",
    "        # DQN specific hyperparameters\n",
    "        learning_rate = trial.suggest_float(\"learning_rate\", 1e-5, 1e-3, log=True)\n",
    "        gamma = trial.suggest_float(\"gamma\", 0.9, 0.999)\n",
    "        exploration_fraction = trial.suggest_float(\"exploration_fraction\", 0.05, 0.5)\n",
    "        exploration_final_eps = trial.suggest_float(\"exploration_final_eps\", 0.01, 0.2)\n",
    "        # For simplicity, we keep other DQN params like buffer_size fixed during HPO\n",
    "        hyperparams = {\n",
    "            \"learning_rate\": learning_rate,\n",
    "            \"gamma\": gamma,\n",
    "            \"exploration_fraction\": exploration_fraction,\n",
    "            \"exploration_final_eps\": exploration_final_eps,\n",
    "            \"buffer_size\": 50000,  # smaller buffer for HPO\n",
    "            \"learning_starts\": 1000  # Also reduce learning_starts for shorter trials\n",
    "        }\n",
    "    else: # PPO or A2C\n",
    "        learning_rate = trial.suggest_float(\"learning_rate\", 1e-5, 1e-3, log=True)\n",
    "        n_steps = trial.suggest_categorical(\"n_steps\", [256, 512, 1024, 2048])\n",
    "        gamma = trial.suggest_float(\"gamma\", 0.9, 0.999)\n",
    "        gae_lambda = trial.suggest_float(\"gae_lambda\", 0.9, 1.0)\n",
    "        ent_coef = trial.suggest_float(\"ent_coef\", 1e-8, 0.1, log=True)\n",
    "        vf_coef = trial.suggest_float(\"vf_coef\", 0.2, 0.8)\n",
    "        hyperparams = {\n",
    "            \"learning_rate\": learning_rate,\n",
    "            \"n_steps\": n_steps,\n",
    "            \"gamma\": gamma,\n",
    "            \"gae_lambda\": gae_lambda,\n",
    "            \"ent_coef\": ent_coef,\n",
    "            \"vf_coef\": vf_coef,\n",
    "        }\n",
    "        if algo_name == \"PPO\":\n",
    "            hyperparams[\"clip_range\"] = trial.suggest_categorical(\"clip_range\", [0.1, 0.2, 0.3])\n",
    "    \n",
    "    # 2. Create environment for this trial\n",
    "    # Use a different seed for each trial to avoid just optimizing for one seed\n",
    "    trial_seed = SEED + trial.number\n",
    "    train_env_hpo = make_atari_env(ENV_ID, n_envs=N_ENVS_ATARI, seed=trial_seed)\n",
    "    train_env_hpo = VecFrameStack(train_env_hpo, n_stack=FRAME_STACK_ATARI)\n",
    "\n",
    "    eval_env_hpo = make_atari_env(ENV_ID, n_envs=1, seed=trial_seed)\n",
    "    eval_env_hpo = VecFrameStack(eval_env_hpo, n_stack=FRAME_STACK_ATARI)\n",
    "\n",
    "    # 3. Create the RL model with suggested hyperparameters\n",
    "    AlgoClass = {\"PPO\": PPO, \"A2C\": A2C, \"DQN\": DQN}[algo_name]\n",
    "    model = AlgoClass(\n",
    "        POLICY_TYPE,\n",
    "        train_env_hpo,\n",
    "        seed=trial_seed,\n",
    "        device=DEVICE,\n",
    "        tensorboard_log=None, # Disable tensorboard for HPO runs to keep it clean\n",
    "        verbose=0,\n",
    "        **hyperparams\n",
    "    )\n",
    "    \n",
    "    # 4. Set up evaluation callback\n",
    "    eval_callback_hpo = EvalCallback(\n",
    "        eval_env_hpo,\n",
    "        eval_freq=max(EVAL_FREQ_HPO // N_ENVS_ATARI, 1),\n",
    "        n_eval_episodes=N_EVAL_EPISODES_HPO,\n",
    "        deterministic=True,\n",
    "        # The objective function will return the best mean reward found\n",
    "        # No need to save best model during HPO\n",
    "        best_model_save_path=None\n",
    "    )\n",
    "    \n",
    "    # 5. Train and evaluate\n",
    "    best_mean_reward = -np.inf\n",
    "    try:\n",
    "        model.learn(total_timesteps=N_STEPS_PER_TRIAL, callback=eval_callback_hpo, progress_bar=False)\n",
    "        # After learning, the best reward is stored in the callback\n",
    "        best_mean_reward = eval_callback_hpo.best_mean_reward\n",
    "    except Exception as e:\n",
    "        print(f\"Trial {trial.number} for {algo_name} failed: {e}\")\n",
    "        # Prune this trial by returning a very bad value\n",
    "        return -1.0 \n",
    "    finally:\n",
    "        # Clean up environments\n",
    "        train_env_hpo.close()\n",
    "        eval_env_hpo.close()\n",
    "    \n",
    "    # 6. Report result to Optuna\n",
    "    # Optuna will try to maximize this value\n",
    "    return best_mean_reward\n",
    "\n",
    "\n",
    "# --- Main Optuna Study Loop ---\n",
    "optuna_studies = {}\n",
    "\n",
    "for algo_name in [\"DQN\", \"PPO\", \"A2C\"]: # As per your proposal\n",
    "    print(f\"\\n{'='*20} Starting Optuna HPO for {algo_name} {'='*20}\")\n",
    "    \n",
    "    # Create a new study with a pruner\n",
    "    # The pruner can stop unpromising trials early\n",
    "    study = optuna.create_study(\n",
    "        direction=\"maximize\",\n",
    "        pruner=optuna.pruners.MedianPruner(n_warmup_steps=5) # Prune after 5 evaluations if not promising\n",
    "    )\n",
    "    \n",
    "    # The lambda function is used to pass the algo_name to the objective function\n",
    "    study.optimize(lambda trial: objective(trial, algo_name), n_trials=N_OPTUNA_TRIALS_PER_ALGO, n_jobs=1) # n_jobs=1 for sequential trials\n",
    "    \n",
    "    optuna_studies[algo_name] = study\n",
    "    \n",
    "    print(f\"Finished HPO for {algo_name}.\")\n",
    "    print(f\"Best trial for {algo_name}:\")\n",
    "    print(f\"  Value (Best Mean Reward): {study.best_trial.value:.4f}\")\n",
    "    print(\"  Best Hyperparameters:\")\n",
    "    for key, value in study.best_trial.params.items():\n",
    "        print(f\"    {key}: {value}\")\n",
    "\n",
    "print(f\"\\n{'='*20} All HPO Studies Completed {'='*20}\")"
   ]
  }
 ],
 "metadata": {
  "kernelspec": {
   "display_name": ".venv",
   "language": "python",
   "name": "python3"
  },
  "language_info": {
   "codemirror_mode": {
    "name": "ipython",
    "version": 3
   },
   "file_extension": ".py",
   "mimetype": "text/x-python",
   "name": "python",
   "nbconvert_exporter": "python",
   "pygments_lexer": "ipython3",
   "version": "3.11.9"
  }
 },
 "nbformat": 4,
 "nbformat_minor": 5
}
